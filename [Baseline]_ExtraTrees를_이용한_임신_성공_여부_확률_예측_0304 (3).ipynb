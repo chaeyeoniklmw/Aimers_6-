{
  "cells": [
    {
      "cell_type": "markdown",
      "source": [
        "### Pip\n",
        "\n"
      ],
      "metadata": {
        "id": "L2Onqm6bJ_40"
      }
    },
    {
      "cell_type": "code",
      "source": [
        "!pip install optuna\n",
        "!pip install catboost"
      ],
      "metadata": {
        "colab": {
          "base_uri": "https://localhost:8080/"
        },
        "id": "5Z1tXOHZKEnM",
        "outputId": "7edc9524-40fa-46a7-8361-453ffe8ae0af"
      },
      "execution_count": null,
      "outputs": [
        {
          "output_type": "stream",
          "name": "stdout",
          "text": [
            "Requirement already satisfied: optuna in /usr/local/lib/python3.11/dist-packages (4.2.1)\n",
            "Requirement already satisfied: alembic>=1.5.0 in /usr/local/lib/python3.11/dist-packages (from optuna) (1.14.1)\n",
            "Requirement already satisfied: colorlog in /usr/local/lib/python3.11/dist-packages (from optuna) (6.9.0)\n",
            "Requirement already satisfied: numpy in /usr/local/lib/python3.11/dist-packages (from optuna) (1.26.4)\n",
            "Requirement already satisfied: packaging>=20.0 in /usr/local/lib/python3.11/dist-packages (from optuna) (24.2)\n",
            "Requirement already satisfied: sqlalchemy>=1.4.2 in /usr/local/lib/python3.11/dist-packages (from optuna) (2.0.38)\n",
            "Requirement already satisfied: tqdm in /usr/local/lib/python3.11/dist-packages (from optuna) (4.67.1)\n",
            "Requirement already satisfied: PyYAML in /usr/local/lib/python3.11/dist-packages (from optuna) (6.0.2)\n",
            "Requirement already satisfied: Mako in /usr/local/lib/python3.11/dist-packages (from alembic>=1.5.0->optuna) (1.3.9)\n",
            "Requirement already satisfied: typing-extensions>=4 in /usr/local/lib/python3.11/dist-packages (from alembic>=1.5.0->optuna) (4.12.2)\n",
            "Requirement already satisfied: greenlet!=0.4.17 in /usr/local/lib/python3.11/dist-packages (from sqlalchemy>=1.4.2->optuna) (3.1.1)\n",
            "Requirement already satisfied: MarkupSafe>=0.9.2 in /usr/local/lib/python3.11/dist-packages (from Mako->alembic>=1.5.0->optuna) (3.0.2)\n",
            "Requirement already satisfied: catboost in /usr/local/lib/python3.11/dist-packages (1.2.7)\n",
            "Requirement already satisfied: graphviz in /usr/local/lib/python3.11/dist-packages (from catboost) (0.20.3)\n",
            "Requirement already satisfied: matplotlib in /usr/local/lib/python3.11/dist-packages (from catboost) (3.10.0)\n",
            "Requirement already satisfied: numpy<2.0,>=1.16.0 in /usr/local/lib/python3.11/dist-packages (from catboost) (1.26.4)\n",
            "Requirement already satisfied: pandas>=0.24 in /usr/local/lib/python3.11/dist-packages (from catboost) (2.2.2)\n",
            "Requirement already satisfied: scipy in /usr/local/lib/python3.11/dist-packages (from catboost) (1.13.1)\n",
            "Requirement already satisfied: plotly in /usr/local/lib/python3.11/dist-packages (from catboost) (5.24.1)\n",
            "Requirement already satisfied: six in /usr/local/lib/python3.11/dist-packages (from catboost) (1.17.0)\n",
            "Requirement already satisfied: python-dateutil>=2.8.2 in /usr/local/lib/python3.11/dist-packages (from pandas>=0.24->catboost) (2.8.2)\n",
            "Requirement already satisfied: pytz>=2020.1 in /usr/local/lib/python3.11/dist-packages (from pandas>=0.24->catboost) (2025.1)\n",
            "Requirement already satisfied: tzdata>=2022.7 in /usr/local/lib/python3.11/dist-packages (from pandas>=0.24->catboost) (2025.1)\n",
            "Requirement already satisfied: contourpy>=1.0.1 in /usr/local/lib/python3.11/dist-packages (from matplotlib->catboost) (1.3.1)\n",
            "Requirement already satisfied: cycler>=0.10 in /usr/local/lib/python3.11/dist-packages (from matplotlib->catboost) (0.12.1)\n",
            "Requirement already satisfied: fonttools>=4.22.0 in /usr/local/lib/python3.11/dist-packages (from matplotlib->catboost) (4.56.0)\n",
            "Requirement already satisfied: kiwisolver>=1.3.1 in /usr/local/lib/python3.11/dist-packages (from matplotlib->catboost) (1.4.8)\n",
            "Requirement already satisfied: packaging>=20.0 in /usr/local/lib/python3.11/dist-packages (from matplotlib->catboost) (24.2)\n",
            "Requirement already satisfied: pillow>=8 in /usr/local/lib/python3.11/dist-packages (from matplotlib->catboost) (11.1.0)\n",
            "Requirement already satisfied: pyparsing>=2.3.1 in /usr/local/lib/python3.11/dist-packages (from matplotlib->catboost) (3.2.1)\n",
            "Requirement already satisfied: tenacity>=6.2.0 in /usr/local/lib/python3.11/dist-packages (from plotly->catboost) (9.0.0)\n"
          ]
        }
      ]
    },
    {
      "cell_type": "markdown",
      "metadata": {
        "id": "EU2ttmulV7B3"
      },
      "source": [
        "### Import\n"
      ]
    },
    {
      "cell_type": "code",
      "execution_count": null,
      "metadata": {
        "id": "1sxw5hN6V7B8"
      },
      "outputs": [],
      "source": [
        "# 전처리를 위한 라이브러리\n",
        "import pandas as pd\n",
        "import numpy as np\n",
        "from sklearn.preprocessing import  OrdinalEncoder\n",
        "from sklearn.ensemble import ExtraTreesClassifier\n",
        "from sklearn.model_selection import train_test_split\n"
      ]
    },
    {
      "cell_type": "code",
      "source": [
        "# 모델에 필요한 라이브러리\n",
        "import lightgbm as lgb\n",
        "import optuna\n",
        "import numpy as np\n",
        "import pandas as pd\n",
        "from sklearn.model_selection import StratifiedKFold\n",
        "from sklearn.metrics import roc_auc_score\n"
      ],
      "metadata": {
        "id": "o9ln4NrgMaoS"
      },
      "execution_count": null,
      "outputs": []
    },
    {
      "cell_type": "markdown",
      "metadata": {
        "id": "p4vQjpo3V7B9"
      },
      "source": [
        "### Data Load\n"
      ]
    },
    {
      "cell_type": "code",
      "execution_count": null,
      "metadata": {
        "colab": {
          "base_uri": "https://localhost:8080/"
        },
        "id": "Bgu-vvs0Wln1",
        "outputId": "7ca8813a-9db0-4083-e2f7-5e9e9795d927"
      },
      "outputs": [
        {
          "output_type": "stream",
          "name": "stdout",
          "text": [
            "Drive already mounted at /content/drive; to attempt to forcibly remount, call drive.mount(\"/content/drive\", force_remount=True).\n"
          ]
        }
      ],
      "source": [
        "from google.colab import drive\n",
        "drive.mount('/content/drive')"
      ]
    },
    {
      "cell_type": "code",
      "execution_count": null,
      "metadata": {
        "id": "wmv5ogGNV7B9"
      },
      "outputs": [],
      "source": [
        "train = pd.read_csv('/content/drive/MyDrive/LG/train.csv').drop(columns=['ID'])\n",
        "test = pd.read_csv('/content/drive/MyDrive/LG/test.csv').drop(columns=['ID'])"
      ]
    },
    {
      "cell_type": "code",
      "execution_count": null,
      "metadata": {
        "id": "eFhvsTimV7B-"
      },
      "outputs": [],
      "source": [
        "X = train.drop('임신 성공 여부', axis=1)\n",
        "y = train['임신 성공 여부']"
      ]
    },
    {
      "cell_type": "markdown",
      "metadata": {
        "id": "PgOXJ7mWV7B-"
      },
      "source": [
        "### Data Pre-processing\n"
      ]
    },
    {
      "cell_type": "code",
      "source": [
        "# \"불임 원인 - 여성 요인\"과 \"난자 채취 경과일\"의 값 분포 확인\n",
        "X[['불임 원인 - 여성 요인', '난자 채취 경과일']].value_counts()\n"
      ],
      "metadata": {
        "colab": {
          "base_uri": "https://localhost:8080/",
          "height": 147
        },
        "id": "8Xy8qgzsKd7M",
        "outputId": "1a008aaf-4bc5-4180-d610-87a45fa2c8cb"
      },
      "execution_count": null,
      "outputs": [
        {
          "output_type": "execute_result",
          "data": {
            "text/plain": [
              "불임 원인 - 여성 요인  난자 채취 경과일\n",
              "0              0.0          198863\n",
              "Name: count, dtype: int64"
            ],
            "text/html": [
              "<div>\n",
              "<style scoped>\n",
              "    .dataframe tbody tr th:only-of-type {\n",
              "        vertical-align: middle;\n",
              "    }\n",
              "\n",
              "    .dataframe tbody tr th {\n",
              "        vertical-align: top;\n",
              "    }\n",
              "\n",
              "    .dataframe thead th {\n",
              "        text-align: right;\n",
              "    }\n",
              "</style>\n",
              "<table border=\"1\" class=\"dataframe\">\n",
              "  <thead>\n",
              "    <tr style=\"text-align: right;\">\n",
              "      <th></th>\n",
              "      <th></th>\n",
              "      <th>count</th>\n",
              "    </tr>\n",
              "    <tr>\n",
              "      <th>불임 원인 - 여성 요인</th>\n",
              "      <th>난자 채취 경과일</th>\n",
              "      <th></th>\n",
              "    </tr>\n",
              "  </thead>\n",
              "  <tbody>\n",
              "    <tr>\n",
              "      <th>0</th>\n",
              "      <th>0.0</th>\n",
              "      <td>198863</td>\n",
              "    </tr>\n",
              "  </tbody>\n",
              "</table>\n",
              "</div><br><label><b>dtype:</b> int64</label>"
            ]
          },
          "metadata": {},
          "execution_count": 81
        }
      ]
    },
    {
      "cell_type": "code",
      "execution_count": null,
      "metadata": {
        "id": "nFF8XlaFXpvI"
      },
      "outputs": [],
      "source": [
        "## 2개 피쳐변수 Drop\n",
        "## Drop 이유: 값이 모두 0으로 1개의 값으로 되어 있음\n",
        "X.drop([ \"불임 원인 - 여성 요인\",\"난자 채취 경과일\"], axis=1, inplace=True)\n",
        "test.drop([ \"불임 원인 - 여성 요인\",\"난자 채취 경과일\"], axis=1, inplace=True)"
      ]
    },
    {
      "cell_type": "code",
      "execution_count": null,
      "metadata": {
        "id": "-BSzEph_6gMm"
      },
      "outputs": [],
      "source": [
        "# 연령대 컬럼 변환\n",
        "age_mapping = {'만18-34세': 0, '만35-37세': 1, '만38-39세': 2, '만40-42세': 3, '만43-44세': 4, '만45-50세': 5}\n",
        "X['시술 당시 나이'] = X['시술 당시 나이'].map(age_mapping)\n",
        "## 알 수 없음을 중간값으로 대체 할 경우 -> \"1로 대체됨\"\n",
        "#알 수 없음'을 NaN으로 변환\n",
        "X['시술 당시 나이'] = X['시술 당시 나이'].replace('알 수 없음', np.nan)\n",
        "\n",
        "#평균값 계산 (NaN 제외)\n",
        "mean_age = X['시술 당시 나이'].dropna().astype(float).median()\n",
        "\n",
        "#NaN을 평균값으로 대체\n",
        "X['시술 당시 나이'] = X['시술 당시 나이'].astype(float).fillna(mean_age)"
      ]
    },
    {
      "cell_type": "code",
      "source": [
        "# X 데이터 평균 확인\n",
        "mean_age"
      ],
      "metadata": {
        "colab": {
          "base_uri": "https://localhost:8080/"
        },
        "id": "1O_hhmgRK1iy",
        "outputId": "6fca430d-94a9-41ef-a359-c755e1d33355"
      },
      "execution_count": null,
      "outputs": [
        {
          "output_type": "execute_result",
          "data": {
            "text/plain": [
              "1.0"
            ]
          },
          "metadata": {},
          "execution_count": 42
        }
      ]
    },
    {
      "cell_type": "code",
      "execution_count": null,
      "metadata": {
        "id": "5KpeWcrE7syV"
      },
      "outputs": [],
      "source": [
        "# 연령대 컬럼 변환\n",
        "age_mapping = {'만18-34세': 0, '만35-37세': 1, '만38-39세': 2, '만40-42세': 3, '만43-44세': 4, '만45-50세': 5}\n",
        "test['시술 당시 나이'] = test['시술 당시 나이'].map(age_mapping)\n",
        "## 알 수 없음을 중간값으로 대체 할 경우 -> \"1로 대체됨\"\n",
        "#알 수 없음'을 NaN으로 변환\n",
        "test['시술 당시 나이'] = test['시술 당시 나이'].replace('알 수 없음', np.nan)\n",
        "\n",
        "#평균값 계산 (NaN 제외)\n",
        "mean_age = test['시술 당시 나이'].dropna().astype(float).median()\n",
        "\n",
        "#NaN을 평균값으로 대체(X의 평균값인 1으로 값 채움)\n",
        "test['시술 당시 나이'] = test['시술 당시 나이'].astype(float).fillna(mean_age)"
      ]
    },
    {
      "cell_type": "code",
      "source": [
        "## 새로운 피쳐 변수 생성(2개)\n",
        "# '배아 생성 성공률', '배아 이식 성공률'생성\n",
        "# 새로운 feature 생성 (NaN 및 inf 값 처리 후 정수형 변환)\n",
        "X['배아 생성 성공률'] = (\n",
        "    X['총 생성 배아 수'] / X['혼합된 난자 수'].replace(0, 1)\n",
        ").replace([np.inf, -np.inf], 0).fillna(0).round().astype(int)\n",
        "\n",
        "X['배아 이식 성공률'] = (\n",
        "    X['이식된 배아 수'] / X['총 생성 배아 수'].replace(0, 1)\n",
        ").replace([np.inf, -np.inf], 0).fillna(0).round().astype(int)\n",
        "\n",
        "test['배아 생성 성공률'] = (\n",
        "    test['총 생성 배아 수'] / test['혼합된 난자 수'].replace(0, 1)\n",
        ").replace([np.inf, -np.inf], 0).fillna(0).round().astype(int)\n",
        "\n",
        "test['배아 이식 성공률'] = (\n",
        "    test['이식된 배아 수'] / test['총 생성 배아 수'].replace(0, 1)\n",
        ").replace([np.inf, -np.inf], 0).fillna(0).round().astype(int)\n",
        "\n",
        "# 결과 확인\n",
        "print(X[['배아 생성 성공률', '배아 이식 성공률']].describe())"
      ],
      "metadata": {
        "id": "6Xe7Lb0qamSu",
        "colab": {
          "base_uri": "https://localhost:8080/"
        },
        "outputId": "0ee1028a-edb6-47ce-b7bb-0a6264a8f1b3"
      },
      "execution_count": null,
      "outputs": [
        {
          "output_type": "stream",
          "name": "stdout",
          "text": [
            "           배아 생성 성공률      배아 이식 성공률\n",
            "count  256351.000000  256351.000000\n",
            "mean        0.576120       0.388249\n",
            "std         0.494173       0.626993\n",
            "min         0.000000       0.000000\n",
            "25%         0.000000       0.000000\n",
            "50%         1.000000       0.000000\n",
            "75%         1.000000       1.000000\n",
            "max         1.000000       3.000000\n",
            "          배아 생성 성공률     배아 이식 성공률\n",
            "count  90067.000000  90067.000000\n",
            "mean       0.577737      0.386446\n",
            "std        0.493923      0.625970\n",
            "min        0.000000      0.000000\n",
            "25%        0.000000      0.000000\n",
            "50%        1.000000      0.000000\n",
            "75%        1.000000      1.000000\n",
            "max        1.000000      3.000000\n"
          ]
        }
      ]
    },
    {
      "cell_type": "code",
      "execution_count": null,
      "metadata": {
        "colab": {
          "base_uri": "https://localhost:8080/"
        },
        "id": "2IGkCj2uAKf2",
        "outputId": "17dee3cd-84ff-40d4-a65b-c477e3c3cd7e"
      },
      "outputs": [
        {
          "output_type": "stream",
          "name": "stdout",
          "text": [
            "           배아 생성 성공률      배아 이식 성공률\n",
            "count  256351.000000  256351.000000\n",
            "mean        0.576120       0.386880\n",
            "std         0.494173       0.621813\n",
            "min         0.000000       0.000000\n",
            "25%         0.000000       0.000000\n",
            "50%         1.000000       0.000000\n",
            "75%         1.000000       1.000000\n",
            "max         1.000000       2.500000\n"
          ]
        }
      ],
      "source": [
        "# 이상치 제거 (IQR을 사용하여 정상 범위 내 값만 유지)\n",
        "for col in ['배아 생성 성공률', '배아 이식 성공률']:\n",
        "    Q1 = X[col].quantile(0.25)\n",
        "    Q3 = X[col].quantile(0.75)\n",
        "    IQR = Q3 - Q1\n",
        "    lower_bound = Q1 - 1.5 * IQR\n",
        "    upper_bound = Q3 + 1.5 * IQR\n",
        "    X[col] = np.clip(X[col], lower_bound, upper_bound)\n",
        "    test[col] = np.clip(test[col], lower_bound, upper_bound)\n",
        "\n",
        "# 결과 확인\n",
        "print(X[['배아 생성 성공률', '배아 이식 성공률']].describe())"
      ]
    },
    {
      "cell_type": "code",
      "execution_count": null,
      "metadata": {
        "id": "PpgE60EUV7B-"
      },
      "outputs": [],
      "source": [
        "# '불임 원인 - 여성 원인' 컬럼만 제거하고 모두 불러오기\n",
        "categorical_columns = [\n",
        "    \"시술 시기 코드\",\n",
        "    \"시술 유형\",\n",
        "    \"특정 시술 유형\",\n",
        "    \"배란 자극 여부\",\n",
        "    \"배란 유도 유형\",\n",
        "    \"단일 배아 이식 여부\",\n",
        "    \"착상 전 유전 검사 사용 여부\",\n",
        "    \"착상 전 유전 진단 사용 여부\",\n",
        "    \"남성 주 불임 원인\",\n",
        "    \"남성 부 불임 원인\",\n",
        "    \"여성 주 불임 원인\",\n",
        "    \"여성 부 불임 원인\",\n",
        "    \"부부 주 불임 원인\",\n",
        "    \"부부 부 불임 원인\",\n",
        "    \"불명확 불임 원인\",\n",
        "    \"불임 원인 - 난관 질환\",\n",
        "    \"불임 원인 - 남성 요인\",\n",
        "    \"불임 원인 - 배란 장애\",\n",
        "    \"불임 원인 - 자궁경부 문제\",\n",
        "    \"불임 원인 - 자궁내막증\",\n",
        "    \"불임 원인 - 정자 농도\",\n",
        "    \"불임 원인 - 정자 면역학적 요인\",\n",
        "    \"불임 원인 - 정자 운동성\",\n",
        "    \"불임 원인 - 정자 형태\",\n",
        "    \"배아 생성 주요 이유\",\n",
        "    \"총 시술 횟수\",\n",
        "    \"클리닉 내 총 시술 횟수\",\n",
        "    \"IVF 시술 횟수\",\n",
        "    \"DI 시술 횟수\",\n",
        "    \"총 임신 횟수\",\n",
        "    \"IVF 임신 횟수\",\n",
        "    \"DI 임신 횟수\",\n",
        "    \"총 출산 횟수\",\n",
        "    \"IVF 출산 횟수\",\n",
        "    \"DI 출산 횟수\",\n",
        "    \"난자 출처\",\n",
        "    \"정자 출처\",\n",
        "    \"난자 기증자 나이\",\n",
        "    \"정자 기증자 나이\",\n",
        "    \"동결 배아 사용 여부\",\n",
        "    \"신선 배아 사용 여부\",\n",
        "    \"기증 배아 사용 여부\",\n",
        "    \"대리모 여부\",\n",
        "    \"PGD 시술 여부\",\n",
        "    \"PGS 시술 여부\"\n",
        "]"
      ]
    },
    {
      "cell_type": "code",
      "execution_count": null,
      "metadata": {
        "id": "kuHToSmyV7B_"
      },
      "outputs": [],
      "source": [
        "# 카테고리형 컬럼들을 문자열로 변환\n",
        "for col in categorical_columns:\n",
        "    X[col] = X[col].astype(str)\n",
        "    test[col] = test[col].astype(str)"
      ]
    },
    {
      "cell_type": "code",
      "execution_count": null,
      "metadata": {
        "id": "_jrsBkbVV7B_"
      },
      "outputs": [],
      "source": [
        "# OrdinalEncoder: 범주형 데이터를 숫자로 변환\n",
        "# handle_unknown: 훈련 데이터에 없는 값을 처리하는 방법 설정\n",
        "# unknown_value: 훈련 데이터에 없는 값을 -1로 처리\n",
        "\n",
        "ordinal_encoder = OrdinalEncoder(handle_unknown='use_encoded_value', unknown_value=-1)\n",
        "\n",
        "X_train_encoded = X.copy()\n",
        "X_train_encoded[categorical_columns] = ordinal_encoder.fit_transform(X[categorical_columns])\n",
        "\n",
        "X_test_encoded = test.copy()\n",
        "X_test_encoded[categorical_columns] = ordinal_encoder.transform(test[categorical_columns])"
      ]
    },
    {
      "cell_type": "markdown",
      "metadata": {
        "id": "wV1HJj_kV7B_"
      },
      "source": [
        "범주형데이터를 죄다 문자열로 만들고 바로 ordinalEncoder를 돌려버림\n",
        "\n",
        "시술 당시 나이의 경우 우리가 한거처럼 손수 옮겨줄 수도 있고\n",
        "\n",
        "뭐가 더 나은가 생각해보면 좋다고 생각만 해봤음\n"
      ]
    },
    {
      "cell_type": "code",
      "execution_count": null,
      "metadata": {
        "id": "olBDITiAV7B_"
      },
      "outputs": [],
      "source": [
        "# '난자 채취 경과일' 제외하고 모두 불러오기\n",
        "numeric_columns = [\n",
        "    \"임신 시도 또는 마지막 임신 경과 연수\",\n",
        "    \"총 생성 배아 수\",\n",
        "    \"미세주입된 난자 수\",\n",
        "    \"미세주입에서 생성된 배아 수\",\n",
        "    \"이식된 배아 수\",\n",
        "    \"미세주입 배아 이식 수\",\n",
        "    \"저장된 배아 수\",\n",
        "    \"미세주입 후 저장된 배아 수\",\n",
        "    \"해동된 배아 수\",\n",
        "    \"해동 난자 수\",\n",
        "    \"수집된 신선 난자 수\",\n",
        "    \"저장된 신선 난자 수\",\n",
        "    \"혼합된 난자 수\",\n",
        "    \"파트너 정자와 혼합된 난자 수\",\n",
        "    \"기증자 정자와 혼합된 난자 수\",\n",
        "    \"난자 해동 경과일\",\n",
        "    \"난자 혼합 경과일\",\n",
        "    \"배아 이식 경과일\",\n",
        "    \"배아 해동 경과일\",\n",
        "    \"배아 생성 성공률\",\n",
        "    '배아 이식 성공률'\n",
        "]"
      ]
    },
    {
      "cell_type": "code",
      "execution_count": null,
      "metadata": {
        "colab": {
          "base_uri": "https://localhost:8080/"
        },
        "id": "KXYXYnzyV7CA",
        "outputId": "56ade414-530e-45d8-8a27-27483d761d02"
      },
      "outputs": [
        {
          "output_type": "stream",
          "name": "stdout",
          "text": [
            "시술 시기 코드 [6. 5. 3. 2. 4. 0. 1.]\n",
            "시술 당시 나이 [0. 5. 1. 2. 3. 4.]\n",
            "임신 시도 또는 마지막 임신 경과 연수 [nan 10.  6.  7.  8. 12.  9.  3. 16. 11. 15.  5. 13. 17.  4. 14. 19. 20.\n",
            " 18.  2.  0.  1.]\n",
            "시술 유형 [1. 0.]\n",
            "특정 시술 유형 [ 4. 15. 23. 14. 20. 18. 12.  5. 11. 19.  7. 21. 13. 16. 22.  2.  9.  3.\n",
            " 17. 24.  1. 10.  6.  0.  8.]\n",
            "배란 자극 여부 [1. 0.]\n",
            "배란 유도 유형 [0. 3. 2. 1.]\n",
            "단일 배아 이식 여부 [0. 1. 2.]\n",
            "착상 전 유전 검사 사용 여부 [1. 0.]\n",
            "착상 전 유전 진단 사용 여부 [0. 2. 1.]\n",
            "남성 주 불임 원인 [0. 1.]\n",
            "남성 부 불임 원인 [0. 1.]\n",
            "여성 주 불임 원인 [0. 1.]\n",
            "여성 부 불임 원인 [0. 1.]\n",
            "부부 주 불임 원인 [0. 1.]\n",
            "부부 부 불임 원인 [0. 1.]\n",
            "불명확 불임 원인 [0. 1.]\n",
            "불임 원인 - 난관 질환 [0. 1.]\n",
            "불임 원인 - 남성 요인 [1. 0.]\n",
            "불임 원인 - 배란 장애 [1. 0.]\n",
            "불임 원인 - 자궁경부 문제 [0. 1.]\n",
            "불임 원인 - 자궁내막증 [0. 1.]\n",
            "불임 원인 - 정자 농도 [0. 1.]\n",
            "불임 원인 - 정자 면역학적 요인 [0. 1.]\n",
            "불임 원인 - 정자 운동성 [0. 1.]\n",
            "불임 원인 - 정자 형태 [0. 1.]\n",
            "배아 생성 주요 이유 [13.  0.  6. 10.  5.  3.  1.  2. 11.  7.  4. 12.  9.  8.]\n",
            "총 시술 횟수 [0. 1. 2. 6. 3. 4. 5.]\n",
            "클리닉 내 총 시술 횟수 [0. 1. 2. 6. 3. 5. 4.]\n",
            "IVF 시술 횟수 [0. 1. 2. 3. 5. 4. 6.]\n",
            "DI 시술 횟수 [0. 5. 3. 1. 2. 4. 6.]\n",
            "총 임신 횟수 [0. 1. 2. 3. 4. 5. 6.]\n",
            "IVF 임신 횟수 [0. 1. 2. 3. 4. 5. 6.]\n",
            "DI 임신 횟수 [0. 1. 2. 3. 4. 5.]\n",
            "총 출산 횟수 [0. 1. 2. 3. 4. 6. 5.]\n",
            "IVF 출산 횟수 [0. 1. 2. 3. 4. 5.]\n",
            "DI 출산 횟수 [0. 1. 2. 3. 4.]\n",
            "총 생성 배아 수 [ 4.  0.  5.  6.  3. 12.  2. 13. nan  8.  7.  1. 14. 23. 18. 15. 11.  9.\n",
            " 19. 10. 16. 21. 20. 17. 24. 26. 27. 25. 32. 22. 34. 28. 36. 31. 42. 41.\n",
            " 51. 37. 30. 29. 33. 38. 35. 44. 40. 43.]\n",
            "미세주입된 난자 수 [ 5.  1.  0.  4.  6.  2. nan  3.  8.  7. 22. 17. 19. 11.  9. 13. 14. 12.\n",
            " 20. 10. 21. 23. 15. 18. 16. 27. 29. 26. 37. 24. 25. 30. 28. 40. 33. 42.\n",
            " 46. 32. 51. 43. 34. 35. 48. 31. 45. 36. 39. 49. 41. 38. 44. 47. 50.]\n",
            "미세주입에서 생성된 배아 수 [ 4.  0.  6.  3.  2. nan  5.  1.  7. 12.  8. 14. 13.  9. 11. 18. 16. 10.\n",
            " 20. 15. 17. 21. 24. 26. 23. 25. 19. 22. 36. 28. 42. 32. 41. 27. 30. 29.\n",
            " 34. 33. 31. 43. 38. 37.]\n",
            "이식된 배아 수 [ 2.  0.  1. nan  3.]\n",
            "미세주입 배아 이식 수 [ 2.  0.  1. nan  3.]\n",
            "저장된 배아 수 [ 2.  0.  3. nan  1.  4.  6.  5. 12. 11.  7. 18.  9.  8. 10. 14. 15. 13.\n",
            " 21. 20. 17. 19. 16. 26. 22. 23. 24. 42. 25. 41. 27. 28. 34. 30. 32. 51.\n",
            " 38. 29. 36. 37. 33. 44. 31.]\n",
            "미세주입 후 저장된 배아 수 [ 2.  0.  3. nan  1.  5. 12.  6. 18.  4.  7.  8.  9. 10. 11. 13. 21. 20.\n",
            " 17. 15. 16. 26. 22. 14. 23. 19. 24. 42. 25. 41. 27. 34. 28. 32. 43. 38.\n",
            " 30. 29. 51.]\n",
            "해동된 배아 수 [ 0.  1. nan  6.  3.  2.  7.  4.  9.  5.  8. 17. 11. 12. 10. 14. 15. 13.\n",
            " 18. 16. 19. 24. 22. 20. 21. 30. 26. 23. 32.]\n",
            "해동 난자 수 [ 0. nan  3. 15.  4.  8.  6.  7.  9. 14.  5. 10.  2. 11. 12. 13. 16. 17.\n",
            " 23.  1. 20. 21. 19. 32. 18. 26. 25. 24. 36. 33. 27. 22.]\n",
            "수집된 신선 난자 수 [ 7.  1.  8.  5.  0. 15.  2.  3. nan  6. 10.  4. 16.  9. 11. 12. 13. 17.\n",
            " 14. 32. 19. 20. 21. 23. 25. 22. 33. 26. 28. 34. 18. 30. 35. 24. 27. 29.\n",
            " 47. 31. 40. 37. 42. 51. 39. 50. 41. 36. 45. 38. 44. 46. 49. 43. 48.]\n",
            "저장된 신선 난자 수 [ 0. nan  4. 12.  5. 11.  9.  6.  2.  1.  7.  3. 10.  8. 16. 15. 27. 13.\n",
            " 14. 25. 19. 21. 32. 40. 24. 23. 26. 18. 20. 22. 17. 34. 28. 46. 31. 30.\n",
            " 35. 37. 36. 29. 33. 51.]\n",
            "혼합된 난자 수 [ 5.  1.  7.  4.  6. 15.  0.  2. nan  3. 10.  9. 16.  8. 11. 12. 17. 22.\n",
            " 19. 23. 20. 13. 14. 33. 21. 34. 18. 30. 27. 24. 28. 29. 26. 25. 37. 32.\n",
            " 40. 31. 42. 51. 35. 45. 36. 41. 38. 46. 43. 47. 48. 39. 44. 49. 50.]\n",
            "파트너 정자와 혼합된 난자 수 [ 5.  1.  7.  4.  6. 15.  0.  2. nan  3. 10.  9.  8. 11. 12. 17. 22. 19.\n",
            " 23. 20. 13. 14. 33. 16. 21. 34. 18. 30. 27. 24. 29. 26. 37. 25. 32. 40.\n",
            " 42. 51. 28. 31. 35. 45. 36. 41. 38. 46. 43. 47. 48. 39. 49. 44. 50.]\n",
            "기증자 정자와 혼합된 난자 수 [ 0.  2. nan 16.  5. 15. 14. 11.  4.  7.  9.  3. 10. 17. 20.  6.  8. 28.\n",
            "  1. 12. 18. 19. 25. 13. 31. 24. 21. 29. 22. 27. 23. 32. 37. 26. 40. 36.\n",
            " 35. 33. 38. 30. 34. 50. 49. 39. 47. 42. 45. 41.]\n",
            "난자 출처 [1. 0. 2.]\n",
            "정자 출처 [3. 0. 2. 1.]\n",
            "난자 기증자 나이 [4. 1. 3. 2. 0.]\n",
            "정자 기증자 나이 [6. 2. 1. 5. 4. 3. 0.]\n",
            "동결 배아 사용 여부 [0. 1. 2.]\n",
            "신선 배아 사용 여부 [1. 0. 2.]\n",
            "기증 배아 사용 여부 [0. 2. 1.]\n",
            "대리모 여부 [0. 2. 1.]\n",
            "PGD 시술 여부 [1. 0.]\n",
            "PGS 시술 여부 [1. 0.]\n",
            "난자 해동 경과일 [nan  0.  1.]\n",
            "난자 혼합 경과일 [ 0. nan  3.  2.  1.  5.  6.  4.  7.]\n",
            "배아 이식 경과일 [ 3. nan  2.  5.  1.  0.  4.  6.  7.]\n",
            "배아 해동 경과일 [nan  0.  5.  3.  2.  6.  1.  4.  7.]\n",
            "배아 생성 성공률 [1 0]\n",
            "배아 이식 성공률 [0.  1.  2.  2.5]\n"
          ]
        }
      ],
      "source": [
        "for col in X_train_encoded.columns:\n",
        "    print(col, X_train_encoded[col].unique())"
      ]
    },
    {
      "cell_type": "code",
      "execution_count": null,
      "metadata": {
        "id": "UPdSp-PyV7CA"
      },
      "outputs": [],
      "source": [
        "X_train_encoded[numeric_columns] = X_train_encoded[numeric_columns].fillna(0)\n",
        "X_test_encoded[numeric_columns] = X_test_encoded[numeric_columns].fillna(0)"
      ]
    },
    {
      "cell_type": "code",
      "execution_count": null,
      "metadata": {
        "colab": {
          "base_uri": "https://localhost:8080/"
        },
        "id": "2KfMGKoZaR-z",
        "outputId": "20785353-1452-4230-97c1-0b03aa90a396"
      },
      "outputs": [
        {
          "output_type": "stream",
          "name": "stdout",
          "text": [
            "시술 시기 코드 [6. 5. 3. 2. 4. 0. 1.]\n",
            "시술 당시 나이 [0. 5. 1. 2. 3. 4.]\n",
            "임신 시도 또는 마지막 임신 경과 연수 [ 0. 10.  6.  7.  8. 12.  9.  3. 16. 11. 15.  5. 13. 17.  4. 14. 19. 20.\n",
            " 18.  2.  1.]\n",
            "시술 유형 [1. 0.]\n",
            "특정 시술 유형 [ 4. 15. 23. 14. 20. 18. 12.  5. 11. 19.  7. 21. 13. 16. 22.  2.  9.  3.\n",
            " 17. 24.  1. 10.  6.  0.  8.]\n",
            "배란 자극 여부 [1. 0.]\n",
            "배란 유도 유형 [0. 3. 2. 1.]\n",
            "단일 배아 이식 여부 [0. 1. 2.]\n",
            "착상 전 유전 검사 사용 여부 [1. 0.]\n",
            "착상 전 유전 진단 사용 여부 [0. 2. 1.]\n",
            "남성 주 불임 원인 [0. 1.]\n",
            "남성 부 불임 원인 [0. 1.]\n",
            "여성 주 불임 원인 [0. 1.]\n",
            "여성 부 불임 원인 [0. 1.]\n",
            "부부 주 불임 원인 [0. 1.]\n",
            "부부 부 불임 원인 [0. 1.]\n",
            "불명확 불임 원인 [0. 1.]\n",
            "불임 원인 - 난관 질환 [0. 1.]\n",
            "불임 원인 - 남성 요인 [1. 0.]\n",
            "불임 원인 - 배란 장애 [1. 0.]\n",
            "불임 원인 - 자궁경부 문제 [0. 1.]\n",
            "불임 원인 - 자궁내막증 [0. 1.]\n",
            "불임 원인 - 정자 농도 [0. 1.]\n",
            "불임 원인 - 정자 면역학적 요인 [0. 1.]\n",
            "불임 원인 - 정자 운동성 [0. 1.]\n",
            "불임 원인 - 정자 형태 [0. 1.]\n",
            "배아 생성 주요 이유 [13.  0.  6. 10.  5.  3.  1.  2. 11.  7.  4. 12.  9.  8.]\n",
            "총 시술 횟수 [0. 1. 2. 6. 3. 4. 5.]\n",
            "클리닉 내 총 시술 횟수 [0. 1. 2. 6. 3. 5. 4.]\n",
            "IVF 시술 횟수 [0. 1. 2. 3. 5. 4. 6.]\n",
            "DI 시술 횟수 [0. 5. 3. 1. 2. 4. 6.]\n",
            "총 임신 횟수 [0. 1. 2. 3. 4. 5. 6.]\n",
            "IVF 임신 횟수 [0. 1. 2. 3. 4. 5. 6.]\n",
            "DI 임신 횟수 [0. 1. 2. 3. 4. 5.]\n",
            "총 출산 횟수 [0. 1. 2. 3. 4. 6. 5.]\n",
            "IVF 출산 횟수 [0. 1. 2. 3. 4. 5.]\n",
            "DI 출산 횟수 [0. 1. 2. 3. 4.]\n",
            "총 생성 배아 수 [ 4.  0.  5.  6.  3. 12.  2. 13.  8.  7.  1. 14. 23. 18. 15. 11.  9. 19.\n",
            " 10. 16. 21. 20. 17. 24. 26. 27. 25. 32. 22. 34. 28. 36. 31. 42. 41. 51.\n",
            " 37. 30. 29. 33. 38. 35. 44. 40. 43.]\n",
            "미세주입된 난자 수 [ 5.  1.  0.  4.  6.  2.  3.  8.  7. 22. 17. 19. 11.  9. 13. 14. 12. 20.\n",
            " 10. 21. 23. 15. 18. 16. 27. 29. 26. 37. 24. 25. 30. 28. 40. 33. 42. 46.\n",
            " 32. 51. 43. 34. 35. 48. 31. 45. 36. 39. 49. 41. 38. 44. 47. 50.]\n",
            "미세주입에서 생성된 배아 수 [ 4.  0.  6.  3.  2.  5.  1.  7. 12.  8. 14. 13.  9. 11. 18. 16. 10. 20.\n",
            " 15. 17. 21. 24. 26. 23. 25. 19. 22. 36. 28. 42. 32. 41. 27. 30. 29. 34.\n",
            " 33. 31. 43. 38. 37.]\n",
            "이식된 배아 수 [2. 0. 1. 3.]\n",
            "미세주입 배아 이식 수 [2. 0. 1. 3.]\n",
            "저장된 배아 수 [ 2.  0.  3.  1.  4.  6.  5. 12. 11.  7. 18.  9.  8. 10. 14. 15. 13. 21.\n",
            " 20. 17. 19. 16. 26. 22. 23. 24. 42. 25. 41. 27. 28. 34. 30. 32. 51. 38.\n",
            " 29. 36. 37. 33. 44. 31.]\n",
            "미세주입 후 저장된 배아 수 [ 2.  0.  3.  1.  5. 12.  6. 18.  4.  7.  8.  9. 10. 11. 13. 21. 20. 17.\n",
            " 15. 16. 26. 22. 14. 23. 19. 24. 42. 25. 41. 27. 34. 28. 32. 43. 38. 30.\n",
            " 29. 51.]\n",
            "해동된 배아 수 [ 0.  1.  6.  3.  2.  7.  4.  9.  5.  8. 17. 11. 12. 10. 14. 15. 13. 18.\n",
            " 16. 19. 24. 22. 20. 21. 30. 26. 23. 32.]\n",
            "해동 난자 수 [ 0.  3. 15.  4.  8.  6.  7.  9. 14.  5. 10.  2. 11. 12. 13. 16. 17. 23.\n",
            "  1. 20. 21. 19. 32. 18. 26. 25. 24. 36. 33. 27. 22.]\n",
            "수집된 신선 난자 수 [ 7.  1.  8.  5.  0. 15.  2.  3.  6. 10.  4. 16.  9. 11. 12. 13. 17. 14.\n",
            " 32. 19. 20. 21. 23. 25. 22. 33. 26. 28. 34. 18. 30. 35. 24. 27. 29. 47.\n",
            " 31. 40. 37. 42. 51. 39. 50. 41. 36. 45. 38. 44. 46. 49. 43. 48.]\n",
            "저장된 신선 난자 수 [ 0.  4. 12.  5. 11.  9.  6.  2.  1.  7.  3. 10.  8. 16. 15. 27. 13. 14.\n",
            " 25. 19. 21. 32. 40. 24. 23. 26. 18. 20. 22. 17. 34. 28. 46. 31. 30. 35.\n",
            " 37. 36. 29. 33. 51.]\n",
            "혼합된 난자 수 [ 5.  1.  7.  4.  6. 15.  0.  2.  3. 10.  9. 16.  8. 11. 12. 17. 22. 19.\n",
            " 23. 20. 13. 14. 33. 21. 34. 18. 30. 27. 24. 28. 29. 26. 25. 37. 32. 40.\n",
            " 31. 42. 51. 35. 45. 36. 41. 38. 46. 43. 47. 48. 39. 44. 49. 50.]\n",
            "파트너 정자와 혼합된 난자 수 [ 5.  1.  7.  4.  6. 15.  0.  2.  3. 10.  9.  8. 11. 12. 17. 22. 19. 23.\n",
            " 20. 13. 14. 33. 16. 21. 34. 18. 30. 27. 24. 29. 26. 37. 25. 32. 40. 42.\n",
            " 51. 28. 31. 35. 45. 36. 41. 38. 46. 43. 47. 48. 39. 49. 44. 50.]\n",
            "기증자 정자와 혼합된 난자 수 [ 0.  2. 16.  5. 15. 14. 11.  4.  7.  9.  3. 10. 17. 20.  6.  8. 28.  1.\n",
            " 12. 18. 19. 25. 13. 31. 24. 21. 29. 22. 27. 23. 32. 37. 26. 40. 36. 35.\n",
            " 33. 38. 30. 34. 50. 49. 39. 47. 42. 45. 41.]\n",
            "난자 출처 [1. 0. 2.]\n",
            "정자 출처 [3. 0. 2. 1.]\n",
            "난자 기증자 나이 [4. 1. 3. 2. 0.]\n",
            "정자 기증자 나이 [6. 2. 1. 5. 4. 3. 0.]\n",
            "동결 배아 사용 여부 [0. 1. 2.]\n",
            "신선 배아 사용 여부 [1. 0. 2.]\n",
            "기증 배아 사용 여부 [0. 2. 1.]\n",
            "대리모 여부 [0. 2. 1.]\n",
            "PGD 시술 여부 [1. 0.]\n",
            "PGS 시술 여부 [1. 0.]\n",
            "난자 해동 경과일 [0. 1.]\n",
            "난자 혼합 경과일 [0. 3. 2. 1. 5. 6. 4. 7.]\n",
            "배아 이식 경과일 [3. 0. 2. 5. 1. 4. 6. 7.]\n",
            "배아 해동 경과일 [0. 5. 3. 2. 6. 1. 4. 7.]\n",
            "배아 생성 성공률 [1 0]\n",
            "배아 이식 성공률 [0.  1.  2.  2.5]\n"
          ]
        }
      ],
      "source": [
        "for col in X_train_encoded.columns:\n",
        "    print(col, X_train_encoded[col].unique())"
      ]
    },
    {
      "cell_type": "code",
      "execution_count": null,
      "metadata": {
        "colab": {
          "base_uri": "https://localhost:8080/"
        },
        "id": "cVz-p_e9V7CA",
        "outputId": "6f6c852f-ddb3-46cd-aacb-cf5e336bc354"
      },
      "outputs": [
        {
          "output_type": "stream",
          "name": "stdout",
          "text": [
            "<class 'pandas.core.frame.DataFrame'>\n",
            "RangeIndex: 256351 entries, 0 to 256350\n",
            "Data columns (total 67 columns):\n",
            " #   Column                 Non-Null Count   Dtype  \n",
            "---  ------                 --------------   -----  \n",
            " 0   시술 시기 코드               256351 non-null  float64\n",
            " 1   시술 당시 나이               256351 non-null  float64\n",
            " 2   임신 시도 또는 마지막 임신 경과 연수  256351 non-null  float64\n",
            " 3   시술 유형                  256351 non-null  float64\n",
            " 4   특정 시술 유형               256351 non-null  float64\n",
            " 5   배란 자극 여부               256351 non-null  float64\n",
            " 6   배란 유도 유형               256351 non-null  float64\n",
            " 7   단일 배아 이식 여부            256351 non-null  float64\n",
            " 8   착상 전 유전 검사 사용 여부       256351 non-null  float64\n",
            " 9   착상 전 유전 진단 사용 여부       256351 non-null  float64\n",
            " 10  남성 주 불임 원인             256351 non-null  float64\n",
            " 11  남성 부 불임 원인             256351 non-null  float64\n",
            " 12  여성 주 불임 원인             256351 non-null  float64\n",
            " 13  여성 부 불임 원인             256351 non-null  float64\n",
            " 14  부부 주 불임 원인             256351 non-null  float64\n",
            " 15  부부 부 불임 원인             256351 non-null  float64\n",
            " 16  불명확 불임 원인              256351 non-null  float64\n",
            " 17  불임 원인 - 난관 질환          256351 non-null  float64\n",
            " 18  불임 원인 - 남성 요인          256351 non-null  float64\n",
            " 19  불임 원인 - 배란 장애          256351 non-null  float64\n",
            " 20  불임 원인 - 자궁경부 문제        256351 non-null  float64\n",
            " 21  불임 원인 - 자궁내막증          256351 non-null  float64\n",
            " 22  불임 원인 - 정자 농도          256351 non-null  float64\n",
            " 23  불임 원인 - 정자 면역학적 요인     256351 non-null  float64\n",
            " 24  불임 원인 - 정자 운동성         256351 non-null  float64\n",
            " 25  불임 원인 - 정자 형태          256351 non-null  float64\n",
            " 26  배아 생성 주요 이유            256351 non-null  float64\n",
            " 27  총 시술 횟수                256351 non-null  float64\n",
            " 28  클리닉 내 총 시술 횟수          256351 non-null  float64\n",
            " 29  IVF 시술 횟수              256351 non-null  float64\n",
            " 30  DI 시술 횟수               256351 non-null  float64\n",
            " 31  총 임신 횟수                256351 non-null  float64\n",
            " 32  IVF 임신 횟수              256351 non-null  float64\n",
            " 33  DI 임신 횟수               256351 non-null  float64\n",
            " 34  총 출산 횟수                256351 non-null  float64\n",
            " 35  IVF 출산 횟수              256351 non-null  float64\n",
            " 36  DI 출산 횟수               256351 non-null  float64\n",
            " 37  총 생성 배아 수              256351 non-null  float64\n",
            " 38  미세주입된 난자 수             256351 non-null  float64\n",
            " 39  미세주입에서 생성된 배아 수        256351 non-null  float64\n",
            " 40  이식된 배아 수               256351 non-null  float64\n",
            " 41  미세주입 배아 이식 수           256351 non-null  float64\n",
            " 42  저장된 배아 수               256351 non-null  float64\n",
            " 43  미세주입 후 저장된 배아 수        256351 non-null  float64\n",
            " 44  해동된 배아 수               256351 non-null  float64\n",
            " 45  해동 난자 수                256351 non-null  float64\n",
            " 46  수집된 신선 난자 수            256351 non-null  float64\n",
            " 47  저장된 신선 난자 수            256351 non-null  float64\n",
            " 48  혼합된 난자 수               256351 non-null  float64\n",
            " 49  파트너 정자와 혼합된 난자 수       256351 non-null  float64\n",
            " 50  기증자 정자와 혼합된 난자 수       256351 non-null  float64\n",
            " 51  난자 출처                  256351 non-null  float64\n",
            " 52  정자 출처                  256351 non-null  float64\n",
            " 53  난자 기증자 나이              256351 non-null  float64\n",
            " 54  정자 기증자 나이              256351 non-null  float64\n",
            " 55  동결 배아 사용 여부            256351 non-null  float64\n",
            " 56  신선 배아 사용 여부            256351 non-null  float64\n",
            " 57  기증 배아 사용 여부            256351 non-null  float64\n",
            " 58  대리모 여부                 256351 non-null  float64\n",
            " 59  PGD 시술 여부              256351 non-null  float64\n",
            " 60  PGS 시술 여부              256351 non-null  float64\n",
            " 61  난자 해동 경과일              256351 non-null  float64\n",
            " 62  난자 혼합 경과일              256351 non-null  float64\n",
            " 63  배아 이식 경과일              256351 non-null  float64\n",
            " 64  배아 해동 경과일              256351 non-null  float64\n",
            " 65  배아 생성 성공률              256351 non-null  int64  \n",
            " 66  배아 이식 성공률              256351 non-null  float64\n",
            "dtypes: float64(66), int64(1)\n",
            "memory usage: 131.0 MB\n"
          ]
        }
      ],
      "source": [
        "X_train_encoded.info()"
      ]
    },
    {
      "cell_type": "markdown",
      "metadata": {
        "id": "6XlVaEMVV7CB"
      },
      "source": [
        "### Train\n"
      ]
    },
    {
      "cell_type": "code",
      "execution_count": null,
      "metadata": {
        "colab": {
          "base_uri": "https://localhost:8080/",
          "height": 81
        },
        "id": "hCL3J-JoV7CB",
        "outputId": "dd7f31ce-08ad-4982-e5f6-7eaf640844a7"
      },
      "outputs": [
        {
          "output_type": "execute_result",
          "data": {
            "text/plain": [
              "ExtraTreesClassifier(random_state=42)"
            ],
            "text/html": [
              "<style>#sk-container-id-4 {\n",
              "  /* Definition of color scheme common for light and dark mode */\n",
              "  --sklearn-color-text: #000;\n",
              "  --sklearn-color-text-muted: #666;\n",
              "  --sklearn-color-line: gray;\n",
              "  /* Definition of color scheme for unfitted estimators */\n",
              "  --sklearn-color-unfitted-level-0: #fff5e6;\n",
              "  --sklearn-color-unfitted-level-1: #f6e4d2;\n",
              "  --sklearn-color-unfitted-level-2: #ffe0b3;\n",
              "  --sklearn-color-unfitted-level-3: chocolate;\n",
              "  /* Definition of color scheme for fitted estimators */\n",
              "  --sklearn-color-fitted-level-0: #f0f8ff;\n",
              "  --sklearn-color-fitted-level-1: #d4ebff;\n",
              "  --sklearn-color-fitted-level-2: #b3dbfd;\n",
              "  --sklearn-color-fitted-level-3: cornflowerblue;\n",
              "\n",
              "  /* Specific color for light theme */\n",
              "  --sklearn-color-text-on-default-background: var(--sg-text-color, var(--theme-code-foreground, var(--jp-content-font-color1, black)));\n",
              "  --sklearn-color-background: var(--sg-background-color, var(--theme-background, var(--jp-layout-color0, white)));\n",
              "  --sklearn-color-border-box: var(--sg-text-color, var(--theme-code-foreground, var(--jp-content-font-color1, black)));\n",
              "  --sklearn-color-icon: #696969;\n",
              "\n",
              "  @media (prefers-color-scheme: dark) {\n",
              "    /* Redefinition of color scheme for dark theme */\n",
              "    --sklearn-color-text-on-default-background: var(--sg-text-color, var(--theme-code-foreground, var(--jp-content-font-color1, white)));\n",
              "    --sklearn-color-background: var(--sg-background-color, var(--theme-background, var(--jp-layout-color0, #111)));\n",
              "    --sklearn-color-border-box: var(--sg-text-color, var(--theme-code-foreground, var(--jp-content-font-color1, white)));\n",
              "    --sklearn-color-icon: #878787;\n",
              "  }\n",
              "}\n",
              "\n",
              "#sk-container-id-4 {\n",
              "  color: var(--sklearn-color-text);\n",
              "}\n",
              "\n",
              "#sk-container-id-4 pre {\n",
              "  padding: 0;\n",
              "}\n",
              "\n",
              "#sk-container-id-4 input.sk-hidden--visually {\n",
              "  border: 0;\n",
              "  clip: rect(1px 1px 1px 1px);\n",
              "  clip: rect(1px, 1px, 1px, 1px);\n",
              "  height: 1px;\n",
              "  margin: -1px;\n",
              "  overflow: hidden;\n",
              "  padding: 0;\n",
              "  position: absolute;\n",
              "  width: 1px;\n",
              "}\n",
              "\n",
              "#sk-container-id-4 div.sk-dashed-wrapped {\n",
              "  border: 1px dashed var(--sklearn-color-line);\n",
              "  margin: 0 0.4em 0.5em 0.4em;\n",
              "  box-sizing: border-box;\n",
              "  padding-bottom: 0.4em;\n",
              "  background-color: var(--sklearn-color-background);\n",
              "}\n",
              "\n",
              "#sk-container-id-4 div.sk-container {\n",
              "  /* jupyter's `normalize.less` sets `[hidden] { display: none; }`\n",
              "     but bootstrap.min.css set `[hidden] { display: none !important; }`\n",
              "     so we also need the `!important` here to be able to override the\n",
              "     default hidden behavior on the sphinx rendered scikit-learn.org.\n",
              "     See: https://github.com/scikit-learn/scikit-learn/issues/21755 */\n",
              "  display: inline-block !important;\n",
              "  position: relative;\n",
              "}\n",
              "\n",
              "#sk-container-id-4 div.sk-text-repr-fallback {\n",
              "  display: none;\n",
              "}\n",
              "\n",
              "div.sk-parallel-item,\n",
              "div.sk-serial,\n",
              "div.sk-item {\n",
              "  /* draw centered vertical line to link estimators */\n",
              "  background-image: linear-gradient(var(--sklearn-color-text-on-default-background), var(--sklearn-color-text-on-default-background));\n",
              "  background-size: 2px 100%;\n",
              "  background-repeat: no-repeat;\n",
              "  background-position: center center;\n",
              "}\n",
              "\n",
              "/* Parallel-specific style estimator block */\n",
              "\n",
              "#sk-container-id-4 div.sk-parallel-item::after {\n",
              "  content: \"\";\n",
              "  width: 100%;\n",
              "  border-bottom: 2px solid var(--sklearn-color-text-on-default-background);\n",
              "  flex-grow: 1;\n",
              "}\n",
              "\n",
              "#sk-container-id-4 div.sk-parallel {\n",
              "  display: flex;\n",
              "  align-items: stretch;\n",
              "  justify-content: center;\n",
              "  background-color: var(--sklearn-color-background);\n",
              "  position: relative;\n",
              "}\n",
              "\n",
              "#sk-container-id-4 div.sk-parallel-item {\n",
              "  display: flex;\n",
              "  flex-direction: column;\n",
              "}\n",
              "\n",
              "#sk-container-id-4 div.sk-parallel-item:first-child::after {\n",
              "  align-self: flex-end;\n",
              "  width: 50%;\n",
              "}\n",
              "\n",
              "#sk-container-id-4 div.sk-parallel-item:last-child::after {\n",
              "  align-self: flex-start;\n",
              "  width: 50%;\n",
              "}\n",
              "\n",
              "#sk-container-id-4 div.sk-parallel-item:only-child::after {\n",
              "  width: 0;\n",
              "}\n",
              "\n",
              "/* Serial-specific style estimator block */\n",
              "\n",
              "#sk-container-id-4 div.sk-serial {\n",
              "  display: flex;\n",
              "  flex-direction: column;\n",
              "  align-items: center;\n",
              "  background-color: var(--sklearn-color-background);\n",
              "  padding-right: 1em;\n",
              "  padding-left: 1em;\n",
              "}\n",
              "\n",
              "\n",
              "/* Toggleable style: style used for estimator/Pipeline/ColumnTransformer box that is\n",
              "clickable and can be expanded/collapsed.\n",
              "- Pipeline and ColumnTransformer use this feature and define the default style\n",
              "- Estimators will overwrite some part of the style using the `sk-estimator` class\n",
              "*/\n",
              "\n",
              "/* Pipeline and ColumnTransformer style (default) */\n",
              "\n",
              "#sk-container-id-4 div.sk-toggleable {\n",
              "  /* Default theme specific background. It is overwritten whether we have a\n",
              "  specific estimator or a Pipeline/ColumnTransformer */\n",
              "  background-color: var(--sklearn-color-background);\n",
              "}\n",
              "\n",
              "/* Toggleable label */\n",
              "#sk-container-id-4 label.sk-toggleable__label {\n",
              "  cursor: pointer;\n",
              "  display: flex;\n",
              "  width: 100%;\n",
              "  margin-bottom: 0;\n",
              "  padding: 0.5em;\n",
              "  box-sizing: border-box;\n",
              "  text-align: center;\n",
              "  align-items: start;\n",
              "  justify-content: space-between;\n",
              "  gap: 0.5em;\n",
              "}\n",
              "\n",
              "#sk-container-id-4 label.sk-toggleable__label .caption {\n",
              "  font-size: 0.6rem;\n",
              "  font-weight: lighter;\n",
              "  color: var(--sklearn-color-text-muted);\n",
              "}\n",
              "\n",
              "#sk-container-id-4 label.sk-toggleable__label-arrow:before {\n",
              "  /* Arrow on the left of the label */\n",
              "  content: \"▸\";\n",
              "  float: left;\n",
              "  margin-right: 0.25em;\n",
              "  color: var(--sklearn-color-icon);\n",
              "}\n",
              "\n",
              "#sk-container-id-4 label.sk-toggleable__label-arrow:hover:before {\n",
              "  color: var(--sklearn-color-text);\n",
              "}\n",
              "\n",
              "/* Toggleable content - dropdown */\n",
              "\n",
              "#sk-container-id-4 div.sk-toggleable__content {\n",
              "  max-height: 0;\n",
              "  max-width: 0;\n",
              "  overflow: hidden;\n",
              "  text-align: left;\n",
              "  /* unfitted */\n",
              "  background-color: var(--sklearn-color-unfitted-level-0);\n",
              "}\n",
              "\n",
              "#sk-container-id-4 div.sk-toggleable__content.fitted {\n",
              "  /* fitted */\n",
              "  background-color: var(--sklearn-color-fitted-level-0);\n",
              "}\n",
              "\n",
              "#sk-container-id-4 div.sk-toggleable__content pre {\n",
              "  margin: 0.2em;\n",
              "  border-radius: 0.25em;\n",
              "  color: var(--sklearn-color-text);\n",
              "  /* unfitted */\n",
              "  background-color: var(--sklearn-color-unfitted-level-0);\n",
              "}\n",
              "\n",
              "#sk-container-id-4 div.sk-toggleable__content.fitted pre {\n",
              "  /* unfitted */\n",
              "  background-color: var(--sklearn-color-fitted-level-0);\n",
              "}\n",
              "\n",
              "#sk-container-id-4 input.sk-toggleable__control:checked~div.sk-toggleable__content {\n",
              "  /* Expand drop-down */\n",
              "  max-height: 200px;\n",
              "  max-width: 100%;\n",
              "  overflow: auto;\n",
              "}\n",
              "\n",
              "#sk-container-id-4 input.sk-toggleable__control:checked~label.sk-toggleable__label-arrow:before {\n",
              "  content: \"▾\";\n",
              "}\n",
              "\n",
              "/* Pipeline/ColumnTransformer-specific style */\n",
              "\n",
              "#sk-container-id-4 div.sk-label input.sk-toggleable__control:checked~label.sk-toggleable__label {\n",
              "  color: var(--sklearn-color-text);\n",
              "  background-color: var(--sklearn-color-unfitted-level-2);\n",
              "}\n",
              "\n",
              "#sk-container-id-4 div.sk-label.fitted input.sk-toggleable__control:checked~label.sk-toggleable__label {\n",
              "  background-color: var(--sklearn-color-fitted-level-2);\n",
              "}\n",
              "\n",
              "/* Estimator-specific style */\n",
              "\n",
              "/* Colorize estimator box */\n",
              "#sk-container-id-4 div.sk-estimator input.sk-toggleable__control:checked~label.sk-toggleable__label {\n",
              "  /* unfitted */\n",
              "  background-color: var(--sklearn-color-unfitted-level-2);\n",
              "}\n",
              "\n",
              "#sk-container-id-4 div.sk-estimator.fitted input.sk-toggleable__control:checked~label.sk-toggleable__label {\n",
              "  /* fitted */\n",
              "  background-color: var(--sklearn-color-fitted-level-2);\n",
              "}\n",
              "\n",
              "#sk-container-id-4 div.sk-label label.sk-toggleable__label,\n",
              "#sk-container-id-4 div.sk-label label {\n",
              "  /* The background is the default theme color */\n",
              "  color: var(--sklearn-color-text-on-default-background);\n",
              "}\n",
              "\n",
              "/* On hover, darken the color of the background */\n",
              "#sk-container-id-4 div.sk-label:hover label.sk-toggleable__label {\n",
              "  color: var(--sklearn-color-text);\n",
              "  background-color: var(--sklearn-color-unfitted-level-2);\n",
              "}\n",
              "\n",
              "/* Label box, darken color on hover, fitted */\n",
              "#sk-container-id-4 div.sk-label.fitted:hover label.sk-toggleable__label.fitted {\n",
              "  color: var(--sklearn-color-text);\n",
              "  background-color: var(--sklearn-color-fitted-level-2);\n",
              "}\n",
              "\n",
              "/* Estimator label */\n",
              "\n",
              "#sk-container-id-4 div.sk-label label {\n",
              "  font-family: monospace;\n",
              "  font-weight: bold;\n",
              "  display: inline-block;\n",
              "  line-height: 1.2em;\n",
              "}\n",
              "\n",
              "#sk-container-id-4 div.sk-label-container {\n",
              "  text-align: center;\n",
              "}\n",
              "\n",
              "/* Estimator-specific */\n",
              "#sk-container-id-4 div.sk-estimator {\n",
              "  font-family: monospace;\n",
              "  border: 1px dotted var(--sklearn-color-border-box);\n",
              "  border-radius: 0.25em;\n",
              "  box-sizing: border-box;\n",
              "  margin-bottom: 0.5em;\n",
              "  /* unfitted */\n",
              "  background-color: var(--sklearn-color-unfitted-level-0);\n",
              "}\n",
              "\n",
              "#sk-container-id-4 div.sk-estimator.fitted {\n",
              "  /* fitted */\n",
              "  background-color: var(--sklearn-color-fitted-level-0);\n",
              "}\n",
              "\n",
              "/* on hover */\n",
              "#sk-container-id-4 div.sk-estimator:hover {\n",
              "  /* unfitted */\n",
              "  background-color: var(--sklearn-color-unfitted-level-2);\n",
              "}\n",
              "\n",
              "#sk-container-id-4 div.sk-estimator.fitted:hover {\n",
              "  /* fitted */\n",
              "  background-color: var(--sklearn-color-fitted-level-2);\n",
              "}\n",
              "\n",
              "/* Specification for estimator info (e.g. \"i\" and \"?\") */\n",
              "\n",
              "/* Common style for \"i\" and \"?\" */\n",
              "\n",
              ".sk-estimator-doc-link,\n",
              "a:link.sk-estimator-doc-link,\n",
              "a:visited.sk-estimator-doc-link {\n",
              "  float: right;\n",
              "  font-size: smaller;\n",
              "  line-height: 1em;\n",
              "  font-family: monospace;\n",
              "  background-color: var(--sklearn-color-background);\n",
              "  border-radius: 1em;\n",
              "  height: 1em;\n",
              "  width: 1em;\n",
              "  text-decoration: none !important;\n",
              "  margin-left: 0.5em;\n",
              "  text-align: center;\n",
              "  /* unfitted */\n",
              "  border: var(--sklearn-color-unfitted-level-1) 1pt solid;\n",
              "  color: var(--sklearn-color-unfitted-level-1);\n",
              "}\n",
              "\n",
              ".sk-estimator-doc-link.fitted,\n",
              "a:link.sk-estimator-doc-link.fitted,\n",
              "a:visited.sk-estimator-doc-link.fitted {\n",
              "  /* fitted */\n",
              "  border: var(--sklearn-color-fitted-level-1) 1pt solid;\n",
              "  color: var(--sklearn-color-fitted-level-1);\n",
              "}\n",
              "\n",
              "/* On hover */\n",
              "div.sk-estimator:hover .sk-estimator-doc-link:hover,\n",
              ".sk-estimator-doc-link:hover,\n",
              "div.sk-label-container:hover .sk-estimator-doc-link:hover,\n",
              ".sk-estimator-doc-link:hover {\n",
              "  /* unfitted */\n",
              "  background-color: var(--sklearn-color-unfitted-level-3);\n",
              "  color: var(--sklearn-color-background);\n",
              "  text-decoration: none;\n",
              "}\n",
              "\n",
              "div.sk-estimator.fitted:hover .sk-estimator-doc-link.fitted:hover,\n",
              ".sk-estimator-doc-link.fitted:hover,\n",
              "div.sk-label-container:hover .sk-estimator-doc-link.fitted:hover,\n",
              ".sk-estimator-doc-link.fitted:hover {\n",
              "  /* fitted */\n",
              "  background-color: var(--sklearn-color-fitted-level-3);\n",
              "  color: var(--sklearn-color-background);\n",
              "  text-decoration: none;\n",
              "}\n",
              "\n",
              "/* Span, style for the box shown on hovering the info icon */\n",
              ".sk-estimator-doc-link span {\n",
              "  display: none;\n",
              "  z-index: 9999;\n",
              "  position: relative;\n",
              "  font-weight: normal;\n",
              "  right: .2ex;\n",
              "  padding: .5ex;\n",
              "  margin: .5ex;\n",
              "  width: min-content;\n",
              "  min-width: 20ex;\n",
              "  max-width: 50ex;\n",
              "  color: var(--sklearn-color-text);\n",
              "  box-shadow: 2pt 2pt 4pt #999;\n",
              "  /* unfitted */\n",
              "  background: var(--sklearn-color-unfitted-level-0);\n",
              "  border: .5pt solid var(--sklearn-color-unfitted-level-3);\n",
              "}\n",
              "\n",
              ".sk-estimator-doc-link.fitted span {\n",
              "  /* fitted */\n",
              "  background: var(--sklearn-color-fitted-level-0);\n",
              "  border: var(--sklearn-color-fitted-level-3);\n",
              "}\n",
              "\n",
              ".sk-estimator-doc-link:hover span {\n",
              "  display: block;\n",
              "}\n",
              "\n",
              "/* \"?\"-specific style due to the `<a>` HTML tag */\n",
              "\n",
              "#sk-container-id-4 a.estimator_doc_link {\n",
              "  float: right;\n",
              "  font-size: 1rem;\n",
              "  line-height: 1em;\n",
              "  font-family: monospace;\n",
              "  background-color: var(--sklearn-color-background);\n",
              "  border-radius: 1rem;\n",
              "  height: 1rem;\n",
              "  width: 1rem;\n",
              "  text-decoration: none;\n",
              "  /* unfitted */\n",
              "  color: var(--sklearn-color-unfitted-level-1);\n",
              "  border: var(--sklearn-color-unfitted-level-1) 1pt solid;\n",
              "}\n",
              "\n",
              "#sk-container-id-4 a.estimator_doc_link.fitted {\n",
              "  /* fitted */\n",
              "  border: var(--sklearn-color-fitted-level-1) 1pt solid;\n",
              "  color: var(--sklearn-color-fitted-level-1);\n",
              "}\n",
              "\n",
              "/* On hover */\n",
              "#sk-container-id-4 a.estimator_doc_link:hover {\n",
              "  /* unfitted */\n",
              "  background-color: var(--sklearn-color-unfitted-level-3);\n",
              "  color: var(--sklearn-color-background);\n",
              "  text-decoration: none;\n",
              "}\n",
              "\n",
              "#sk-container-id-4 a.estimator_doc_link.fitted:hover {\n",
              "  /* fitted */\n",
              "  background-color: var(--sklearn-color-fitted-level-3);\n",
              "}\n",
              "</style><div id=\"sk-container-id-4\" class=\"sk-top-container\"><div class=\"sk-text-repr-fallback\"><pre>ExtraTreesClassifier(random_state=42)</pre><b>In a Jupyter environment, please rerun this cell to show the HTML representation or trust the notebook. <br />On GitHub, the HTML representation is unable to render, please try loading this page with nbviewer.org.</b></div><div class=\"sk-container\" hidden><div class=\"sk-item\"><div class=\"sk-estimator fitted sk-toggleable\"><input class=\"sk-toggleable__control sk-hidden--visually\" id=\"sk-estimator-id-4\" type=\"checkbox\" checked><label for=\"sk-estimator-id-4\" class=\"sk-toggleable__label fitted sk-toggleable__label-arrow\"><div><div>ExtraTreesClassifier</div></div><div><a class=\"sk-estimator-doc-link fitted\" rel=\"noreferrer\" target=\"_blank\" href=\"https://scikit-learn.org/1.6/modules/generated/sklearn.ensemble.ExtraTreesClassifier.html\">?<span>Documentation for ExtraTreesClassifier</span></a><span class=\"sk-estimator-doc-link fitted\">i<span>Fitted</span></span></div></label><div class=\"sk-toggleable__content fitted\"><pre>ExtraTreesClassifier(random_state=42)</pre></div> </div></div></div></div>"
            ]
          },
          "metadata": {},
          "execution_count": 95
        }
      ],
      "source": [
        "model = ExtraTreesClassifier(random_state=42)\n",
        "\n",
        "model.fit(X_train_encoded, y)"
      ]
    },
    {
      "cell_type": "code",
      "execution_count": null,
      "metadata": {
        "colab": {
          "base_uri": "https://localhost:8080/"
        },
        "id": "PfcWiCEHAS55",
        "outputId": "ea1ccb3c-4b75-4523-e1de-09cf60fe8727"
      },
      "outputs": [
        {
          "output_type": "stream",
          "name": "stdout",
          "text": [
            "시술 시기 코드            0.124904\n",
            "수집된 신선 난자 수         0.085707\n",
            "배아 이식 경과일           0.070477\n",
            "총 생성 배아 수           0.064480\n",
            "시술 당시 나이            0.058823\n",
            "혼합된 난자 수            0.048171\n",
            "저장된 배아 수            0.045468\n",
            "파트너 정자와 혼합된 난자 수    0.044874\n",
            "클리닉 내 총 시술 횟수       0.039432\n",
            "총 시술 횟수             0.031844\n",
            "dtype: float64\n"
          ]
        }
      ],
      "source": [
        "## 피쳐 중요도 계산하기\n",
        "importances = model.feature_importances_\n",
        "feature_names = X_train_encoded.columns\n",
        "feature_importance = pd.Series(importances, index=feature_names).sort_values(ascending=False)\n",
        "print(feature_importance.head(10))\n"
      ]
    },
    {
      "cell_type": "code",
      "execution_count": null,
      "metadata": {
        "id": "Ne8LMSq7V7CB"
      },
      "outputs": [],
      "source": [
        "X_train = X_train_encoded\n",
        "X_test = X_test_encoded"
      ]
    },
    {
      "cell_type": "code",
      "execution_count": null,
      "metadata": {
        "colab": {
          "base_uri": "https://localhost:8080/"
        },
        "id": "nxIfXxW-V7CB",
        "outputId": "f947d6aa-af52-4d34-a046-ed0f3b4b7b1b"
      },
      "outputs": [
        {
          "output_type": "stream",
          "name": "stderr",
          "text": [
            "[I 2025-03-04 13:51:17,213] A new study created in memory with name: no-name-e31bde9d-d39a-49df-9b66-23566549326c\n"
          ]
        },
        {
          "output_type": "stream",
          "name": "stdout",
          "text": [
            "Training until validation scores don't improve for 50 rounds\n",
            "Did not meet early stopping. Best iteration is:\n",
            "[212]\tvalid_0's auc: 0.733494\n",
            "Training until validation scores don't improve for 50 rounds\n",
            "Did not meet early stopping. Best iteration is:\n",
            "[212]\tvalid_0's auc: 0.736562\n",
            "Training until validation scores don't improve for 50 rounds\n",
            "Did not meet early stopping. Best iteration is:\n",
            "[212]\tvalid_0's auc: 0.7354\n",
            "Training until validation scores don't improve for 50 rounds\n",
            "Did not meet early stopping. Best iteration is:\n",
            "[212]\tvalid_0's auc: 0.734465\n",
            "Training until validation scores don't improve for 50 rounds\n"
          ]
        },
        {
          "output_type": "stream",
          "name": "stderr",
          "text": [
            "[I 2025-03-04 13:51:37,078] Trial 0 finished with value: 0.7350815400462016 and parameters: {'n_estimators': 212, 'learning_rate': 0.010608047891781807, 'max_depth': 5, 'num_leaves': 84, 'min_child_samples': 24, 'subsample': 0.6904171523180531, 'colsample_bytree': 0.890863096484097, 'reg_alpha': 0.017974450471756644, 'reg_lambda': 0.00010707097015374091}. Best is trial 0 with value: 0.7350815400462016.\n"
          ]
        },
        {
          "output_type": "stream",
          "name": "stdout",
          "text": [
            "Did not meet early stopping. Best iteration is:\n",
            "[212]\tvalid_0's auc: 0.735486\n",
            "Training until validation scores don't improve for 50 rounds\n",
            "Early stopping, best iteration is:\n",
            "[265]\tvalid_0's auc: 0.737917\n",
            "Training until validation scores don't improve for 50 rounds\n",
            "Early stopping, best iteration is:\n",
            "[289]\tvalid_0's auc: 0.742331\n",
            "Training until validation scores don't improve for 50 rounds\n",
            "Early stopping, best iteration is:\n",
            "[233]\tvalid_0's auc: 0.739819\n",
            "Training until validation scores don't improve for 50 rounds\n",
            "Early stopping, best iteration is:\n",
            "[148]\tvalid_0's auc: 0.737473\n",
            "Training until validation scores don't improve for 50 rounds\n"
          ]
        },
        {
          "output_type": "stream",
          "name": "stderr",
          "text": [
            "[I 2025-03-04 13:51:53,727] Trial 1 finished with value: 0.7396008802493089 and parameters: {'n_estimators': 770, 'learning_rate': 0.09194818292381693, 'max_depth': 4, 'num_leaves': 91, 'min_child_samples': 20, 'subsample': 0.7004659473809183, 'colsample_bytree': 0.6763187243026124, 'reg_alpha': 1.5608199933990704e-06, 'reg_lambda': 3.356353597036461e-05}. Best is trial 1 with value: 0.7396008802493089.\n"
          ]
        },
        {
          "output_type": "stream",
          "name": "stdout",
          "text": [
            "Early stopping, best iteration is:\n",
            "[237]\tvalid_0's auc: 0.740464\n",
            "Training until validation scores don't improve for 50 rounds\n",
            "Did not meet early stopping. Best iteration is:\n",
            "[650]\tvalid_0's auc: 0.737944\n",
            "Training until validation scores don't improve for 50 rounds\n",
            "Did not meet early stopping. Best iteration is:\n",
            "[684]\tvalid_0's auc: 0.742617\n",
            "Training until validation scores don't improve for 50 rounds\n",
            "Did not meet early stopping. Best iteration is:\n",
            "[684]\tvalid_0's auc: 0.739578\n",
            "Training until validation scores don't improve for 50 rounds\n",
            "Early stopping, best iteration is:\n",
            "[473]\tvalid_0's auc: 0.737516\n",
            "Training until validation scores don't improve for 50 rounds\n",
            "Did not meet early stopping. Best iteration is:\n",
            "[686]\tvalid_0's auc: 0.740884\n"
          ]
        },
        {
          "output_type": "stream",
          "name": "stderr",
          "text": [
            "[I 2025-03-04 13:52:20,868] Trial 2 finished with value: 0.7397079235294212 and parameters: {'n_estimators': 686, 'learning_rate': 0.05564349955055471, 'max_depth': 3, 'num_leaves': 17, 'min_child_samples': 14, 'subsample': 0.8034693442337504, 'colsample_bytree': 0.7579266974058977, 'reg_alpha': 3.4851733178518594e-07, 'reg_lambda': 0.003583819361389832}. Best is trial 2 with value: 0.7397079235294212.\n"
          ]
        },
        {
          "output_type": "stream",
          "name": "stdout",
          "text": [
            "Training until validation scores don't improve for 50 rounds\n",
            "Did not meet early stopping. Best iteration is:\n",
            "[281]\tvalid_0's auc: 0.738247\n",
            "Training until validation scores don't improve for 50 rounds\n",
            "Did not meet early stopping. Best iteration is:\n",
            "[259]\tvalid_0's auc: 0.742338\n",
            "Training until validation scores don't improve for 50 rounds\n",
            "Did not meet early stopping. Best iteration is:\n",
            "[257]\tvalid_0's auc: 0.739756\n",
            "Training until validation scores don't improve for 50 rounds\n",
            "Did not meet early stopping. Best iteration is:\n",
            "[280]\tvalid_0's auc: 0.737681\n",
            "Training until validation scores don't improve for 50 rounds\n"
          ]
        },
        {
          "output_type": "stream",
          "name": "stderr",
          "text": [
            "[I 2025-03-04 13:52:35,541] Trial 3 finished with value: 0.7397039826140575 and parameters: {'n_estimators': 286, 'learning_rate': 0.09870830204812142, 'max_depth': 5, 'num_leaves': 10, 'min_child_samples': 29, 'subsample': 0.7224719757374243, 'colsample_bytree': 0.7128869593384307, 'reg_alpha': 8.664925278824128e-07, 'reg_lambda': 0.000778237700014608}. Best is trial 2 with value: 0.7397079235294212.\n"
          ]
        },
        {
          "output_type": "stream",
          "name": "stdout",
          "text": [
            "Did not meet early stopping. Best iteration is:\n",
            "[265]\tvalid_0's auc: 0.740498\n",
            "Training until validation scores don't improve for 50 rounds\n",
            "Did not meet early stopping. Best iteration is:\n",
            "[989]\tvalid_0's auc: 0.737999\n",
            "Training until validation scores don't improve for 50 rounds\n",
            "Did not meet early stopping. Best iteration is:\n",
            "[990]\tvalid_0's auc: 0.742607\n",
            "Training until validation scores don't improve for 50 rounds\n",
            "Early stopping, best iteration is:\n",
            "[677]\tvalid_0's auc: 0.739935\n",
            "Training until validation scores don't improve for 50 rounds\n",
            "Early stopping, best iteration is:\n",
            "[566]\tvalid_0's auc: 0.737778\n",
            "Training until validation scores don't improve for 50 rounds\n",
            "Did not meet early stopping. Best iteration is:\n",
            "[941]\tvalid_0's auc: 0.741064\n"
          ]
        },
        {
          "output_type": "stream",
          "name": "stderr",
          "text": [
            "[I 2025-03-04 13:53:11,272] Trial 4 finished with value: 0.7398764167094976 and parameters: {'n_estimators': 990, 'learning_rate': 0.04481968123728968, 'max_depth': 3, 'num_leaves': 56, 'min_child_samples': 100, 'subsample': 0.6698705819116333, 'colsample_bytree': 0.8484704117911293, 'reg_alpha': 6.210356608217858e-05, 'reg_lambda': 6.071688740846622}. Best is trial 4 with value: 0.7398764167094976.\n"
          ]
        },
        {
          "output_type": "stream",
          "name": "stdout",
          "text": [
            "Training until validation scores don't improve for 50 rounds\n",
            "Early stopping, best iteration is:\n",
            "[386]\tvalid_0's auc: 0.738278\n",
            "Training until validation scores don't improve for 50 rounds\n",
            "Early stopping, best iteration is:\n",
            "[461]\tvalid_0's auc: 0.742586\n",
            "Training until validation scores don't improve for 50 rounds\n",
            "Early stopping, best iteration is:\n",
            "[440]\tvalid_0's auc: 0.740151\n",
            "Training until validation scores don't improve for 50 rounds\n",
            "Early stopping, best iteration is:\n",
            "[456]\tvalid_0's auc: 0.737957\n",
            "Training until validation scores don't improve for 50 rounds\n",
            "Early stopping, best iteration is:\n",
            "[512]\tvalid_0's auc: 0.741337\n"
          ]
        },
        {
          "output_type": "stream",
          "name": "stderr",
          "text": [
            "[I 2025-03-04 13:53:34,571] Trial 5 finished with value: 0.7400616876037184 and parameters: {'n_estimators': 870, 'learning_rate': 0.05977088393234256, 'max_depth': 4, 'num_leaves': 19, 'min_child_samples': 84, 'subsample': 0.831274047574088, 'colsample_bytree': 0.9063965379219737, 'reg_alpha': 5.192297227897678, 'reg_lambda': 7.291055586974823}. Best is trial 5 with value: 0.7400616876037184.\n"
          ]
        },
        {
          "output_type": "stream",
          "name": "stdout",
          "text": [
            "Training until validation scores don't improve for 50 rounds\n",
            "Early stopping, best iteration is:\n",
            "[307]\tvalid_0's auc: 0.73783\n",
            "Training until validation scores don't improve for 50 rounds\n",
            "Early stopping, best iteration is:\n",
            "[261]\tvalid_0's auc: 0.742434\n",
            "Training until validation scores don't improve for 50 rounds\n",
            "Early stopping, best iteration is:\n",
            "[215]\tvalid_0's auc: 0.740065\n",
            "Training until validation scores don't improve for 50 rounds\n",
            "Early stopping, best iteration is:\n",
            "[173]\tvalid_0's auc: 0.737891\n",
            "Training until validation scores don't improve for 50 rounds\n",
            "Early stopping, best iteration is:\n",
            "[330]\tvalid_0's auc: 0.740536\n"
          ]
        },
        {
          "output_type": "stream",
          "name": "stderr",
          "text": [
            "[I 2025-03-04 13:53:58,112] Trial 6 finished with value: 0.7397511180527915 and parameters: {'n_estimators': 505, 'learning_rate': 0.041923129064048305, 'max_depth': 6, 'num_leaves': 76, 'min_child_samples': 83, 'subsample': 0.7266352712883815, 'colsample_bytree': 0.622626925441919, 'reg_alpha': 0.00034521055013850754, 'reg_lambda': 0.006093042037324282}. Best is trial 5 with value: 0.7400616876037184.\n"
          ]
        },
        {
          "output_type": "stream",
          "name": "stdout",
          "text": [
            "Training until validation scores don't improve for 50 rounds\n",
            "Early stopping, best iteration is:\n",
            "[230]\tvalid_0's auc: 0.737609\n",
            "Training until validation scores don't improve for 50 rounds\n",
            "Did not meet early stopping. Best iteration is:\n",
            "[294]\tvalid_0's auc: 0.74231\n",
            "Training until validation scores don't improve for 50 rounds\n",
            "Early stopping, best iteration is:\n",
            "[194]\tvalid_0's auc: 0.739855\n",
            "Training until validation scores don't improve for 50 rounds\n",
            "Early stopping, best iteration is:\n",
            "[160]\tvalid_0's auc: 0.738206\n",
            "Training until validation scores don't improve for 50 rounds\n",
            "Did not meet early stopping. Best iteration is:\n",
            "[268]\tvalid_0's auc: 0.740414\n"
          ]
        },
        {
          "output_type": "stream",
          "name": "stderr",
          "text": [
            "[I 2025-03-04 13:54:22,021] Trial 7 finished with value: 0.7396786375278557 and parameters: {'n_estimators': 299, 'learning_rate': 0.025453314892762494, 'max_depth': 8, 'num_leaves': 88, 'min_child_samples': 80, 'subsample': 0.9205339099154373, 'colsample_bytree': 0.7085197497579961, 'reg_alpha': 2.826257071732489e-07, 'reg_lambda': 1.1528488791767978e-06}. Best is trial 5 with value: 0.7400616876037184.\n"
          ]
        },
        {
          "output_type": "stream",
          "name": "stdout",
          "text": [
            "Training until validation scores don't improve for 50 rounds\n",
            "Early stopping, best iteration is:\n",
            "[136]\tvalid_0's auc: 0.737264\n",
            "Training until validation scores don't improve for 50 rounds\n",
            "Early stopping, best iteration is:\n",
            "[123]\tvalid_0's auc: 0.742054\n",
            "Training until validation scores don't improve for 50 rounds\n",
            "Early stopping, best iteration is:\n",
            "[99]\tvalid_0's auc: 0.739601\n",
            "Training until validation scores don't improve for 50 rounds\n",
            "Early stopping, best iteration is:\n",
            "[61]\tvalid_0's auc: 0.737687\n",
            "Training until validation scores don't improve for 50 rounds\n"
          ]
        },
        {
          "output_type": "stream",
          "name": "stderr",
          "text": [
            "[I 2025-03-04 13:54:36,046] Trial 8 finished with value: 0.7393875088003905 and parameters: {'n_estimators': 457, 'learning_rate': 0.056809314131141896, 'max_depth': 8, 'num_leaves': 72, 'min_child_samples': 49, 'subsample': 0.9855085077323882, 'colsample_bytree': 0.7184403490304584, 'reg_alpha': 0.03195556000075298, 'reg_lambda': 3.4879680004595306e-05}. Best is trial 5 with value: 0.7400616876037184.\n"
          ]
        },
        {
          "output_type": "stream",
          "name": "stdout",
          "text": [
            "Early stopping, best iteration is:\n",
            "[136]\tvalid_0's auc: 0.740332\n",
            "Training until validation scores don't improve for 50 rounds\n",
            "Did not meet early stopping. Best iteration is:\n",
            "[210]\tvalid_0's auc: 0.737505\n",
            "Training until validation scores don't improve for 50 rounds\n",
            "Did not meet early stopping. Best iteration is:\n",
            "[208]\tvalid_0's auc: 0.742053\n",
            "Training until validation scores don't improve for 50 rounds\n",
            "Did not meet early stopping. Best iteration is:\n",
            "[201]\tvalid_0's auc: 0.73964\n",
            "Training until validation scores don't improve for 50 rounds\n",
            "Did not meet early stopping. Best iteration is:\n",
            "[210]\tvalid_0's auc: 0.737572\n",
            "Training until validation scores don't improve for 50 rounds\n"
          ]
        },
        {
          "output_type": "stream",
          "name": "stderr",
          "text": [
            "[I 2025-03-04 13:54:48,353] Trial 9 finished with value: 0.7394481167298517 and parameters: {'n_estimators': 210, 'learning_rate': 0.06816419955291082, 'max_depth': 4, 'num_leaves': 53, 'min_child_samples': 79, 'subsample': 0.8532016046082724, 'colsample_bytree': 0.7124799326588354, 'reg_alpha': 3.3633158386014375e-05, 'reg_lambda': 0.4273130221424755}. Best is trial 5 with value: 0.7400616876037184.\n"
          ]
        },
        {
          "output_type": "stream",
          "name": "stdout",
          "text": [
            "Did not meet early stopping. Best iteration is:\n",
            "[210]\tvalid_0's auc: 0.740471\n",
            "Training until validation scores don't improve for 50 rounds\n",
            "Early stopping, best iteration is:\n",
            "[131]\tvalid_0's auc: 0.737577\n",
            "Training until validation scores don't improve for 50 rounds\n",
            "Early stopping, best iteration is:\n",
            "[196]\tvalid_0's auc: 0.742573\n",
            "Training until validation scores don't improve for 50 rounds\n",
            "Early stopping, best iteration is:\n",
            "[124]\tvalid_0's auc: 0.740235\n",
            "Training until validation scores don't improve for 50 rounds\n",
            "Early stopping, best iteration is:\n",
            "[122]\tvalid_0's auc: 0.738381\n",
            "Training until validation scores don't improve for 50 rounds\n"
          ]
        },
        {
          "output_type": "stream",
          "name": "stderr",
          "text": [
            "[I 2025-03-04 13:55:02,115] Trial 10 finished with value: 0.7400720766425537 and parameters: {'n_estimators': 908, 'learning_rate': 0.07958462863289034, 'max_depth': 10, 'num_leaves': 31, 'min_child_samples': 57, 'subsample': 0.6101719461722511, 'colsample_bytree': 0.9976471091283321, 'reg_alpha': 8.918539782327807, 'reg_lambda': 3.846496392495101e-08}. Best is trial 10 with value: 0.7400720766425537.\n"
          ]
        },
        {
          "output_type": "stream",
          "name": "stdout",
          "text": [
            "Early stopping, best iteration is:\n",
            "[185]\tvalid_0's auc: 0.741595\n",
            "Training until validation scores don't improve for 50 rounds\n",
            "Early stopping, best iteration is:\n",
            "[108]\tvalid_0's auc: 0.737556\n",
            "Training until validation scores don't improve for 50 rounds\n",
            "Early stopping, best iteration is:\n",
            "[176]\tvalid_0's auc: 0.742528\n",
            "Training until validation scores don't improve for 50 rounds\n",
            "Early stopping, best iteration is:\n",
            "[125]\tvalid_0's auc: 0.740143\n",
            "Training until validation scores don't improve for 50 rounds\n",
            "Early stopping, best iteration is:\n",
            "[94]\tvalid_0's auc: 0.738304\n",
            "Training until validation scores don't improve for 50 rounds\n"
          ]
        },
        {
          "output_type": "stream",
          "name": "stderr",
          "text": [
            "[I 2025-03-04 13:55:15,293] Trial 11 finished with value: 0.7399866441729805 and parameters: {'n_estimators': 987, 'learning_rate': 0.07991584592558934, 'max_depth': 10, 'num_leaves': 33, 'min_child_samples': 53, 'subsample': 0.8247589387010038, 'colsample_bytree': 0.9892206895257496, 'reg_alpha': 8.002879825085161, 'reg_lambda': 1.3026594421586219e-08}. Best is trial 10 with value: 0.7400720766425537.\n"
          ]
        },
        {
          "output_type": "stream",
          "name": "stdout",
          "text": [
            "Early stopping, best iteration is:\n",
            "[119]\tvalid_0's auc: 0.741402\n",
            "Training until validation scores don't improve for 50 rounds\n",
            "Early stopping, best iteration is:\n",
            "[125]\tvalid_0's auc: 0.737647\n",
            "Training until validation scores don't improve for 50 rounds\n",
            "Early stopping, best iteration is:\n",
            "[177]\tvalid_0's auc: 0.742712\n",
            "Training until validation scores don't improve for 50 rounds\n",
            "Early stopping, best iteration is:\n",
            "[137]\tvalid_0's auc: 0.740124\n",
            "Training until validation scores don't improve for 50 rounds\n",
            "Early stopping, best iteration is:\n",
            "[138]\tvalid_0's auc: 0.738222\n",
            "Training until validation scores don't improve for 50 rounds\n"
          ]
        },
        {
          "output_type": "stream",
          "name": "stderr",
          "text": [
            "[I 2025-03-04 13:55:29,199] Trial 12 finished with value: 0.7399947878311283 and parameters: {'n_estimators': 807, 'learning_rate': 0.07755336582129616, 'max_depth': 10, 'num_leaves': 31, 'min_child_samples': 58, 'subsample': 0.6014909738044518, 'colsample_bytree': 0.9997894351121164, 'reg_alpha': 9.349382407326, 'reg_lambda': 2.4707330658287726e-08}. Best is trial 10 with value: 0.7400720766425537.\n"
          ]
        },
        {
          "output_type": "stream",
          "name": "stdout",
          "text": [
            "Early stopping, best iteration is:\n",
            "[135]\tvalid_0's auc: 0.741268\n",
            "Training until validation scores don't improve for 50 rounds\n",
            "Early stopping, best iteration is:\n",
            "[145]\tvalid_0's auc: 0.73767\n",
            "Training until validation scores don't improve for 50 rounds\n",
            "Early stopping, best iteration is:\n",
            "[166]\tvalid_0's auc: 0.742109\n",
            "Training until validation scores don't improve for 50 rounds\n",
            "Early stopping, best iteration is:\n",
            "[165]\tvalid_0's auc: 0.739968\n",
            "Training until validation scores don't improve for 50 rounds\n",
            "Early stopping, best iteration is:\n",
            "[101]\tvalid_0's auc: 0.73803\n",
            "Training until validation scores don't improve for 50 rounds\n"
          ]
        },
        {
          "output_type": "stream",
          "name": "stderr",
          "text": [
            "[I 2025-03-04 13:55:43,629] Trial 13 finished with value: 0.7397694993518729 and parameters: {'n_estimators': 829, 'learning_rate': 0.06773019705659902, 'max_depth': 8, 'num_leaves': 30, 'min_child_samples': 66, 'subsample': 0.8785504971819009, 'colsample_bytree': 0.93034363674364, 'reg_alpha': 0.24763091666284684, 'reg_lambda': 0.24756525332219043}. Best is trial 10 with value: 0.7400720766425537.\n"
          ]
        },
        {
          "output_type": "stream",
          "name": "stdout",
          "text": [
            "Early stopping, best iteration is:\n",
            "[206]\tvalid_0's auc: 0.74107\n",
            "Training until validation scores don't improve for 50 rounds\n",
            "Early stopping, best iteration is:\n",
            "[124]\tvalid_0's auc: 0.737252\n",
            "Training until validation scores don't improve for 50 rounds\n",
            "Early stopping, best iteration is:\n",
            "[109]\tvalid_0's auc: 0.742458\n",
            "Training until validation scores don't improve for 50 rounds\n",
            "Early stopping, best iteration is:\n",
            "[71]\tvalid_0's auc: 0.739583\n",
            "Training until validation scores don't improve for 50 rounds\n",
            "Early stopping, best iteration is:\n",
            "[80]\tvalid_0's auc: 0.738092\n",
            "Training until validation scores don't improve for 50 rounds\n"
          ]
        },
        {
          "output_type": "stream",
          "name": "stderr",
          "text": [
            "[I 2025-03-04 13:55:55,292] Trial 14 finished with value: 0.739573545116334 and parameters: {'n_estimators': 674, 'learning_rate': 0.08413405773693654, 'max_depth': 7, 'num_leaves': 46, 'min_child_samples': 98, 'subsample': 0.7676203702255892, 'colsample_bytree': 0.9357703864864183, 'reg_alpha': 0.3787506398143155, 'reg_lambda': 9.830961171177102e-07}. Best is trial 10 with value: 0.7400720766425537.\n"
          ]
        },
        {
          "output_type": "stream",
          "name": "stdout",
          "text": [
            "Early stopping, best iteration is:\n",
            "[104]\tvalid_0's auc: 0.740482\n",
            "Training until validation scores don't improve for 50 rounds\n",
            "Early stopping, best iteration is:\n",
            "[258]\tvalid_0's auc: 0.7381\n",
            "Training until validation scores don't improve for 50 rounds\n",
            "Early stopping, best iteration is:\n",
            "[212]\tvalid_0's auc: 0.742628\n",
            "Training until validation scores don't improve for 50 rounds\n",
            "Early stopping, best iteration is:\n",
            "[172]\tvalid_0's auc: 0.740097\n",
            "Training until validation scores don't improve for 50 rounds\n",
            "Early stopping, best iteration is:\n",
            "[183]\tvalid_0's auc: 0.737884\n",
            "Training until validation scores don't improve for 50 rounds\n"
          ]
        },
        {
          "output_type": "stream",
          "name": "stderr",
          "text": [
            "[I 2025-03-04 13:56:10,117] Trial 15 finished with value: 0.7399266010643722 and parameters: {'n_estimators': 903, 'learning_rate': 0.06740119412302337, 'max_depth': 6, 'num_leaves': 21, 'min_child_samples': 40, 'subsample': 0.6172444269961727, 'colsample_bytree': 0.8374673428879427, 'reg_alpha': 0.0019419082969921616, 'reg_lambda': 4.681197203183397e-07}. Best is trial 10 with value: 0.7400720766425537.\n"
          ]
        },
        {
          "output_type": "stream",
          "name": "stdout",
          "text": [
            "Early stopping, best iteration is:\n",
            "[244]\tvalid_0's auc: 0.740924\n",
            "Training until validation scores don't improve for 50 rounds\n",
            "Early stopping, best iteration is:\n",
            "[174]\tvalid_0's auc: 0.737329\n",
            "Training until validation scores don't improve for 50 rounds\n",
            "Early stopping, best iteration is:\n",
            "[251]\tvalid_0's auc: 0.742185\n",
            "Training until validation scores don't improve for 50 rounds\n",
            "Early stopping, best iteration is:\n",
            "[188]\tvalid_0's auc: 0.739936\n",
            "Training until validation scores don't improve for 50 rounds\n",
            "Early stopping, best iteration is:\n",
            "[126]\tvalid_0's auc: 0.738062\n",
            "Training until validation scores don't improve for 50 rounds\n"
          ]
        },
        {
          "output_type": "stream",
          "name": "stderr",
          "text": [
            "[I 2025-03-04 13:56:27,094] Trial 16 finished with value: 0.7396872047582682 and parameters: {'n_estimators': 651, 'learning_rate': 0.045237658114072946, 'max_depth': 9, 'num_leaves': 44, 'min_child_samples': 71, 'subsample': 0.9237388012530582, 'colsample_bytree': 0.9421151260769735, 'reg_alpha': 0.9924421099003938, 'reg_lambda': 3.877391548755914}. Best is trial 10 with value: 0.7400720766425537.\n"
          ]
        },
        {
          "output_type": "stream",
          "name": "stdout",
          "text": [
            "Early stopping, best iteration is:\n",
            "[208]\tvalid_0's auc: 0.740924\n",
            "Training until validation scores don't improve for 50 rounds\n",
            "Early stopping, best iteration is:\n",
            "[542]\tvalid_0's auc: 0.737697\n",
            "Training until validation scores don't improve for 50 rounds\n",
            "Early stopping, best iteration is:\n",
            "[344]\tvalid_0's auc: 0.742338\n",
            "Training until validation scores don't improve for 50 rounds\n",
            "Early stopping, best iteration is:\n",
            "[347]\tvalid_0's auc: 0.739964\n",
            "Training until validation scores don't improve for 50 rounds\n",
            "Early stopping, best iteration is:\n",
            "[242]\tvalid_0's auc: 0.737976\n",
            "Training until validation scores don't improve for 50 rounds\n",
            "Early stopping, best iteration is:\n",
            "[488]\tvalid_0's auc: 0.740765\n"
          ]
        },
        {
          "output_type": "stream",
          "name": "stderr",
          "text": [
            "[I 2025-03-04 13:56:51,848] Trial 17 finished with value: 0.7397479976875093 and parameters: {'n_estimators': 902, 'learning_rate': 0.03464602159290675, 'max_depth': 7, 'num_leaves': 23, 'min_child_samples': 39, 'subsample': 0.7621919698891078, 'colsample_bytree': 0.8902276608304187, 'reg_alpha': 0.016961394627693617, 'reg_lambda': 0.027072539555803462}. Best is trial 10 with value: 0.7400720766425537.\n"
          ]
        },
        {
          "output_type": "stream",
          "name": "stdout",
          "text": [
            "Training until validation scores don't improve for 50 rounds\n",
            "Did not meet early stopping. Best iteration is:\n",
            "[556]\tvalid_0's auc: 0.738173\n",
            "Training until validation scores don't improve for 50 rounds\n",
            "Early stopping, best iteration is:\n",
            "[463]\tvalid_0's auc: 0.74243\n",
            "Training until validation scores don't improve for 50 rounds\n",
            "Early stopping, best iteration is:\n",
            "[332]\tvalid_0's auc: 0.739274\n",
            "Training until validation scores don't improve for 50 rounds\n",
            "Early stopping, best iteration is:\n",
            "[377]\tvalid_0's auc: 0.737825\n",
            "Training until validation scores don't improve for 50 rounds\n"
          ]
        },
        {
          "output_type": "stream",
          "name": "stderr",
          "text": [
            "[I 2025-03-04 13:57:11,924] Trial 18 finished with value: 0.7396159221835469 and parameters: {'n_estimators': 600, 'learning_rate': 0.061684667799895836, 'max_depth': 9, 'num_leaves': 10, 'min_child_samples': 5, 'subsample': 0.6541099037710398, 'colsample_bytree': 0.8119170047422994, 'reg_alpha': 1.5776676845965304e-08, 'reg_lambda': 6.574188017125421e-06}. Best is trial 10 with value: 0.7400720766425537.\n"
          ]
        },
        {
          "output_type": "stream",
          "name": "stdout",
          "text": [
            "Early stopping, best iteration is:\n",
            "[435]\tvalid_0's auc: 0.740377\n",
            "Training until validation scores don't improve for 50 rounds\n",
            "Early stopping, best iteration is:\n",
            "[182]\tvalid_0's auc: 0.737646\n",
            "Training until validation scores don't improve for 50 rounds\n",
            "Early stopping, best iteration is:\n",
            "[210]\tvalid_0's auc: 0.742318\n",
            "Training until validation scores don't improve for 50 rounds\n",
            "Early stopping, best iteration is:\n",
            "[179]\tvalid_0's auc: 0.739934\n",
            "Training until validation scores don't improve for 50 rounds\n",
            "Early stopping, best iteration is:\n",
            "[130]\tvalid_0's auc: 0.737575\n",
            "Training until validation scores don't improve for 50 rounds\n"
          ]
        },
        {
          "output_type": "stream",
          "name": "stderr",
          "text": [
            "[I 2025-03-04 13:57:26,186] Trial 19 finished with value: 0.7396652334617866 and parameters: {'n_estimators': 408, 'learning_rate': 0.07551554827093675, 'max_depth': 5, 'num_leaves': 39, 'min_child_samples': 66, 'subsample': 0.7648371478043658, 'colsample_bytree': 0.9676918612283052, 'reg_alpha': 1.3904277432536385, 'reg_lambda': 9.348567090726487e-08}. Best is trial 10 with value: 0.7400720766425537.\n"
          ]
        },
        {
          "output_type": "stream",
          "name": "stdout",
          "text": [
            "Early stopping, best iteration is:\n",
            "[206]\tvalid_0's auc: 0.740853\n",
            "Training until validation scores don't improve for 50 rounds\n",
            "Early stopping, best iteration is:\n",
            "[256]\tvalid_0's auc: 0.738284\n",
            "Training until validation scores don't improve for 50 rounds\n",
            "Early stopping, best iteration is:\n",
            "[308]\tvalid_0's auc: 0.742796\n",
            "Training until validation scores don't improve for 50 rounds\n",
            "Early stopping, best iteration is:\n",
            "[264]\tvalid_0's auc: 0.740078\n",
            "Training until validation scores don't improve for 50 rounds\n",
            "Early stopping, best iteration is:\n",
            "[224]\tvalid_0's auc: 0.737791\n",
            "Training until validation scores don't improve for 50 rounds\n"
          ]
        },
        {
          "output_type": "stream",
          "name": "stderr",
          "text": [
            "[I 2025-03-04 13:57:43,385] Trial 20 finished with value: 0.7399668214608919 and parameters: {'n_estimators': 744, 'learning_rate': 0.08814085655181586, 'max_depth': 4, 'num_leaves': 60, 'min_child_samples': 89, 'subsample': 0.8877358341774809, 'colsample_bytree': 0.893067432511939, 'reg_alpha': 0.0747314067809878, 'reg_lambda': 0.16021092057835712}. Best is trial 10 with value: 0.7400720766425537.\n"
          ]
        },
        {
          "output_type": "stream",
          "name": "stdout",
          "text": [
            "Early stopping, best iteration is:\n",
            "[243]\tvalid_0's auc: 0.740886\n",
            "Training until validation scores don't improve for 50 rounds\n",
            "Early stopping, best iteration is:\n",
            "[171]\tvalid_0's auc: 0.737709\n",
            "Training until validation scores don't improve for 50 rounds\n",
            "Early stopping, best iteration is:\n",
            "[179]\tvalid_0's auc: 0.742535\n",
            "Training until validation scores don't improve for 50 rounds\n",
            "Early stopping, best iteration is:\n",
            "[134]\tvalid_0's auc: 0.740022\n",
            "Training until validation scores don't improve for 50 rounds\n",
            "Early stopping, best iteration is:\n",
            "[132]\tvalid_0's auc: 0.738653\n",
            "Training until validation scores don't improve for 50 rounds\n"
          ]
        },
        {
          "output_type": "stream",
          "name": "stderr",
          "text": [
            "[I 2025-03-04 13:57:58,287] Trial 21 finished with value: 0.7401050552721161 and parameters: {'n_estimators': 852, 'learning_rate': 0.07421043766547171, 'max_depth': 10, 'num_leaves': 29, 'min_child_samples': 57, 'subsample': 0.6086731510135915, 'colsample_bytree': 0.9957048563783689, 'reg_alpha': 8.658648726334695, 'reg_lambda': 1.0255355420348832e-08}. Best is trial 21 with value: 0.7401050552721161.\n"
          ]
        },
        {
          "output_type": "stream",
          "name": "stdout",
          "text": [
            "Early stopping, best iteration is:\n",
            "[194]\tvalid_0's auc: 0.741606\n",
            "Training until validation scores don't improve for 50 rounds\n",
            "Early stopping, best iteration is:\n",
            "[170]\tvalid_0's auc: 0.737645\n",
            "Training until validation scores don't improve for 50 rounds\n",
            "Early stopping, best iteration is:\n",
            "[174]\tvalid_0's auc: 0.742504\n",
            "Training until validation scores don't improve for 50 rounds\n",
            "Early stopping, best iteration is:\n",
            "[152]\tvalid_0's auc: 0.740207\n",
            "Training until validation scores don't improve for 50 rounds\n",
            "Early stopping, best iteration is:\n",
            "[159]\tvalid_0's auc: 0.738181\n",
            "Training until validation scores don't improve for 50 rounds\n"
          ]
        },
        {
          "output_type": "stream",
          "name": "stderr",
          "text": [
            "[I 2025-03-04 13:58:12,423] Trial 22 finished with value: 0.7399555486954243 and parameters: {'n_estimators': 887, 'learning_rate': 0.07313778470291846, 'max_depth': 9, 'num_leaves': 24, 'min_child_samples': 42, 'subsample': 0.6382339265917164, 'colsample_bytree': 0.9657798637432933, 'reg_alpha': 2.9134909989899636, 'reg_lambda': 8.712130128596983e-08}. Best is trial 21 with value: 0.7401050552721161.\n"
          ]
        },
        {
          "output_type": "stream",
          "name": "stdout",
          "text": [
            "Early stopping, best iteration is:\n",
            "[198]\tvalid_0's auc: 0.741241\n",
            "Training until validation scores don't improve for 50 rounds\n",
            "Early stopping, best iteration is:\n",
            "[69]\tvalid_0's auc: 0.737521\n",
            "Training until validation scores don't improve for 50 rounds\n",
            "Early stopping, best iteration is:\n",
            "[92]\tvalid_0's auc: 0.742091\n",
            "Training until validation scores don't improve for 50 rounds\n",
            "Early stopping, best iteration is:\n",
            "[77]\tvalid_0's auc: 0.740007\n",
            "Training until validation scores don't improve for 50 rounds\n",
            "Early stopping, best iteration is:\n",
            "[49]\tvalid_0's auc: 0.737577\n",
            "Training until validation scores don't improve for 50 rounds\n"
          ]
        },
        {
          "output_type": "stream",
          "name": "stderr",
          "text": [
            "[I 2025-03-04 13:58:21,605] Trial 23 finished with value: 0.73961651778067 and parameters: {'n_estimators': 852, 'learning_rate': 0.09535984786896755, 'max_depth': 10, 'num_leaves': 37, 'min_child_samples': 60, 'subsample': 0.6352347887340061, 'colsample_bytree': 0.9196871284301875, 'reg_alpha': 0.20324962136496957, 'reg_lambda': 1.829213707030987e-07}. Best is trial 21 with value: 0.7401050552721161.\n"
          ]
        },
        {
          "output_type": "stream",
          "name": "stdout",
          "text": [
            "Early stopping, best iteration is:\n",
            "[75]\tvalid_0's auc: 0.740887\n",
            "Training until validation scores don't improve for 50 rounds\n",
            "Early stopping, best iteration is:\n",
            "[266]\tvalid_0's auc: 0.737731\n",
            "Training until validation scores don't improve for 50 rounds\n",
            "Early stopping, best iteration is:\n",
            "[322]\tvalid_0's auc: 0.742666\n",
            "Training until validation scores don't improve for 50 rounds\n",
            "Early stopping, best iteration is:\n",
            "[264]\tvalid_0's auc: 0.740196\n",
            "Training until validation scores don't improve for 50 rounds\n",
            "Early stopping, best iteration is:\n",
            "[205]\tvalid_0's auc: 0.73783\n",
            "Training until validation scores don't improve for 50 rounds\n"
          ]
        },
        {
          "output_type": "stream",
          "name": "stderr",
          "text": [
            "[I 2025-03-04 13:58:40,329] Trial 24 finished with value: 0.7399012968882157 and parameters: {'n_estimators': 965, 'learning_rate': 0.06208804046822282, 'max_depth': 9, 'num_leaves': 17, 'min_child_samples': 91, 'subsample': 0.8346791720552549, 'colsample_bytree': 0.9705682103236519, 'reg_alpha': 0.0028402359940171333, 'reg_lambda': 4.844771352173396e-06}. Best is trial 21 with value: 0.7401050552721161.\n"
          ]
        },
        {
          "output_type": "stream",
          "name": "stdout",
          "text": [
            "Early stopping, best iteration is:\n",
            "[330]\tvalid_0's auc: 0.741083\n",
            "Training until validation scores don't improve for 50 rounds\n",
            "Early stopping, best iteration is:\n",
            "[118]\tvalid_0's auc: 0.737971\n",
            "Training until validation scores don't improve for 50 rounds\n",
            "Early stopping, best iteration is:\n",
            "[138]\tvalid_0's auc: 0.7425\n",
            "Training until validation scores don't improve for 50 rounds\n",
            "Early stopping, best iteration is:\n",
            "[128]\tvalid_0's auc: 0.740002\n",
            "Training until validation scores don't improve for 50 rounds\n",
            "Early stopping, best iteration is:\n",
            "[121]\tvalid_0's auc: 0.738161\n",
            "Training until validation scores don't improve for 50 rounds\n"
          ]
        },
        {
          "output_type": "stream",
          "name": "stderr",
          "text": [
            "[I 2025-03-04 13:58:54,092] Trial 25 finished with value: 0.7399923036150795 and parameters: {'n_estimators': 748, 'learning_rate': 0.0842815076591844, 'max_depth': 10, 'num_leaves': 27, 'min_child_samples': 74, 'subsample': 0.6052045015304148, 'colsample_bytree': 0.857094721245086, 'reg_alpha': 2.0105075847694667, 'reg_lambda': 1.402959455640035e-08}. Best is trial 21 with value: 0.7401050552721161.\n"
          ]
        },
        {
          "output_type": "stream",
          "name": "stdout",
          "text": [
            "Early stopping, best iteration is:\n",
            "[249]\tvalid_0's auc: 0.741327\n",
            "Training until validation scores don't improve for 50 rounds\n",
            "Early stopping, best iteration is:\n",
            "[208]\tvalid_0's auc: 0.737381\n",
            "Training until validation scores don't improve for 50 rounds\n",
            "Early stopping, best iteration is:\n",
            "[254]\tvalid_0's auc: 0.742358\n",
            "Training until validation scores don't improve for 50 rounds\n",
            "Early stopping, best iteration is:\n",
            "[177]\tvalid_0's auc: 0.739838\n",
            "Training until validation scores don't improve for 50 rounds\n",
            "Early stopping, best iteration is:\n",
            "[157]\tvalid_0's auc: 0.738367\n",
            "Training until validation scores don't improve for 50 rounds\n"
          ]
        },
        {
          "output_type": "stream",
          "name": "stderr",
          "text": [
            "[I 2025-03-04 13:59:11,196] Trial 26 finished with value: 0.7398480618590415 and parameters: {'n_estimators': 928, 'learning_rate': 0.05025260258052766, 'max_depth': 7, 'num_leaves': 45, 'min_child_samples': 60, 'subsample': 0.6662170969296046, 'colsample_bytree': 0.9978881673381885, 'reg_alpha': 9.971331521510223, 'reg_lambda': 0.0007028555322901998}. Best is trial 21 with value: 0.7401050552721161.\n"
          ]
        },
        {
          "output_type": "stream",
          "name": "stdout",
          "text": [
            "Early stopping, best iteration is:\n",
            "[185]\tvalid_0's auc: 0.741296\n",
            "Training until validation scores don't improve for 50 rounds\n",
            "Early stopping, best iteration is:\n",
            "[248]\tvalid_0's auc: 0.737954\n",
            "Training until validation scores don't improve for 50 rounds\n",
            "Early stopping, best iteration is:\n",
            "[293]\tvalid_0's auc: 0.742396\n",
            "Training until validation scores don't improve for 50 rounds\n",
            "Early stopping, best iteration is:\n",
            "[201]\tvalid_0's auc: 0.739901\n",
            "Training until validation scores don't improve for 50 rounds\n",
            "Early stopping, best iteration is:\n",
            "[218]\tvalid_0's auc: 0.737913\n",
            "Training until validation scores don't improve for 50 rounds\n"
          ]
        },
        {
          "output_type": "stream",
          "name": "stderr",
          "text": [
            "[I 2025-03-04 13:59:27,499] Trial 27 finished with value: 0.7398149720231658 and parameters: {'n_estimators': 567, 'learning_rate': 0.06116576419228907, 'max_depth': 8, 'num_leaves': 16, 'min_child_samples': 48, 'subsample': 0.7342675285136112, 'colsample_bytree': 0.9516004295128918, 'reg_alpha': 0.6057219706752083, 'reg_lambda': 3.283053367005055e-06}. Best is trial 21 with value: 0.7401050552721161.\n"
          ]
        },
        {
          "output_type": "stream",
          "name": "stdout",
          "text": [
            "Early stopping, best iteration is:\n",
            "[295]\tvalid_0's auc: 0.740911\n",
            "Training until validation scores don't improve for 50 rounds\n",
            "Early stopping, best iteration is:\n",
            "[80]\tvalid_0's auc: 0.737481\n",
            "Training until validation scores don't improve for 50 rounds\n",
            "Early stopping, best iteration is:\n",
            "[150]\tvalid_0's auc: 0.742343\n",
            "Training until validation scores don't improve for 50 rounds\n",
            "Early stopping, best iteration is:\n",
            "[86]\tvalid_0's auc: 0.739353\n",
            "Training until validation scores don't improve for 50 rounds\n",
            "Early stopping, best iteration is:\n",
            "[70]\tvalid_0's auc: 0.738034\n",
            "Training until validation scores don't improve for 50 rounds\n"
          ]
        },
        {
          "output_type": "stream",
          "name": "stderr",
          "text": [
            "[I 2025-03-04 13:59:39,540] Trial 28 finished with value: 0.739625169177717 and parameters: {'n_estimators': 815, 'learning_rate': 0.07222660520981268, 'max_depth': 9, 'num_leaves': 37, 'min_child_samples': 34, 'subsample': 0.7937779356960051, 'colsample_bytree': 0.9014080094793606, 'reg_alpha': 0.1651620854141534, 'reg_lambda': 4.2238936445802325e-08}. Best is trial 21 with value: 0.7401050552721161.\n"
          ]
        },
        {
          "output_type": "stream",
          "name": "stdout",
          "text": [
            "Early stopping, best iteration is:\n",
            "[130]\tvalid_0's auc: 0.740915\n",
            "Training until validation scores don't improve for 50 rounds\n",
            "Did not meet early stopping. Best iteration is:\n",
            "[133]\tvalid_0's auc: 0.736776\n",
            "Training until validation scores don't improve for 50 rounds\n",
            "Did not meet early stopping. Best iteration is:\n",
            "[133]\tvalid_0's auc: 0.740226\n",
            "Training until validation scores don't improve for 50 rounds\n",
            "Did not meet early stopping. Best iteration is:\n",
            "[133]\tvalid_0's auc: 0.738851\n",
            "Training until validation scores don't improve for 50 rounds\n",
            "Did not meet early stopping. Best iteration is:\n",
            "[133]\tvalid_0's auc: 0.737568\n",
            "Training until validation scores don't improve for 50 rounds\n"
          ]
        },
        {
          "output_type": "stream",
          "name": "stderr",
          "text": [
            "[I 2025-03-04 13:59:51,367] Trial 29 finished with value: 0.7384751524494797 and parameters: {'n_estimators': 133, 'learning_rate': 0.027733134427304802, 'max_depth': 6, 'num_leaves': 66, 'min_child_samples': 67, 'subsample': 0.6950194176644042, 'colsample_bytree': 0.7984050356099933, 'reg_alpha': 0.009060644981310206, 'reg_lambda': 0.0001336647745082974}. Best is trial 21 with value: 0.7401050552721161.\n"
          ]
        },
        {
          "output_type": "stream",
          "name": "stdout",
          "text": [
            "Did not meet early stopping. Best iteration is:\n",
            "[133]\tvalid_0's auc: 0.738956\n",
            "Training until validation scores don't improve for 50 rounds\n",
            "Early stopping, best iteration is:\n",
            "[354]\tvalid_0's auc: 0.737425\n",
            "Training until validation scores don't improve for 50 rounds\n",
            "Early stopping, best iteration is:\n",
            "[497]\tvalid_0's auc: 0.742213\n",
            "Training until validation scores don't improve for 50 rounds\n",
            "Early stopping, best iteration is:\n",
            "[346]\tvalid_0's auc: 0.740025\n",
            "Training until validation scores don't improve for 50 rounds\n",
            "Early stopping, best iteration is:\n",
            "[300]\tvalid_0's auc: 0.738311\n",
            "Training until validation scores don't improve for 50 rounds\n",
            "Early stopping, best iteration is:\n",
            "[400]\tvalid_0's auc: 0.740763\n"
          ]
        },
        {
          "output_type": "stream",
          "name": "stderr",
          "text": [
            "[I 2025-03-04 14:00:22,839] Trial 30 finished with value: 0.7397472855043373 and parameters: {'n_estimators': 718, 'learning_rate': 0.016598164718159905, 'max_depth': 10, 'num_leaves': 52, 'min_child_samples': 54, 'subsample': 0.9723508423104795, 'colsample_bytree': 0.8748053556468389, 'reg_alpha': 2.398113475026017, 'reg_lambda': 2.8870488802231475e-07}. Best is trial 21 with value: 0.7401050552721161.\n"
          ]
        },
        {
          "output_type": "stream",
          "name": "stdout",
          "text": [
            "Training until validation scores don't improve for 50 rounds\n",
            "Early stopping, best iteration is:\n",
            "[81]\tvalid_0's auc: 0.73703\n",
            "Training until validation scores don't improve for 50 rounds\n",
            "Early stopping, best iteration is:\n",
            "[99]\tvalid_0's auc: 0.742149\n",
            "Training until validation scores don't improve for 50 rounds\n",
            "Early stopping, best iteration is:\n",
            "[76]\tvalid_0's auc: 0.739714\n",
            "Training until validation scores don't improve for 50 rounds\n",
            "Early stopping, best iteration is:\n",
            "[61]\tvalid_0's auc: 0.737549\n",
            "Training until validation scores don't improve for 50 rounds\n"
          ]
        },
        {
          "output_type": "stream",
          "name": "stderr",
          "text": [
            "[I 2025-03-04 14:00:35,892] Trial 31 finished with value: 0.7394096511540738 and parameters: {'n_estimators': 794, 'learning_rate': 0.07893016041019794, 'max_depth': 10, 'num_leaves': 99, 'min_child_samples': 58, 'subsample': 0.6055574668766731, 'colsample_bytree': 0.9990275987618218, 'reg_alpha': 8.818989629999285, 'reg_lambda': 3.599981568645599e-08}. Best is trial 21 with value: 0.7401050552721161.\n"
          ]
        },
        {
          "output_type": "stream",
          "name": "stdout",
          "text": [
            "Early stopping, best iteration is:\n",
            "[79]\tvalid_0's auc: 0.740607\n",
            "Training until validation scores don't improve for 50 rounds\n",
            "Early stopping, best iteration is:\n",
            "[89]\tvalid_0's auc: 0.737393\n",
            "Training until validation scores don't improve for 50 rounds\n",
            "Early stopping, best iteration is:\n",
            "[142]\tvalid_0's auc: 0.742266\n",
            "Training until validation scores don't improve for 50 rounds\n",
            "Early stopping, best iteration is:\n",
            "[93]\tvalid_0's auc: 0.740049\n",
            "Training until validation scores don't improve for 50 rounds\n",
            "Early stopping, best iteration is:\n",
            "[79]\tvalid_0's auc: 0.738023\n",
            "Training until validation scores don't improve for 50 rounds\n"
          ]
        },
        {
          "output_type": "stream",
          "name": "stderr",
          "text": [
            "[I 2025-03-04 14:00:47,598] Trial 32 finished with value: 0.7397882624146542 and parameters: {'n_estimators': 853, 'learning_rate': 0.0896135935569202, 'max_depth': 10, 'num_leaves': 30, 'min_child_samples': 46, 'subsample': 0.6371432617429846, 'colsample_bytree': 0.9770883120496355, 'reg_alpha': 3.14732712381106, 'reg_lambda': 1.2306835899825789e-08}. Best is trial 21 with value: 0.7401050552721161.\n"
          ]
        },
        {
          "output_type": "stream",
          "name": "stdout",
          "text": [
            "Early stopping, best iteration is:\n",
            "[122]\tvalid_0's auc: 0.74121\n",
            "Training until validation scores don't improve for 50 rounds\n",
            "Early stopping, best iteration is:\n",
            "[88]\tvalid_0's auc: 0.737238\n",
            "Training until validation scores don't improve for 50 rounds\n",
            "Early stopping, best iteration is:\n",
            "[135]\tvalid_0's auc: 0.742033\n",
            "Training until validation scores don't improve for 50 rounds\n",
            "Early stopping, best iteration is:\n",
            "[102]\tvalid_0's auc: 0.73997\n",
            "Training until validation scores don't improve for 50 rounds\n",
            "Early stopping, best iteration is:\n",
            "[62]\tvalid_0's auc: 0.737978\n",
            "Training until validation scores don't improve for 50 rounds\n"
          ]
        },
        {
          "output_type": "stream",
          "name": "stderr",
          "text": [
            "[I 2025-03-04 14:00:59,611] Trial 33 finished with value: 0.7395683713343948 and parameters: {'n_estimators': 933, 'learning_rate': 0.0797702120534265, 'max_depth': 9, 'num_leaves': 34, 'min_child_samples': 73, 'subsample': 0.6908603686495025, 'colsample_bytree': 0.922350562139092, 'reg_alpha': 0.0705658703331709, 'reg_lambda': 4.59640074169674e-08}. Best is trial 21 with value: 0.7401050552721161.\n"
          ]
        },
        {
          "output_type": "stream",
          "name": "stdout",
          "text": [
            "Early stopping, best iteration is:\n",
            "[138]\tvalid_0's auc: 0.740622\n",
            "Training until validation scores don't improve for 50 rounds\n",
            "Early stopping, best iteration is:\n",
            "[524]\tvalid_0's auc: 0.738253\n",
            "Training until validation scores don't improve for 50 rounds\n",
            "Early stopping, best iteration is:\n",
            "[663]\tvalid_0's auc: 0.742662\n",
            "Training until validation scores don't improve for 50 rounds\n",
            "Early stopping, best iteration is:\n",
            "[579]\tvalid_0's auc: 0.73983\n",
            "Training until validation scores don't improve for 50 rounds\n",
            "Early stopping, best iteration is:\n",
            "[287]\tvalid_0's auc: 0.737709\n",
            "Training until validation scores don't improve for 50 rounds\n"
          ]
        },
        {
          "output_type": "stream",
          "name": "stderr",
          "text": [
            "[I 2025-03-04 14:01:23,184] Trial 34 finished with value: 0.739945057419104 and parameters: {'n_estimators': 771, 'learning_rate': 0.08531875776157608, 'max_depth': 3, 'num_leaves': 17, 'min_child_samples': 59, 'subsample': 0.6253617438997007, 'colsample_bytree': 0.9556619860210697, 'reg_alpha': 0.8868758789059431, 'reg_lambda': 1.2803758789260444e-05}. Best is trial 21 with value: 0.7401050552721161.\n"
          ]
        },
        {
          "output_type": "stream",
          "name": "stdout",
          "text": [
            "Early stopping, best iteration is:\n",
            "[471]\tvalid_0's auc: 0.741271\n",
            "Training until validation scores don't improve for 50 rounds\n",
            "Early stopping, best iteration is:\n",
            "[192]\tvalid_0's auc: 0.737704\n",
            "Training until validation scores don't improve for 50 rounds\n",
            "Early stopping, best iteration is:\n",
            "[155]\tvalid_0's auc: 0.742667\n",
            "Training until validation scores don't improve for 50 rounds\n",
            "Early stopping, best iteration is:\n",
            "[147]\tvalid_0's auc: 0.740194\n",
            "Training until validation scores don't improve for 50 rounds\n",
            "Early stopping, best iteration is:\n",
            "[137]\tvalid_0's auc: 0.738156\n",
            "Training until validation scores don't improve for 50 rounds\n"
          ]
        },
        {
          "output_type": "stream",
          "name": "stderr",
          "text": [
            "[I 2025-03-04 14:01:37,064] Trial 35 finished with value: 0.7400666125703627 and parameters: {'n_estimators': 863, 'learning_rate': 0.09315275416417632, 'max_depth': 5, 'num_leaves': 41, 'min_child_samples': 30, 'subsample': 0.6617506821114723, 'colsample_bytree': 0.9103335128074851, 'reg_alpha': 9.299640199208953, 'reg_lambda': 1.59000338986421}. Best is trial 21 with value: 0.7401050552721161.\n"
          ]
        },
        {
          "output_type": "stream",
          "name": "stdout",
          "text": [
            "Early stopping, best iteration is:\n",
            "[189]\tvalid_0's auc: 0.741612\n",
            "Training until validation scores don't improve for 50 rounds\n",
            "Early stopping, best iteration is:\n",
            "[203]\tvalid_0's auc: 0.737814\n",
            "Training until validation scores don't improve for 50 rounds\n",
            "Early stopping, best iteration is:\n",
            "[166]\tvalid_0's auc: 0.742277\n",
            "Training until validation scores don't improve for 50 rounds\n",
            "Early stopping, best iteration is:\n",
            "[161]\tvalid_0's auc: 0.739835\n",
            "Training until validation scores don't improve for 50 rounds\n",
            "Early stopping, best iteration is:\n",
            "[123]\tvalid_0's auc: 0.737733\n",
            "Training until validation scores don't improve for 50 rounds\n"
          ]
        },
        {
          "output_type": "stream",
          "name": "stderr",
          "text": [
            "[I 2025-03-04 14:01:50,742] Trial 36 finished with value: 0.7396943590507264 and parameters: {'n_estimators': 625, 'learning_rate': 0.09813597490916455, 'max_depth': 5, 'num_leaves': 40, 'min_child_samples': 22, 'subsample': 0.6670594689804317, 'colsample_bytree': 0.7800401203376458, 'reg_alpha': 4.052419875669121, 'reg_lambda': 1.4406714548697344}. Best is trial 21 with value: 0.7401050552721161.\n"
          ]
        },
        {
          "output_type": "stream",
          "name": "stdout",
          "text": [
            "Early stopping, best iteration is:\n",
            "[208]\tvalid_0's auc: 0.740812\n",
            "Training until validation scores don't improve for 50 rounds\n",
            "Early stopping, best iteration is:\n",
            "[317]\tvalid_0's auc: 0.737955\n",
            "Training until validation scores don't improve for 50 rounds\n",
            "Early stopping, best iteration is:\n",
            "[217]\tvalid_0's auc: 0.741886\n",
            "Training until validation scores don't improve for 50 rounds\n",
            "Early stopping, best iteration is:\n",
            "[322]\tvalid_0's auc: 0.739542\n",
            "Training until validation scores don't improve for 50 rounds\n",
            "Early stopping, best iteration is:\n",
            "[231]\tvalid_0's auc: 0.737323\n",
            "Training until validation scores don't improve for 50 rounds\n"
          ]
        },
        {
          "output_type": "stream",
          "name": "stderr",
          "text": [
            "[I 2025-03-04 14:02:09,572] Trial 37 finished with value: 0.739482447818727 and parameters: {'n_estimators': 701, 'learning_rate': 0.0935578955783474, 'max_depth': 4, 'num_leaves': 26, 'min_child_samples': 15, 'subsample': 0.7129999432693395, 'colsample_bytree': 0.6003946742669408, 'reg_alpha': 7.665065944569352e-06, 'reg_lambda': 0.0711075801064451}. Best is trial 21 with value: 0.7401050552721161.\n"
          ]
        },
        {
          "output_type": "stream",
          "name": "stdout",
          "text": [
            "Early stopping, best iteration is:\n",
            "[274]\tvalid_0's auc: 0.740706\n",
            "Training until validation scores don't improve for 50 rounds\n",
            "Early stopping, best iteration is:\n",
            "[670]\tvalid_0's auc: 0.738476\n",
            "Training until validation scores don't improve for 50 rounds\n",
            "Early stopping, best iteration is:\n",
            "[545]\tvalid_0's auc: 0.74259\n",
            "Training until validation scores don't improve for 50 rounds\n",
            "Early stopping, best iteration is:\n",
            "[484]\tvalid_0's auc: 0.739899\n",
            "Training until validation scores don't improve for 50 rounds\n",
            "Early stopping, best iteration is:\n",
            "[414]\tvalid_0's auc: 0.737997\n",
            "Training until validation scores don't improve for 50 rounds\n",
            "Early stopping, best iteration is:\n",
            "[506]\tvalid_0's auc: 0.741165\n"
          ]
        },
        {
          "output_type": "stream",
          "name": "stderr",
          "text": [
            "[I 2025-03-04 14:02:35,644] Trial 38 finished with value: 0.7400252968982843 and parameters: {'n_estimators': 869, 'learning_rate': 0.05233119720082702, 'max_depth': 5, 'num_leaves': 12, 'min_child_samples': 29, 'subsample': 0.7993262769053308, 'colsample_bytree': 0.8246704999943726, 'reg_alpha': 0.5866039733809759, 'reg_lambda': 9.742013374441925}. Best is trial 21 with value: 0.7401050552721161.\n"
          ]
        },
        {
          "output_type": "stream",
          "name": "stdout",
          "text": [
            "Training until validation scores don't improve for 50 rounds\n",
            "Early stopping, best iteration is:\n",
            "[563]\tvalid_0's auc: 0.738494\n",
            "Training until validation scores don't improve for 50 rounds\n",
            "Early stopping, best iteration is:\n",
            "[403]\tvalid_0's auc: 0.742483\n",
            "Training until validation scores don't improve for 50 rounds\n",
            "Early stopping, best iteration is:\n",
            "[439]\tvalid_0's auc: 0.73978\n",
            "Training until validation scores don't improve for 50 rounds\n",
            "Early stopping, best iteration is:\n",
            "[274]\tvalid_0's auc: 0.737575\n",
            "Training until validation scores don't improve for 50 rounds\n"
          ]
        },
        {
          "output_type": "stream",
          "name": "stderr",
          "text": [
            "[I 2025-03-04 14:02:56,913] Trial 39 finished with value: 0.7398495959733016 and parameters: {'n_estimators': 951, 'learning_rate': 0.09154915558394108, 'max_depth': 3, 'num_leaves': 49, 'min_child_samples': 30, 'subsample': 0.6791086440388092, 'colsample_bytree': 0.90656754507651, 'reg_alpha': 0.0012523127782026844, 'reg_lambda': 1.8176651697024635}. Best is trial 21 with value: 0.7401050552721161.\n"
          ]
        },
        {
          "output_type": "stream",
          "name": "stdout",
          "text": [
            "Early stopping, best iteration is:\n",
            "[432]\tvalid_0's auc: 0.740917\n",
            "Training until validation scores don't improve for 50 rounds\n",
            "Early stopping, best iteration is:\n",
            "[285]\tvalid_0's auc: 0.737803\n",
            "Training until validation scores don't improve for 50 rounds\n",
            "Early stopping, best iteration is:\n",
            "[209]\tvalid_0's auc: 0.742405\n",
            "Training until validation scores don't improve for 50 rounds\n",
            "Early stopping, best iteration is:\n",
            "[166]\tvalid_0's auc: 0.739843\n",
            "Training until validation scores don't improve for 50 rounds\n",
            "Early stopping, best iteration is:\n",
            "[122]\tvalid_0's auc: 0.737527\n",
            "Training until validation scores don't improve for 50 rounds\n"
          ]
        },
        {
          "output_type": "stream",
          "name": "stderr",
          "text": [
            "[I 2025-03-04 14:03:11,657] Trial 40 finished with value: 0.7396698406154052 and parameters: {'n_estimators': 995, 'learning_rate': 0.07087815686380299, 'max_depth': 5, 'num_leaves': 59, 'min_child_samples': 35, 'subsample': 0.6527677000817902, 'colsample_bytree': 0.8645431018851826, 'reg_alpha': 0.08065234221870815, 'reg_lambda': 0.005008415745348854}. Best is trial 21 with value: 0.7401050552721161.\n"
          ]
        },
        {
          "output_type": "stream",
          "name": "stdout",
          "text": [
            "Early stopping, best iteration is:\n",
            "[204]\tvalid_0's auc: 0.740772\n",
            "Training until validation scores don't improve for 50 rounds\n",
            "Early stopping, best iteration is:\n",
            "[558]\tvalid_0's auc: 0.738426\n",
            "Training until validation scores don't improve for 50 rounds\n",
            "Early stopping, best iteration is:\n",
            "[549]\tvalid_0's auc: 0.742357\n",
            "Training until validation scores don't improve for 50 rounds\n",
            "Early stopping, best iteration is:\n",
            "[403]\tvalid_0's auc: 0.740008\n",
            "Training until validation scores don't improve for 50 rounds\n",
            "Early stopping, best iteration is:\n",
            "[387]\tvalid_0's auc: 0.738012\n",
            "Training until validation scores don't improve for 50 rounds\n",
            "Early stopping, best iteration is:\n",
            "[492]\tvalid_0's auc: 0.741267\n"
          ]
        },
        {
          "output_type": "stream",
          "name": "stderr",
          "text": [
            "[I 2025-03-04 14:03:37,222] Trial 41 finished with value: 0.7400141687317875 and parameters: {'n_estimators': 870, 'learning_rate': 0.05079915329073298, 'max_depth': 5, 'num_leaves': 12, 'min_child_samples': 26, 'subsample': 0.7970882233994789, 'colsample_bytree': 0.7401141540830645, 'reg_alpha': 0.6681086231235802, 'reg_lambda': 7.018710959522087}. Best is trial 21 with value: 0.7401050552721161.\n"
          ]
        },
        {
          "output_type": "stream",
          "name": "stdout",
          "text": [
            "Training until validation scores don't improve for 50 rounds\n",
            "Early stopping, best iteration is:\n",
            "[462]\tvalid_0's auc: 0.738099\n",
            "Training until validation scores don't improve for 50 rounds\n",
            "Early stopping, best iteration is:\n",
            "[443]\tvalid_0's auc: 0.742641\n",
            "Training until validation scores don't improve for 50 rounds\n",
            "Early stopping, best iteration is:\n",
            "[428]\tvalid_0's auc: 0.740232\n",
            "Training until validation scores don't improve for 50 rounds\n",
            "Early stopping, best iteration is:\n",
            "[287]\tvalid_0's auc: 0.737918\n",
            "Training until validation scores don't improve for 50 rounds\n",
            "Early stopping, best iteration is:\n",
            "[442]\tvalid_0's auc: 0.741262\n"
          ]
        },
        {
          "output_type": "stream",
          "name": "stderr",
          "text": [
            "[I 2025-03-04 14:03:58,920] Trial 42 finished with value: 0.7400304733641715 and parameters: {'n_estimators': 853, 'learning_rate': 0.0547124481095813, 'max_depth': 4, 'num_leaves': 22, 'min_child_samples': 12, 'subsample': 0.8613649629098649, 'colsample_bytree': 0.8369186093686305, 'reg_alpha': 3.6575246742892173, 'reg_lambda': 1.2370581151296673}. Best is trial 21 with value: 0.7401050552721161.\n"
          ]
        },
        {
          "output_type": "stream",
          "name": "stdout",
          "text": [
            "Training until validation scores don't improve for 50 rounds\n",
            "Early stopping, best iteration is:\n",
            "[402]\tvalid_0's auc: 0.738122\n",
            "Training until validation scores don't improve for 50 rounds\n",
            "Early stopping, best iteration is:\n",
            "[408]\tvalid_0's auc: 0.742529\n",
            "Training until validation scores don't improve for 50 rounds\n",
            "Early stopping, best iteration is:\n",
            "[320]\tvalid_0's auc: 0.739985\n",
            "Training until validation scores don't improve for 50 rounds\n",
            "Early stopping, best iteration is:\n",
            "[296]\tvalid_0's auc: 0.737768\n",
            "Training until validation scores don't improve for 50 rounds\n"
          ]
        },
        {
          "output_type": "stream",
          "name": "stderr",
          "text": [
            "[I 2025-03-04 14:04:20,336] Trial 43 finished with value: 0.7399385760544943 and parameters: {'n_estimators': 785, 'learning_rate': 0.06471110179440484, 'max_depth': 4, 'num_leaves': 21, 'min_child_samples': 7, 'subsample': 0.8571524969326879, 'colsample_bytree': 0.8769130232221769, 'reg_alpha': 4.092606304413423, 'reg_lambda': 0.7264409445358028}. Best is trial 21 with value: 0.7401050552721161.\n"
          ]
        },
        {
          "output_type": "stream",
          "name": "stdout",
          "text": [
            "Early stopping, best iteration is:\n",
            "[394]\tvalid_0's auc: 0.741288\n",
            "Training until validation scores don't improve for 50 rounds\n",
            "Early stopping, best iteration is:\n",
            "[465]\tvalid_0's auc: 0.738165\n",
            "Training until validation scores don't improve for 50 rounds\n",
            "Early stopping, best iteration is:\n",
            "[451]\tvalid_0's auc: 0.74266\n",
            "Training until validation scores don't improve for 50 rounds\n",
            "Early stopping, best iteration is:\n",
            "[403]\tvalid_0's auc: 0.739966\n",
            "Training until validation scores don't improve for 50 rounds\n",
            "Early stopping, best iteration is:\n",
            "[302]\tvalid_0's auc: 0.737686\n",
            "Training until validation scores don't improve for 50 rounds\n",
            "Early stopping, best iteration is:\n",
            "[425]\tvalid_0's auc: 0.741032\n"
          ]
        },
        {
          "output_type": "stream",
          "name": "stderr",
          "text": [
            "[I 2025-03-04 14:04:41,048] Trial 44 finished with value: 0.7399018807682877 and parameters: {'n_estimators': 926, 'learning_rate': 0.05805664379810936, 'max_depth': 4, 'num_leaves': 27, 'min_child_samples': 18, 'subsample': 0.9007424869722482, 'colsample_bytree': 0.7876558185073576, 'reg_alpha': 1.5604271804708343, 'reg_lambda': 0.06072886347690441}. Best is trial 21 with value: 0.7401050552721161.\n"
          ]
        },
        {
          "output_type": "stream",
          "name": "stdout",
          "text": [
            "Training until validation scores don't improve for 50 rounds\n",
            "Did not meet early stopping. Best iteration is:\n",
            "[846]\tvalid_0's auc: 0.738124\n",
            "Training until validation scores don't improve for 50 rounds\n",
            "Did not meet early stopping. Best iteration is:\n",
            "[851]\tvalid_0's auc: 0.74241\n",
            "Training until validation scores don't improve for 50 rounds\n",
            "Did not meet early stopping. Best iteration is:\n",
            "[851]\tvalid_0's auc: 0.739877\n",
            "Training until validation scores don't improve for 50 rounds\n",
            "Did not meet early stopping. Best iteration is:\n",
            "[835]\tvalid_0's auc: 0.737957\n",
            "Training until validation scores don't improve for 50 rounds\n",
            "Did not meet early stopping. Best iteration is:\n",
            "[851]\tvalid_0's auc: 0.7412\n"
          ]
        },
        {
          "output_type": "stream",
          "name": "stderr",
          "text": [
            "[I 2025-03-04 14:05:17,053] Trial 45 finished with value: 0.7399137392829257 and parameters: {'n_estimators': 851, 'learning_rate': 0.038362855176757964, 'max_depth': 3, 'num_leaves': 34, 'min_child_samples': 13, 'subsample': 0.8271733370825338, 'colsample_bytree': 0.9134815528246021, 'reg_alpha': 4.917447144146323, 'reg_lambda': 1.8244443439684388}. Best is trial 21 with value: 0.7401050552721161.\n"
          ]
        },
        {
          "output_type": "stream",
          "name": "stdout",
          "text": [
            "Training until validation scores don't improve for 50 rounds\n",
            "Did not meet early stopping. Best iteration is:\n",
            "[334]\tvalid_0's auc: 0.737887\n",
            "Training until validation scores don't improve for 50 rounds\n",
            "Did not meet early stopping. Best iteration is:\n",
            "[335]\tvalid_0's auc: 0.742241\n",
            "Training until validation scores don't improve for 50 rounds\n",
            "Did not meet early stopping. Best iteration is:\n",
            "[338]\tvalid_0's auc: 0.739877\n",
            "Training until validation scores don't improve for 50 rounds\n",
            "Did not meet early stopping. Best iteration is:\n",
            "[336]\tvalid_0's auc: 0.73749\n",
            "Training until validation scores don't improve for 50 rounds\n"
          ]
        },
        {
          "output_type": "stream",
          "name": "stderr",
          "text": [
            "[I 2025-03-04 14:05:35,314] Trial 46 finished with value: 0.739607031387035 and parameters: {'n_estimators': 340, 'learning_rate': 0.04602092860541729, 'max_depth': 4, 'num_leaves': 22, 'min_child_samples': 10, 'subsample': 0.8656539212343496, 'colsample_bytree': 0.65612166577774, 'reg_alpha': 0.30208654368058707, 'reg_lambda': 0.017014285394442212}. Best is trial 21 with value: 0.7401050552721161.\n"
          ]
        },
        {
          "output_type": "stream",
          "name": "stdout",
          "text": [
            "Did not meet early stopping. Best iteration is:\n",
            "[340]\tvalid_0's auc: 0.74054\n",
            "Training until validation scores don't improve for 50 rounds\n",
            "Early stopping, best iteration is:\n",
            "[184]\tvalid_0's auc: 0.737792\n",
            "Training until validation scores don't improve for 50 rounds\n",
            "Early stopping, best iteration is:\n",
            "[232]\tvalid_0's auc: 0.742244\n",
            "Training until validation scores don't improve for 50 rounds\n",
            "Early stopping, best iteration is:\n",
            "[176]\tvalid_0's auc: 0.739918\n",
            "Training until validation scores don't improve for 50 rounds\n",
            "Early stopping, best iteration is:\n",
            "[157]\tvalid_0's auc: 0.737839\n",
            "Training until validation scores don't improve for 50 rounds\n",
            "Early stopping, best iteration is:\n",
            "[241]\tvalid_0's auc: 0.740762\n"
          ]
        },
        {
          "output_type": "stream",
          "name": "stderr",
          "text": [
            "[I 2025-03-04 14:05:50,969] Trial 47 finished with value: 0.7397108148031153 and parameters: {'n_estimators': 511, 'learning_rate': 0.056195453987845666, 'max_depth': 6, 'num_leaves': 29, 'min_child_samples': 85, 'subsample': 0.9386940257650704, 'colsample_bytree': 0.828887969718049, 'reg_alpha': 0.00031042479955418323, 'reg_lambda': 0.0012790723641929007}. Best is trial 21 with value: 0.7401050552721161.\n"
          ]
        },
        {
          "output_type": "stream",
          "name": "stdout",
          "text": [
            "Training until validation scores don't improve for 50 rounds\n",
            "Early stopping, best iteration is:\n",
            "[635]\tvalid_0's auc: 0.738471\n",
            "Training until validation scores don't improve for 50 rounds\n",
            "Early stopping, best iteration is:\n",
            "[666]\tvalid_0's auc: 0.742703\n",
            "Training until validation scores don't improve for 50 rounds\n",
            "Early stopping, best iteration is:\n",
            "[453]\tvalid_0's auc: 0.739859\n",
            "Training until validation scores don't improve for 50 rounds\n",
            "Early stopping, best iteration is:\n",
            "[502]\tvalid_0's auc: 0.738293\n",
            "Training until validation scores don't improve for 50 rounds\n",
            "Early stopping, best iteration is:\n",
            "[612]\tvalid_0's auc: 0.741558\n"
          ]
        },
        {
          "output_type": "stream",
          "name": "stderr",
          "text": [
            "[I 2025-03-04 14:06:16,686] Trial 48 finished with value: 0.7401769402359081 and parameters: {'n_estimators': 825, 'learning_rate': 0.08131923211397613, 'max_depth': 3, 'num_leaves': 42, 'min_child_samples': 78, 'subsample': 0.8433283361163739, 'colsample_bytree': 0.93900936799602, 'reg_alpha': 8.486236208280877, 'reg_lambda': 0.41730878324509785}. Best is trial 48 with value: 0.7401769402359081.\n"
          ]
        },
        {
          "output_type": "stream",
          "name": "stdout",
          "text": [
            "Training until validation scores don't improve for 50 rounds\n",
            "Did not meet early stopping. Best iteration is:\n",
            "[717]\tvalid_0's auc: 0.738584\n",
            "Training until validation scores don't improve for 50 rounds\n",
            "Early stopping, best iteration is:\n",
            "[577]\tvalid_0's auc: 0.742546\n",
            "Training until validation scores don't improve for 50 rounds\n",
            "Early stopping, best iteration is:\n",
            "[569]\tvalid_0's auc: 0.740058\n",
            "Training until validation scores don't improve for 50 rounds\n",
            "Early stopping, best iteration is:\n",
            "[521]\tvalid_0's auc: 0.738354\n",
            "Training until validation scores don't improve for 50 rounds\n",
            "Early stopping, best iteration is:\n",
            "[545]\tvalid_0's auc: 0.74136\n"
          ]
        },
        {
          "output_type": "stream",
          "name": "stderr",
          "text": [
            "[I 2025-03-04 14:06:43,460] Trial 49 finished with value: 0.7401802531590501 and parameters: {'n_estimators': 729, 'learning_rate': 0.08581405855203687, 'max_depth': 3, 'num_leaves': 42, 'min_child_samples': 78, 'subsample': 0.8178782142132488, 'colsample_bytree': 0.9800372484455709, 'reg_alpha': 8.249660978537577, 'reg_lambda': 0.3415429882253782}. Best is trial 49 with value: 0.7401802531590501.\n"
          ]
        },
        {
          "output_type": "stream",
          "name": "stdout",
          "text": [
            "Training until validation scores don't improve for 50 rounds\n",
            "Early stopping, best iteration is:\n",
            "[611]\tvalid_0's auc: 0.738262\n",
            "Training until validation scores don't improve for 50 rounds\n",
            "Early stopping, best iteration is:\n",
            "[508]\tvalid_0's auc: 0.742611\n",
            "Training until validation scores don't improve for 50 rounds\n",
            "Early stopping, best iteration is:\n",
            "[353]\tvalid_0's auc: 0.739675\n",
            "Training until validation scores don't improve for 50 rounds\n",
            "Early stopping, best iteration is:\n",
            "[359]\tvalid_0's auc: 0.738006\n",
            "Training until validation scores don't improve for 50 rounds\n",
            "Early stopping, best iteration is:\n",
            "[545]\tvalid_0's auc: 0.740962\n"
          ]
        },
        {
          "output_type": "stream",
          "name": "stderr",
          "text": [
            "[I 2025-03-04 14:07:06,137] Trial 50 finished with value: 0.7399030302633974 and parameters: {'n_estimators': 742, 'learning_rate': 0.08731277354178514, 'max_depth': 3, 'num_leaves': 42, 'min_child_samples': 94, 'subsample': 0.7793908092741996, 'colsample_bytree': 0.9839326646666207, 'reg_alpha': 1.2600749263638427, 'reg_lambda': 0.2126742693881237}. Best is trial 49 with value: 0.7401802531590501.\n"
          ]
        },
        {
          "output_type": "stream",
          "name": "stdout",
          "text": [
            "Training until validation scores don't improve for 50 rounds\n",
            "Did not meet early stopping. Best iteration is:\n",
            "[808]\tvalid_0's auc: 0.738449\n",
            "Training until validation scores don't improve for 50 rounds\n",
            "Early stopping, best iteration is:\n",
            "[591]\tvalid_0's auc: 0.742505\n",
            "Training until validation scores don't improve for 50 rounds\n",
            "Early stopping, best iteration is:\n",
            "[420]\tvalid_0's auc: 0.739902\n",
            "Training until validation scores don't improve for 50 rounds\n",
            "Early stopping, best iteration is:\n",
            "[569]\tvalid_0's auc: 0.738515\n",
            "Training until validation scores don't improve for 50 rounds\n",
            "Early stopping, best iteration is:\n",
            "[540]\tvalid_0's auc: 0.741502\n"
          ]
        },
        {
          "output_type": "stream",
          "name": "stderr",
          "text": [
            "[I 2025-03-04 14:07:32,206] Trial 51 finished with value: 0.7401744067859217 and parameters: {'n_estimators': 816, 'learning_rate': 0.08240509099357854, 'max_depth': 3, 'num_leaves': 51, 'min_child_samples': 81, 'subsample': 0.8153327806025058, 'colsample_bytree': 0.9489735819060404, 'reg_alpha': 9.374713827363955, 'reg_lambda': 3.2305468204211523}. Best is trial 49 with value: 0.7401802531590501.\n"
          ]
        },
        {
          "output_type": "stream",
          "name": "stdout",
          "text": [
            "Training until validation scores don't improve for 50 rounds\n",
            "Did not meet early stopping. Best iteration is:\n",
            "[788]\tvalid_0's auc: 0.738499\n",
            "Training until validation scores don't improve for 50 rounds\n",
            "Early stopping, best iteration is:\n",
            "[460]\tvalid_0's auc: 0.74246\n",
            "Training until validation scores don't improve for 50 rounds\n",
            "Early stopping, best iteration is:\n",
            "[567]\tvalid_0's auc: 0.740239\n",
            "Training until validation scores don't improve for 50 rounds\n",
            "Early stopping, best iteration is:\n",
            "[577]\tvalid_0's auc: 0.738267\n",
            "Training until validation scores don't improve for 50 rounds\n"
          ]
        },
        {
          "output_type": "stream",
          "name": "stderr",
          "text": [
            "[I 2025-03-04 14:07:58,327] Trial 52 finished with value: 0.740179909482376 and parameters: {'n_estimators': 797, 'learning_rate': 0.08201784825120731, 'max_depth': 3, 'num_leaves': 49, 'min_child_samples': 78, 'subsample': 0.745944649614629, 'colsample_bytree': 0.9413090137944377, 'reg_alpha': 8.952595405599586, 'reg_lambda': 0.5655164228522681}. Best is trial 49 with value: 0.7401802531590501.\n"
          ]
        },
        {
          "output_type": "stream",
          "name": "stdout",
          "text": [
            "Early stopping, best iteration is:\n",
            "[462]\tvalid_0's auc: 0.741434\n",
            "Training until validation scores don't improve for 50 rounds\n",
            "Early stopping, best iteration is:\n",
            "[492]\tvalid_0's auc: 0.738267\n",
            "Training until validation scores don't improve for 50 rounds\n",
            "Early stopping, best iteration is:\n",
            "[563]\tvalid_0's auc: 0.742621\n",
            "Training until validation scores don't improve for 50 rounds\n",
            "Early stopping, best iteration is:\n",
            "[339]\tvalid_0's auc: 0.739724\n",
            "Training until validation scores don't improve for 50 rounds\n",
            "Early stopping, best iteration is:\n",
            "[298]\tvalid_0's auc: 0.738025\n",
            "Training until validation scores don't improve for 50 rounds\n"
          ]
        },
        {
          "output_type": "stream",
          "name": "stderr",
          "text": [
            "[I 2025-03-04 14:08:18,094] Trial 53 finished with value: 0.7399621602876183 and parameters: {'n_estimators': 809, 'learning_rate': 0.0823691580301993, 'max_depth': 3, 'num_leaves': 51, 'min_child_samples': 79, 'subsample': 0.8134669438662687, 'colsample_bytree': 0.9398366001205675, 'reg_alpha': 2.0829151052075594, 'reg_lambda': 0.6799506101456543}. Best is trial 49 with value: 0.7401802531590501.\n"
          ]
        },
        {
          "output_type": "stream",
          "name": "stdout",
          "text": [
            "Early stopping, best iteration is:\n",
            "[458]\tvalid_0's auc: 0.741174\n",
            "Training until validation scores don't improve for 50 rounds\n",
            "Did not meet early stopping. Best iteration is:\n",
            "[628]\tvalid_0's auc: 0.738167\n",
            "Training until validation scores don't improve for 50 rounds\n",
            "Did not meet early stopping. Best iteration is:\n",
            "[654]\tvalid_0's auc: 0.742761\n",
            "Training until validation scores don't improve for 50 rounds\n",
            "Early stopping, best iteration is:\n",
            "[492]\tvalid_0's auc: 0.739888\n",
            "Training until validation scores don't improve for 50 rounds\n",
            "Early stopping, best iteration is:\n",
            "[516]\tvalid_0's auc: 0.738136\n",
            "Training until validation scores don't improve for 50 rounds\n",
            "Early stopping, best iteration is:\n",
            "[576]\tvalid_0's auc: 0.741326\n"
          ]
        },
        {
          "output_type": "stream",
          "name": "stderr",
          "text": [
            "[I 2025-03-04 14:08:43,989] Trial 54 finished with value: 0.7400555006777738 and parameters: {'n_estimators': 654, 'learning_rate': 0.07452659871121299, 'max_depth': 3, 'num_leaves': 56, 'min_child_samples': 77, 'subsample': 0.8425832993621395, 'colsample_bytree': 0.9544518601467645, 'reg_alpha': 5.615433588285604, 'reg_lambda': 0.09104592936445036}. Best is trial 49 with value: 0.7401802531590501.\n"
          ]
        },
        {
          "output_type": "stream",
          "name": "stdout",
          "text": [
            "Training until validation scores don't improve for 50 rounds\n",
            "Early stopping, best iteration is:\n",
            "[586]\tvalid_0's auc: 0.738204\n",
            "Training until validation scores don't improve for 50 rounds\n",
            "Early stopping, best iteration is:\n",
            "[584]\tvalid_0's auc: 0.742828\n",
            "Training until validation scores don't improve for 50 rounds\n",
            "Early stopping, best iteration is:\n",
            "[357]\tvalid_0's auc: 0.739833\n",
            "Training until validation scores don't improve for 50 rounds\n",
            "Early stopping, best iteration is:\n",
            "[376]\tvalid_0's auc: 0.737838\n",
            "Training until validation scores don't improve for 50 rounds\n"
          ]
        },
        {
          "output_type": "stream",
          "name": "stderr",
          "text": [
            "[I 2025-03-04 14:09:07,164] Trial 55 finished with value: 0.7399610369902738 and parameters: {'n_estimators': 708, 'learning_rate': 0.0824369504401308, 'max_depth': 3, 'num_leaves': 47, 'min_child_samples': 84, 'subsample': 0.7438668351694732, 'colsample_bytree': 0.9804926098467792, 'reg_alpha': 0.41776937606404585, 'reg_lambda': 3.748962519192476}. Best is trial 49 with value: 0.7401802531590501.\n"
          ]
        },
        {
          "output_type": "stream",
          "name": "stdout",
          "text": [
            "Early stopping, best iteration is:\n",
            "[508]\tvalid_0's auc: 0.741102\n",
            "Training until validation scores don't improve for 50 rounds\n",
            "Early stopping, best iteration is:\n",
            "[686]\tvalid_0's auc: 0.738158\n",
            "Training until validation scores don't improve for 50 rounds\n",
            "Early stopping, best iteration is:\n",
            "[589]\tvalid_0's auc: 0.742556\n",
            "Training until validation scores don't improve for 50 rounds\n",
            "Early stopping, best iteration is:\n",
            "[436]\tvalid_0's auc: 0.739801\n",
            "Training until validation scores don't improve for 50 rounds\n",
            "Early stopping, best iteration is:\n",
            "[385]\tvalid_0's auc: 0.737655\n",
            "Training until validation scores don't improve for 50 rounds\n",
            "Early stopping, best iteration is:\n",
            "[615]\tvalid_0's auc: 0.740711\n"
          ]
        },
        {
          "output_type": "stream",
          "name": "stderr",
          "text": [
            "[I 2025-03-04 14:09:29,447] Trial 56 finished with value: 0.7397762990792888 and parameters: {'n_estimators': 823, 'learning_rate': 0.07710627655465614, 'max_depth': 3, 'num_leaves': 62, 'min_child_samples': 69, 'subsample': 0.7799160381756647, 'colsample_bytree': 0.9624383770799286, 'reg_alpha': 2.773070548840402e-08, 'reg_lambda': 0.01608820939725244}. Best is trial 49 with value: 0.7401802531590501.\n"
          ]
        },
        {
          "output_type": "stream",
          "name": "stdout",
          "text": [
            "Training until validation scores don't improve for 50 rounds\n",
            "Early stopping, best iteration is:\n",
            "[560]\tvalid_0's auc: 0.738357\n",
            "Training until validation scores don't improve for 50 rounds\n",
            "Early stopping, best iteration is:\n",
            "[643]\tvalid_0's auc: 0.742631\n",
            "Training until validation scores don't improve for 50 rounds\n",
            "Early stopping, best iteration is:\n",
            "[503]\tvalid_0's auc: 0.740083\n",
            "Training until validation scores don't improve for 50 rounds\n",
            "Early stopping, best iteration is:\n",
            "[416]\tvalid_0's auc: 0.73766\n",
            "Training until validation scores don't improve for 50 rounds\n"
          ]
        },
        {
          "output_type": "stream",
          "name": "stderr",
          "text": [
            "[I 2025-03-04 14:09:53,708] Trial 57 finished with value: 0.7399563816394928 and parameters: {'n_estimators': 900, 'learning_rate': 0.0870504288971629, 'max_depth': 3, 'num_leaves': 48, 'min_child_samples': 63, 'subsample': 0.8130238494338026, 'colsample_bytree': 0.9337772481805805, 'reg_alpha': 1.3475921023682043, 'reg_lambda': 0.3779819872965043}. Best is trial 49 with value: 0.7401802531590501.\n"
          ]
        },
        {
          "output_type": "stream",
          "name": "stdout",
          "text": [
            "Early stopping, best iteration is:\n",
            "[506]\tvalid_0's auc: 0.741051\n",
            "Training until validation scores don't improve for 50 rounds\n",
            "Did not meet early stopping. Best iteration is:\n",
            "[750]\tvalid_0's auc: 0.738475\n",
            "Training until validation scores don't improve for 50 rounds\n",
            "Early stopping, best iteration is:\n",
            "[538]\tvalid_0's auc: 0.742546\n",
            "Training until validation scores don't improve for 50 rounds\n",
            "Early stopping, best iteration is:\n",
            "[678]\tvalid_0's auc: 0.740049\n",
            "Training until validation scores don't improve for 50 rounds\n",
            "Early stopping, best iteration is:\n",
            "[605]\tvalid_0's auc: 0.738213\n",
            "Training until validation scores don't improve for 50 rounds\n",
            "Early stopping, best iteration is:\n",
            "[666]\tvalid_0's auc: 0.741408\n"
          ]
        },
        {
          "output_type": "stream",
          "name": "stderr",
          "text": [
            "[I 2025-03-04 14:10:21,698] Trial 58 finished with value: 0.7401380623780222 and parameters: {'n_estimators': 750, 'learning_rate': 0.06981330773157272, 'max_depth': 3, 'num_leaves': 56, 'min_child_samples': 75, 'subsample': 0.8955420761076505, 'colsample_bytree': 0.987913456774872, 'reg_alpha': 9.511968128230793, 'reg_lambda': 3.6596999814245765}. Best is trial 49 with value: 0.7401802531590501.\n"
          ]
        },
        {
          "output_type": "stream",
          "name": "stdout",
          "text": [
            "Training until validation scores don't improve for 50 rounds\n",
            "Early stopping, best iteration is:\n",
            "[637]\tvalid_0's auc: 0.737894\n",
            "Training until validation scores don't improve for 50 rounds\n",
            "Did not meet early stopping. Best iteration is:\n",
            "[715]\tvalid_0's auc: 0.742686\n",
            "Training until validation scores don't improve for 50 rounds\n",
            "Early stopping, best iteration is:\n",
            "[609]\tvalid_0's auc: 0.739975\n",
            "Training until validation scores don't improve for 50 rounds\n",
            "Early stopping, best iteration is:\n",
            "[443]\tvalid_0's auc: 0.737985\n",
            "Training until validation scores don't improve for 50 rounds\n"
          ]
        },
        {
          "output_type": "stream",
          "name": "stderr",
          "text": [
            "[I 2025-03-04 14:10:47,538] Trial 59 finished with value: 0.7398870228946466 and parameters: {'n_estimators': 764, 'learning_rate': 0.06999131396199806, 'max_depth': 3, 'num_leaves': 73, 'min_child_samples': 87, 'subsample': 0.9016276735743749, 'colsample_bytree': 0.9446516381809854, 'reg_alpha': 0.14135071461036483, 'reg_lambda': 3.6432834019771985}. Best is trial 49 with value: 0.7401802531590501.\n"
          ]
        },
        {
          "output_type": "stream",
          "name": "stdout",
          "text": [
            "Early stopping, best iteration is:\n",
            "[500]\tvalid_0's auc: 0.740896\n",
            "Training until validation scores don't improve for 50 rounds\n",
            "Early stopping, best iteration is:\n",
            "[327]\tvalid_0's auc: 0.73802\n",
            "Training until validation scores don't improve for 50 rounds\n",
            "Early stopping, best iteration is:\n",
            "[313]\tvalid_0's auc: 0.742749\n",
            "Training until validation scores don't improve for 50 rounds\n",
            "Early stopping, best iteration is:\n",
            "[243]\tvalid_0's auc: 0.740139\n",
            "Training until validation scores don't improve for 50 rounds\n",
            "Early stopping, best iteration is:\n",
            "[374]\tvalid_0's auc: 0.738282\n",
            "Training until validation scores don't improve for 50 rounds\n",
            "Early stopping, best iteration is:\n",
            "[393]\tvalid_0's auc: 0.741478\n"
          ]
        },
        {
          "output_type": "stream",
          "name": "stderr",
          "text": [
            "[I 2025-03-04 14:11:06,218] Trial 60 finished with value: 0.7401336411203373 and parameters: {'n_estimators': 579, 'learning_rate': 0.0756292429514718, 'max_depth': 4, 'num_leaves': 55, 'min_child_samples': 80, 'subsample': 0.9451942630535122, 'colsample_bytree': 0.9834088780875552, 'reg_alpha': 9.585566362859124, 'reg_lambda': 0.5682958171254053}. Best is trial 49 with value: 0.7401802531590501.\n"
          ]
        },
        {
          "output_type": "stream",
          "name": "stdout",
          "text": [
            "Training until validation scores don't improve for 50 rounds\n",
            "Early stopping, best iteration is:\n",
            "[303]\tvalid_0's auc: 0.738058\n",
            "Training until validation scores don't improve for 50 rounds\n",
            "Early stopping, best iteration is:\n",
            "[343]\tvalid_0's auc: 0.742617\n",
            "Training until validation scores don't improve for 50 rounds\n",
            "Early stopping, best iteration is:\n",
            "[296]\tvalid_0's auc: 0.739774\n",
            "Training until validation scores don't improve for 50 rounds\n",
            "Early stopping, best iteration is:\n",
            "[328]\tvalid_0's auc: 0.738048\n",
            "Training until validation scores don't improve for 50 rounds\n",
            "Early stopping, best iteration is:\n",
            "[411]\tvalid_0's auc: 0.741399\n"
          ]
        },
        {
          "output_type": "stream",
          "name": "stderr",
          "text": [
            "[I 2025-03-04 14:11:26,982] Trial 61 finished with value: 0.7399791846254483 and parameters: {'n_estimators': 671, 'learning_rate': 0.06594802396314847, 'max_depth': 4, 'num_leaves': 55, 'min_child_samples': 81, 'subsample': 0.9515435532251734, 'colsample_bytree': 0.9800595577322201, 'reg_alpha': 4.743553175168881, 'reg_lambda': 0.6372945390585497}. Best is trial 49 with value: 0.7401802531590501.\n"
          ]
        },
        {
          "output_type": "stream",
          "name": "stdout",
          "text": [
            "Training until validation scores don't improve for 50 rounds\n",
            "Did not meet early stopping. Best iteration is:\n",
            "[554]\tvalid_0's auc: 0.738187\n",
            "Training until validation scores don't improve for 50 rounds\n",
            "Did not meet early stopping. Best iteration is:\n",
            "[551]\tvalid_0's auc: 0.742521\n",
            "Training until validation scores don't improve for 50 rounds\n",
            "Did not meet early stopping. Best iteration is:\n",
            "[548]\tvalid_0's auc: 0.739959\n",
            "Training until validation scores don't improve for 50 rounds\n",
            "Did not meet early stopping. Best iteration is:\n",
            "[515]\tvalid_0's auc: 0.738398\n",
            "Training until validation scores don't improve for 50 rounds\n",
            "Did not meet early stopping. Best iteration is:\n",
            "[541]\tvalid_0's auc: 0.741243\n"
          ]
        },
        {
          "output_type": "stream",
          "name": "stderr",
          "text": [
            "[I 2025-03-04 14:11:52,677] Trial 62 finished with value: 0.7400612864764712 and parameters: {'n_estimators': 557, 'learning_rate': 0.07561755197574249, 'max_depth': 3, 'num_leaves': 63, 'min_child_samples': 75, 'subsample': 0.9940947333962165, 'colsample_bytree': 0.9890929000606652, 'reg_alpha': 9.97725968521826, 'reg_lambda': 0.354674569728938}. Best is trial 49 with value: 0.7401802531590501.\n"
          ]
        },
        {
          "output_type": "stream",
          "name": "stdout",
          "text": [
            "Training until validation scores don't improve for 50 rounds\n",
            "Did not meet early stopping. Best iteration is:\n",
            "[603]\tvalid_0's auc: 0.738198\n",
            "Training until validation scores don't improve for 50 rounds\n",
            "Did not meet early stopping. Best iteration is:\n",
            "[601]\tvalid_0's auc: 0.742769\n",
            "Training until validation scores don't improve for 50 rounds\n",
            "Early stopping, best iteration is:\n",
            "[469]\tvalid_0's auc: 0.739885\n",
            "Training until validation scores don't improve for 50 rounds\n",
            "Early stopping, best iteration is:\n",
            "[381]\tvalid_0's auc: 0.737887\n",
            "Training until validation scores don't improve for 50 rounds\n"
          ]
        },
        {
          "output_type": "stream",
          "name": "stderr",
          "text": [
            "[I 2025-03-04 14:12:14,794] Trial 63 finished with value: 0.7399601309887561 and parameters: {'n_estimators': 603, 'learning_rate': 0.08173088400578758, 'max_depth': 3, 'num_leaves': 67, 'min_child_samples': 91, 'subsample': 0.8855652041358404, 'colsample_bytree': 0.9696554566329703, 'reg_alpha': 2.051427646392339, 'reg_lambda': 0.1306048273659685}. Best is trial 49 with value: 0.7401802531590501.\n"
          ]
        },
        {
          "output_type": "stream",
          "name": "stdout",
          "text": [
            "Early stopping, best iteration is:\n",
            "[393]\tvalid_0's auc: 0.741062\n",
            "Training until validation scores don't improve for 50 rounds\n",
            "Early stopping, best iteration is:\n",
            "[234]\tvalid_0's auc: 0.738049\n",
            "Training until validation scores don't improve for 50 rounds\n",
            "Early stopping, best iteration is:\n",
            "[294]\tvalid_0's auc: 0.742704\n",
            "Training until validation scores don't improve for 50 rounds\n",
            "Early stopping, best iteration is:\n",
            "[292]\tvalid_0's auc: 0.740213\n",
            "Training until validation scores don't improve for 50 rounds\n",
            "Early stopping, best iteration is:\n",
            "[177]\tvalid_0's auc: 0.737729\n",
            "Training until validation scores don't improve for 50 rounds\n"
          ]
        },
        {
          "output_type": "stream",
          "name": "stderr",
          "text": [
            "[I 2025-03-04 14:12:32,202] Trial 64 finished with value: 0.7399671550948941 and parameters: {'n_estimators': 441, 'learning_rate': 0.08980882504984575, 'max_depth': 4, 'num_leaves': 57, 'min_child_samples': 81, 'subsample': 0.9156553787857796, 'colsample_bytree': 0.9268441638771596, 'reg_alpha': 0.9041948312899003, 'reg_lambda': 4.300878054910228}. Best is trial 49 with value: 0.7401802531590501.\n"
          ]
        },
        {
          "output_type": "stream",
          "name": "stdout",
          "text": [
            "Early stopping, best iteration is:\n",
            "[288]\tvalid_0's auc: 0.74114\n",
            "Training until validation scores don't improve for 50 rounds\n",
            "Early stopping, best iteration is:\n",
            "[613]\tvalid_0's auc: 0.738454\n",
            "Training until validation scores don't improve for 50 rounds\n",
            "Early stopping, best iteration is:\n",
            "[490]\tvalid_0's auc: 0.742531\n",
            "Training until validation scores don't improve for 50 rounds\n",
            "Early stopping, best iteration is:\n",
            "[592]\tvalid_0's auc: 0.74014\n",
            "Training until validation scores don't improve for 50 rounds\n",
            "Early stopping, best iteration is:\n",
            "[477]\tvalid_0's auc: 0.738153\n",
            "Training until validation scores don't improve for 50 rounds\n",
            "Early stopping, best iteration is:\n",
            "[619]\tvalid_0's auc: 0.741303\n"
          ]
        },
        {
          "output_type": "stream",
          "name": "stderr",
          "text": [
            "[I 2025-03-04 14:13:00,806] Trial 65 finished with value: 0.7401160927249224 and parameters: {'n_estimators': 735, 'learning_rate': 0.0774668593548795, 'max_depth': 3, 'num_leaves': 44, 'min_child_samples': 76, 'subsample': 0.8463981414656627, 'colsample_bytree': 0.9578074802222092, 'reg_alpha': 4.893919843194281, 'reg_lambda': 0.028112688026746987}. Best is trial 49 with value: 0.7401802531590501.\n"
          ]
        },
        {
          "output_type": "stream",
          "name": "stdout",
          "text": [
            "Training until validation scores don't improve for 50 rounds\n",
            "Early stopping, best iteration is:\n",
            "[491]\tvalid_0's auc: 0.738184\n",
            "Training until validation scores don't improve for 50 rounds\n",
            "Early stopping, best iteration is:\n",
            "[594]\tvalid_0's auc: 0.742657\n",
            "Training until validation scores don't improve for 50 rounds\n",
            "Early stopping, best iteration is:\n",
            "[617]\tvalid_0's auc: 0.740005\n",
            "Training until validation scores don't improve for 50 rounds\n",
            "Early stopping, best iteration is:\n",
            "[386]\tvalid_0's auc: 0.738002\n",
            "Training until validation scores don't improve for 50 rounds\n",
            "Early stopping, best iteration is:\n",
            "[469]\tvalid_0's auc: 0.741235\n"
          ]
        },
        {
          "output_type": "stream",
          "name": "stderr",
          "text": [
            "[I 2025-03-04 14:13:26,944] Trial 66 finished with value: 0.7400166257365601 and parameters: {'n_estimators': 742, 'learning_rate': 0.07781068244263525, 'max_depth': 3, 'num_leaves': 44, 'min_child_samples': 77, 'subsample': 0.8471853954291777, 'colsample_bytree': 0.9490999382755598, 'reg_alpha': 2.8027197078655495, 'reg_lambda': 0.03137248301296017}. Best is trial 49 with value: 0.7401802531590501.\n"
          ]
        },
        {
          "output_type": "stream",
          "name": "stdout",
          "text": [
            "Training until validation scores don't improve for 50 rounds\n",
            "Did not meet early stopping. Best iteration is:\n",
            "[504]\tvalid_0's auc: 0.738527\n",
            "Training until validation scores don't improve for 50 rounds\n",
            "Did not meet early stopping. Best iteration is:\n",
            "[494]\tvalid_0's auc: 0.742682\n",
            "Training until validation scores don't improve for 50 rounds\n",
            "Did not meet early stopping. Best iteration is:\n",
            "[499]\tvalid_0's auc: 0.739828\n",
            "Training until validation scores don't improve for 50 rounds\n",
            "Did not meet early stopping. Best iteration is:\n",
            "[498]\tvalid_0's auc: 0.73829\n",
            "Training until validation scores don't improve for 50 rounds\n"
          ]
        },
        {
          "output_type": "stream",
          "name": "stderr",
          "text": [
            "[I 2025-03-04 14:13:47,395] Trial 67 finished with value: 0.7401492476598616 and parameters: {'n_estimators': 504, 'learning_rate': 0.08446711036318087, 'max_depth': 3, 'num_leaves': 51, 'min_child_samples': 71, 'subsample': 0.8734405870134929, 'colsample_bytree': 0.9671889008688969, 'reg_alpha': 6.154504027879653, 'reg_lambda': 0.2668545564975646}. Best is trial 49 with value: 0.7401802531590501.\n"
          ]
        },
        {
          "output_type": "stream",
          "name": "stdout",
          "text": [
            "Early stopping, best iteration is:\n",
            "[440]\tvalid_0's auc: 0.741418\n",
            "Training until validation scores don't improve for 50 rounds\n",
            "Early stopping, best iteration is:\n",
            "[194]\tvalid_0's auc: 0.737887\n",
            "Training until validation scores don't improve for 50 rounds\n",
            "Early stopping, best iteration is:\n",
            "[245]\tvalid_0's auc: 0.742396\n",
            "Training until validation scores don't improve for 50 rounds\n",
            "Early stopping, best iteration is:\n",
            "[189]\tvalid_0's auc: 0.739819\n",
            "Training until validation scores don't improve for 50 rounds\n",
            "Early stopping, best iteration is:\n",
            "[200]\tvalid_0's auc: 0.737423\n",
            "Training until validation scores don't improve for 50 rounds\n"
          ]
        },
        {
          "output_type": "stream",
          "name": "stderr",
          "text": [
            "[I 2025-03-04 14:14:01,266] Trial 68 finished with value: 0.7396670830604519 and parameters: {'n_estimators': 506, 'learning_rate': 0.09645348732079775, 'max_depth': 4, 'num_leaves': 53, 'min_child_samples': 70, 'subsample': 0.9665391265250911, 'colsample_bytree': 0.9706388976182425, 'reg_alpha': 1.3206747839048245e-06, 'reg_lambda': 0.23240828676484204}. Best is trial 49 with value: 0.7401802531590501.\n"
          ]
        },
        {
          "output_type": "stream",
          "name": "stdout",
          "text": [
            "Early stopping, best iteration is:\n",
            "[166]\tvalid_0's auc: 0.74081\n",
            "Training until validation scores don't improve for 50 rounds\n",
            "Early stopping, best iteration is:\n",
            "[230]\tvalid_0's auc: 0.737892\n",
            "Training until validation scores don't improve for 50 rounds\n",
            "Did not meet early stopping. Best iteration is:\n",
            "[301]\tvalid_0's auc: 0.74269\n",
            "Training until validation scores don't improve for 50 rounds\n",
            "Early stopping, best iteration is:\n",
            "[203]\tvalid_0's auc: 0.73977\n",
            "Training until validation scores don't improve for 50 rounds\n",
            "Early stopping, best iteration is:\n",
            "[232]\tvalid_0's auc: 0.737706\n",
            "Training until validation scores don't improve for 50 rounds\n"
          ]
        },
        {
          "output_type": "stream",
          "name": "stderr",
          "text": [
            "[I 2025-03-04 14:14:16,436] Trial 69 finished with value: 0.7398132456319685 and parameters: {'n_estimators': 349, 'learning_rate': 0.08482467360721486, 'max_depth': 4, 'num_leaves': 51, 'min_child_samples': 95, 'subsample': 0.8726762345422536, 'colsample_bytree': 0.889215160722637, 'reg_alpha': 0.4339611297033968, 'reg_lambda': 0.8789128871467934}. Best is trial 49 with value: 0.7401802531590501.\n"
          ]
        },
        {
          "output_type": "stream",
          "name": "stdout",
          "text": [
            "Early stopping, best iteration is:\n",
            "[250]\tvalid_0's auc: 0.741008\n",
            "Training until validation scores don't improve for 50 rounds\n",
            "Did not meet early stopping. Best iteration is:\n",
            "[426]\tvalid_0's auc: 0.738076\n",
            "Training until validation scores don't improve for 50 rounds\n",
            "Did not meet early stopping. Best iteration is:\n",
            "[444]\tvalid_0's auc: 0.742416\n",
            "Training until validation scores don't improve for 50 rounds\n",
            "Did not meet early stopping. Best iteration is:\n",
            "[422]\tvalid_0's auc: 0.7395\n",
            "Training until validation scores don't improve for 50 rounds\n",
            "Did not meet early stopping. Best iteration is:\n",
            "[449]\tvalid_0's auc: 0.737565\n",
            "Training until validation scores don't improve for 50 rounds\n"
          ]
        },
        {
          "output_type": "stream",
          "name": "stderr",
          "text": [
            "[I 2025-03-04 14:14:37,264] Trial 70 finished with value: 0.7396378968889111 and parameters: {'n_estimators': 449, 'learning_rate': 0.07994523050543831, 'max_depth': 3, 'num_leaves': 37, 'min_child_samples': 73, 'subsample': 0.7469955518053932, 'colsample_bytree': 0.9343086124987815, 'reg_alpha': 2.476036568385152e-07, 'reg_lambda': 2.7290149731557505}. Best is trial 49 with value: 0.7401802531590501.\n"
          ]
        },
        {
          "output_type": "stream",
          "name": "stdout",
          "text": [
            "Did not meet early stopping. Best iteration is:\n",
            "[437]\tvalid_0's auc: 0.740632\n",
            "Training until validation scores don't improve for 50 rounds\n",
            "Did not meet early stopping. Best iteration is:\n",
            "[623]\tvalid_0's auc: 0.738485\n",
            "Training until validation scores don't improve for 50 rounds\n",
            "Early stopping, best iteration is:\n",
            "[557]\tvalid_0's auc: 0.742747\n",
            "Training until validation scores don't improve for 50 rounds\n",
            "Early stopping, best iteration is:\n",
            "[494]\tvalid_0's auc: 0.739842\n",
            "Training until validation scores don't improve for 50 rounds\n",
            "Early stopping, best iteration is:\n",
            "[455]\tvalid_0's auc: 0.738176\n",
            "Training until validation scores don't improve for 50 rounds\n",
            "Did not meet early stopping. Best iteration is:\n",
            "[597]\tvalid_0's auc: 0.74127\n"
          ]
        },
        {
          "output_type": "stream",
          "name": "stderr",
          "text": [
            "[I 2025-03-04 14:15:00,468] Trial 71 finished with value: 0.740104095707534 and parameters: {'n_estimators': 623, 'learning_rate': 0.0694372003541312, 'max_depth': 3, 'num_leaves': 44, 'min_child_samples': 82, 'subsample': 0.8189498974982531, 'colsample_bytree': 0.9536821465763248, 'reg_alpha': 5.786782859785794, 'reg_lambda': 0.04485875267659504}. Best is trial 49 with value: 0.7401802531590501.\n"
          ]
        },
        {
          "output_type": "stream",
          "name": "stdout",
          "text": [
            "Training until validation scores don't improve for 50 rounds\n",
            "Did not meet early stopping. Best iteration is:\n",
            "[634]\tvalid_0's auc: 0.738331\n",
            "Training until validation scores don't improve for 50 rounds\n",
            "Did not meet early stopping. Best iteration is:\n",
            "[680]\tvalid_0's auc: 0.74276\n",
            "Training until validation scores don't improve for 50 rounds\n",
            "Early stopping, best iteration is:\n",
            "[412]\tvalid_0's auc: 0.740035\n",
            "Training until validation scores don't improve for 50 rounds\n",
            "Early stopping, best iteration is:\n",
            "[454]\tvalid_0's auc: 0.737868\n",
            "Training until validation scores don't improve for 50 rounds\n",
            "Early stopping, best iteration is:\n",
            "[538]\tvalid_0's auc: 0.741109\n"
          ]
        },
        {
          "output_type": "stream",
          "name": "stderr",
          "text": [
            "[I 2025-03-04 14:15:24,070] Trial 72 finished with value: 0.740020393848092 and parameters: {'n_estimators': 682, 'learning_rate': 0.07244504289648267, 'max_depth': 3, 'num_leaves': 49, 'min_child_samples': 86, 'subsample': 0.8398104871580122, 'colsample_bytree': 0.9621326642530531, 'reg_alpha': 3.046569063995975, 'reg_lambda': 0.44497179089614014}. Best is trial 49 with value: 0.7401802531590501.\n"
          ]
        },
        {
          "output_type": "stream",
          "name": "stdout",
          "text": [
            "Training until validation scores don't improve for 50 rounds\n",
            "Did not meet early stopping. Best iteration is:\n",
            "[478]\tvalid_0's auc: 0.738334\n",
            "Training until validation scores don't improve for 50 rounds\n",
            "Did not meet early stopping. Best iteration is:\n",
            "[466]\tvalid_0's auc: 0.742616\n",
            "Training until validation scores don't improve for 50 rounds\n",
            "Did not meet early stopping. Best iteration is:\n",
            "[450]\tvalid_0's auc: 0.740114\n",
            "Training until validation scores don't improve for 50 rounds\n",
            "Did not meet early stopping. Best iteration is:\n",
            "[453]\tvalid_0's auc: 0.738187\n",
            "Training until validation scores don't improve for 50 rounds\n"
          ]
        },
        {
          "output_type": "stream",
          "name": "stderr",
          "text": [
            "[I 2025-03-04 14:15:45,518] Trial 73 finished with value: 0.7401228901122913 and parameters: {'n_estimators': 481, 'learning_rate': 0.08196539467322234, 'max_depth': 3, 'num_leaves': 54, 'min_child_samples': 77, 'subsample': 0.9085504476814609, 'colsample_bytree': 0.9868102909402239, 'reg_alpha': 5.848663903607233, 'reg_lambda': 0.013184172820542732}. Best is trial 49 with value: 0.7401802531590501.\n"
          ]
        },
        {
          "output_type": "stream",
          "name": "stdout",
          "text": [
            "Did not meet early stopping. Best iteration is:\n",
            "[479]\tvalid_0's auc: 0.741362\n",
            "Training until validation scores don't improve for 50 rounds\n",
            "Did not meet early stopping. Best iteration is:\n",
            "[467]\tvalid_0's auc: 0.738128\n",
            "Training until validation scores don't improve for 50 rounds\n",
            "Did not meet early stopping. Best iteration is:\n",
            "[477]\tvalid_0's auc: 0.742661\n",
            "Training until validation scores don't improve for 50 rounds\n",
            "Early stopping, best iteration is:\n",
            "[368]\tvalid_0's auc: 0.739839\n",
            "Training until validation scores don't improve for 50 rounds\n",
            "Early stopping, best iteration is:\n",
            "[381]\tvalid_0's auc: 0.737761\n",
            "Training until validation scores don't improve for 50 rounds\n"
          ]
        },
        {
          "output_type": "stream",
          "name": "stderr",
          "text": [
            "[I 2025-03-04 14:16:04,556] Trial 74 finished with value: 0.7398847151698215 and parameters: {'n_estimators': 477, 'learning_rate': 0.08596234279942713, 'max_depth': 3, 'num_leaves': 54, 'min_child_samples': 63, 'subsample': 0.9007813090994566, 'colsample_bytree': 0.9903851447269048, 'reg_alpha': 1.3018004432538721, 'reg_lambda': 0.009621621394225281}. Best is trial 49 with value: 0.7401802531590501.\n"
          ]
        },
        {
          "output_type": "stream",
          "name": "stdout",
          "text": [
            "Early stopping, best iteration is:\n",
            "[417]\tvalid_0's auc: 0.741035\n",
            "Training until validation scores don't improve for 50 rounds\n",
            "Early stopping, best iteration is:\n",
            "[336]\tvalid_0's auc: 0.738065\n",
            "Training until validation scores don't improve for 50 rounds\n",
            "Early stopping, best iteration is:\n",
            "[291]\tvalid_0's auc: 0.742565\n",
            "Training until validation scores don't improve for 50 rounds\n",
            "Early stopping, best iteration is:\n",
            "[271]\tvalid_0's auc: 0.740077\n",
            "Training until validation scores don't improve for 50 rounds\n",
            "Early stopping, best iteration is:\n",
            "[292]\tvalid_0's auc: 0.738085\n",
            "Training until validation scores don't improve for 50 rounds\n"
          ]
        },
        {
          "output_type": "stream",
          "name": "stderr",
          "text": [
            "[I 2025-03-04 14:16:23,775] Trial 75 finished with value: 0.7399980676303104 and parameters: {'n_estimators': 394, 'learning_rate': 0.08189579977178112, 'max_depth': 4, 'num_leaves': 81, 'min_child_samples': 79, 'subsample': 0.9306888896894361, 'colsample_bytree': 0.9755388064670872, 'reg_alpha': 6.532136878513914, 'reg_lambda': 0.11811722881240219}. Best is trial 49 with value: 0.7401802531590501.\n"
          ]
        },
        {
          "output_type": "stream",
          "name": "stdout",
          "text": [
            "Early stopping, best iteration is:\n",
            "[333]\tvalid_0's auc: 0.741198\n",
            "Training until validation scores don't improve for 50 rounds\n",
            "Early stopping, best iteration is:\n",
            "[412]\tvalid_0's auc: 0.738063\n",
            "Training until validation scores don't improve for 50 rounds\n",
            "Did not meet early stopping. Best iteration is:\n",
            "[535]\tvalid_0's auc: 0.742478\n",
            "Training until validation scores don't improve for 50 rounds\n",
            "Early stopping, best iteration is:\n",
            "[428]\tvalid_0's auc: 0.739831\n",
            "Training until validation scores don't improve for 50 rounds\n",
            "Early stopping, best iteration is:\n",
            "[330]\tvalid_0's auc: 0.73796\n",
            "Training until validation scores don't improve for 50 rounds\n",
            "Did not meet early stopping. Best iteration is:\n",
            "[513]\tvalid_0's auc: 0.741196\n"
          ]
        },
        {
          "output_type": "stream",
          "name": "stderr",
          "text": [
            "[I 2025-03-04 14:16:43,112] Trial 76 finished with value: 0.739905591964247 and parameters: {'n_estimators': 540, 'learning_rate': 0.09076803336051995, 'max_depth': 3, 'num_leaves': 58, 'min_child_samples': 72, 'subsample': 0.9180159155727482, 'colsample_bytree': 0.9996816735144709, 'reg_alpha': 1.6655045621195348, 'reg_lambda': 0.3335281430444985}. Best is trial 49 with value: 0.7401802531590501.\n"
          ]
        },
        {
          "output_type": "stream",
          "name": "stdout",
          "text": [
            "Training until validation scores don't improve for 50 rounds\n",
            "Did not meet early stopping. Best iteration is:\n",
            "[480]\tvalid_0's auc: 0.738323\n",
            "Training until validation scores don't improve for 50 rounds\n",
            "Did not meet early stopping. Best iteration is:\n",
            "[478]\tvalid_0's auc: 0.742699\n",
            "Training until validation scores don't improve for 50 rounds\n",
            "Did not meet early stopping. Best iteration is:\n",
            "[469]\tvalid_0's auc: 0.739941\n",
            "Training until validation scores don't improve for 50 rounds\n",
            "Early stopping, best iteration is:\n",
            "[331]\tvalid_0's auc: 0.738041\n",
            "Training until validation scores don't improve for 50 rounds\n",
            "Did not meet early stopping. Best iteration is:\n",
            "[437]\tvalid_0's auc: 0.741097\n"
          ]
        },
        {
          "output_type": "stream",
          "name": "stderr",
          "text": [
            "[I 2025-03-04 14:17:02,429] Trial 77 finished with value: 0.7400201862802843 and parameters: {'n_estimators': 480, 'learning_rate': 0.08868673643843414, 'max_depth': 3, 'num_leaves': 62, 'min_child_samples': 89, 'subsample': 0.8886815700050724, 'colsample_bytree': 0.9837122357364371, 'reg_alpha': 2.8039741875288637, 'reg_lambda': 0.0028912446593366043}. Best is trial 49 with value: 0.7401802531590501.\n"
          ]
        },
        {
          "output_type": "stream",
          "name": "stdout",
          "text": [
            "Training until validation scores don't improve for 50 rounds\n",
            "Early stopping, best iteration is:\n",
            "[301]\tvalid_0's auc: 0.737875\n",
            "Training until validation scores don't improve for 50 rounds\n",
            "Early stopping, best iteration is:\n",
            "[311]\tvalid_0's auc: 0.742306\n",
            "Training until validation scores don't improve for 50 rounds\n",
            "Early stopping, best iteration is:\n",
            "[239]\tvalid_0's auc: 0.739712\n",
            "Training until validation scores don't improve for 50 rounds\n",
            "Early stopping, best iteration is:\n",
            "[230]\tvalid_0's auc: 0.737709\n",
            "Training until validation scores don't improve for 50 rounds\n"
          ]
        },
        {
          "output_type": "stream",
          "name": "stderr",
          "text": [
            "[I 2025-03-04 14:17:20,108] Trial 78 finished with value: 0.7396716784861616 and parameters: {'n_estimators': 535, 'learning_rate': 0.08077195834937016, 'max_depth': 4, 'num_leaves': 50, 'min_child_samples': 69, 'subsample': 0.9501341882180784, 'colsample_bytree': 0.9444947361448075, 'reg_alpha': 3.633836983017349e-05, 'reg_lambda': 2.6261605495817357}. Best is trial 49 with value: 0.7401802531590501.\n"
          ]
        },
        {
          "output_type": "stream",
          "name": "stdout",
          "text": [
            "Early stopping, best iteration is:\n",
            "[329]\tvalid_0's auc: 0.740756\n",
            "Training until validation scores don't improve for 50 rounds\n",
            "Early stopping, best iteration is:\n",
            "[539]\tvalid_0's auc: 0.738304\n",
            "Training until validation scores don't improve for 50 rounds\n",
            "Early stopping, best iteration is:\n",
            "[635]\tvalid_0's auc: 0.742615\n",
            "Training until validation scores don't improve for 50 rounds\n",
            "Early stopping, best iteration is:\n",
            "[502]\tvalid_0's auc: 0.739688\n",
            "Training until validation scores don't improve for 50 rounds\n",
            "Early stopping, best iteration is:\n",
            "[381]\tvalid_0's auc: 0.737785\n",
            "Training until validation scores don't improve for 50 rounds\n"
          ]
        },
        {
          "output_type": "stream",
          "name": "stderr",
          "text": [
            "[I 2025-03-04 14:17:41,716] Trial 79 finished with value: 0.7398731941601431 and parameters: {'n_estimators': 787, 'learning_rate': 0.08404000578981649, 'max_depth': 3, 'num_leaves': 54, 'min_child_samples': 64, 'subsample': 0.8748024334031307, 'colsample_bytree': 0.9237607322451111, 'reg_alpha': 0.8277094237515472, 'reg_lambda': 6.397704275678225}. Best is trial 49 with value: 0.7401802531590501.\n"
          ]
        },
        {
          "output_type": "stream",
          "name": "stdout",
          "text": [
            "Early stopping, best iteration is:\n",
            "[500]\tvalid_0's auc: 0.740973\n",
            "Training until validation scores don't improve for 50 rounds\n",
            "Early stopping, best iteration is:\n",
            "[267]\tvalid_0's auc: 0.737973\n",
            "Training until validation scores don't improve for 50 rounds\n",
            "Early stopping, best iteration is:\n",
            "[223]\tvalid_0's auc: 0.742581\n",
            "Training until validation scores don't improve for 50 rounds\n",
            "Early stopping, best iteration is:\n",
            "[230]\tvalid_0's auc: 0.740139\n",
            "Training until validation scores don't improve for 50 rounds\n",
            "Early stopping, best iteration is:\n",
            "[327]\tvalid_0's auc: 0.738235\n",
            "Training until validation scores don't improve for 50 rounds\n"
          ]
        },
        {
          "output_type": "stream",
          "name": "stderr",
          "text": [
            "[I 2025-03-04 14:18:00,229] Trial 80 finished with value: 0.7400582695132232 and parameters: {'n_estimators': 578, 'learning_rate': 0.09427989025229742, 'max_depth': 4, 'num_leaves': 65, 'min_child_samples': 83, 'subsample': 0.9095682748903282, 'colsample_bytree': 0.968329714799151, 'reg_alpha': 9.990783353951057, 'reg_lambda': 0.9481311159049427}. Best is trial 49 with value: 0.7401802531590501.\n"
          ]
        },
        {
          "output_type": "stream",
          "name": "stdout",
          "text": [
            "Early stopping, best iteration is:\n",
            "[307]\tvalid_0's auc: 0.741364\n",
            "Training until validation scores don't improve for 50 rounds\n",
            "Early stopping, best iteration is:\n",
            "[388]\tvalid_0's auc: 0.73804\n",
            "Training until validation scores don't improve for 50 rounds\n",
            "Early stopping, best iteration is:\n",
            "[505]\tvalid_0's auc: 0.742477\n",
            "Training until validation scores don't improve for 50 rounds\n",
            "Did not meet early stopping. Best iteration is:\n",
            "[720]\tvalid_0's auc: 0.74015\n",
            "Training until validation scores don't improve for 50 rounds\n",
            "Early stopping, best iteration is:\n",
            "[563]\tvalid_0's auc: 0.738187\n",
            "Training until validation scores don't improve for 50 rounds\n",
            "Early stopping, best iteration is:\n",
            "[552]\tvalid_0's auc: 0.741456\n"
          ]
        },
        {
          "output_type": "stream",
          "name": "stderr",
          "text": [
            "[I 2025-03-04 14:18:23,304] Trial 81 finished with value: 0.7400619744756314 and parameters: {'n_estimators': 727, 'learning_rate': 0.07570892467221238, 'max_depth': 3, 'num_leaves': 46, 'min_child_samples': 76, 'subsample': 0.8540853514412332, 'colsample_bytree': 0.9590603177279946, 'reg_alpha': 5.613953340894466, 'reg_lambda': 0.04913629981086916}. Best is trial 49 with value: 0.7401802531590501.\n"
          ]
        },
        {
          "output_type": "stream",
          "name": "stdout",
          "text": [
            "Training until validation scores don't improve for 50 rounds\n",
            "Did not meet early stopping. Best iteration is:\n",
            "[418]\tvalid_0's auc: 0.738116\n",
            "Training until validation scores don't improve for 50 rounds\n",
            "Did not meet early stopping. Best iteration is:\n",
            "[411]\tvalid_0's auc: 0.742286\n",
            "Training until validation scores don't improve for 50 rounds\n",
            "Did not meet early stopping. Best iteration is:\n",
            "[417]\tvalid_0's auc: 0.739766\n",
            "Training until validation scores don't improve for 50 rounds\n",
            "Did not meet early stopping. Best iteration is:\n",
            "[417]\tvalid_0's auc: 0.738096\n",
            "Training until validation scores don't improve for 50 rounds\n"
          ]
        },
        {
          "output_type": "stream",
          "name": "stderr",
          "text": [
            "[I 2025-03-04 14:18:43,019] Trial 82 finished with value: 0.7398375807751953 and parameters: {'n_estimators': 418, 'learning_rate': 0.07819217498470818, 'max_depth': 3, 'num_leaves': 43, 'min_child_samples': 77, 'subsample': 0.8303414015171832, 'colsample_bytree': 0.9909573105800392, 'reg_alpha': 4.567627766180069, 'reg_lambda': 0.15290457516367273}. Best is trial 49 with value: 0.7401802531590501.\n"
          ]
        },
        {
          "output_type": "stream",
          "name": "stdout",
          "text": [
            "Did not meet early stopping. Best iteration is:\n",
            "[418]\tvalid_0's auc: 0.740924\n",
            "Training until validation scores don't improve for 50 rounds\n",
            "Early stopping, best iteration is:\n",
            "[599]\tvalid_0's auc: 0.73814\n",
            "Training until validation scores don't improve for 50 rounds\n",
            "Early stopping, best iteration is:\n",
            "[613]\tvalid_0's auc: 0.742822\n",
            "Training until validation scores don't improve for 50 rounds\n",
            "Early stopping, best iteration is:\n",
            "[344]\tvalid_0's auc: 0.739609\n",
            "Training until validation scores don't improve for 50 rounds\n",
            "Early stopping, best iteration is:\n",
            "[364]\tvalid_0's auc: 0.73777\n",
            "Training until validation scores don't improve for 50 rounds\n"
          ]
        },
        {
          "output_type": "stream",
          "name": "stderr",
          "text": [
            "[I 2025-03-04 14:19:03,734] Trial 83 finished with value: 0.7399030738243166 and parameters: {'n_estimators': 766, 'learning_rate': 0.08325535641696627, 'max_depth': 3, 'num_leaves': 40, 'min_child_samples': 79, 'subsample': 0.7859988312593706, 'colsample_bytree': 0.9762705792186257, 'reg_alpha': 2.1918917585141724, 'reg_lambda': 0.0002656820495244265}. Best is trial 49 with value: 0.7401802531590501.\n"
          ]
        },
        {
          "output_type": "stream",
          "name": "stdout",
          "text": [
            "Early stopping, best iteration is:\n",
            "[492]\tvalid_0's auc: 0.741174\n",
            "Training until validation scores don't improve for 50 rounds\n",
            "Did not meet early stopping. Best iteration is:\n",
            "[827]\tvalid_0's auc: 0.738427\n",
            "Training until validation scores don't improve for 50 rounds\n",
            "Early stopping, best iteration is:\n",
            "[753]\tvalid_0's auc: 0.742826\n",
            "Training until validation scores don't improve for 50 rounds\n",
            "Early stopping, best iteration is:\n",
            "[446]\tvalid_0's auc: 0.739906\n",
            "Training until validation scores don't improve for 50 rounds\n",
            "Early stopping, best iteration is:\n",
            "[598]\tvalid_0's auc: 0.73831\n",
            "Training until validation scores don't improve for 50 rounds\n",
            "Early stopping, best iteration is:\n",
            "[562]\tvalid_0's auc: 0.7413\n"
          ]
        },
        {
          "output_type": "stream",
          "name": "stderr",
          "text": [
            "[I 2025-03-04 14:19:32,269] Trial 84 finished with value: 0.7401538285977093 and parameters: {'n_estimators': 831, 'learning_rate': 0.07283527598033734, 'max_depth': 3, 'num_leaves': 47, 'min_child_samples': 75, 'subsample': 0.8886839438191324, 'colsample_bytree': 0.9417981613014856, 'reg_alpha': 6.354063583298415, 'reg_lambda': 0.6218233675608771}. Best is trial 49 with value: 0.7401802531590501.\n"
          ]
        },
        {
          "output_type": "stream",
          "name": "stdout",
          "text": [
            "Training until validation scores don't improve for 50 rounds\n",
            "Early stopping, best iteration is:\n",
            "[414]\tvalid_0's auc: 0.738249\n",
            "Training until validation scores don't improve for 50 rounds\n",
            "Early stopping, best iteration is:\n",
            "[366]\tvalid_0's auc: 0.742653\n",
            "Training until validation scores don't improve for 50 rounds\n",
            "Early stopping, best iteration is:\n",
            "[279]\tvalid_0's auc: 0.739873\n",
            "Training until validation scores don't improve for 50 rounds\n",
            "Early stopping, best iteration is:\n",
            "[343]\tvalid_0's auc: 0.738022\n",
            "Training until validation scores don't improve for 50 rounds\n",
            "Early stopping, best iteration is:\n",
            "[436]\tvalid_0's auc: 0.741539\n"
          ]
        },
        {
          "output_type": "stream",
          "name": "stderr",
          "text": [
            "[I 2025-03-04 14:19:54,435] Trial 85 finished with value: 0.740066853385392 and parameters: {'n_estimators': 808, 'learning_rate': 0.06343497861514415, 'max_depth': 4, 'num_leaves': 48, 'min_child_samples': 67, 'subsample': 0.9373918477543874, 'colsample_bytree': 0.9386185337716897, 'reg_alpha': 6.346907108959824, 'reg_lambda': 0.5806877903279588}. Best is trial 49 with value: 0.7401802531590501.\n"
          ]
        },
        {
          "output_type": "stream",
          "name": "stdout",
          "text": [
            "Training until validation scores don't improve for 50 rounds\n",
            "Early stopping, best iteration is:\n",
            "[663]\tvalid_0's auc: 0.738261\n",
            "Training until validation scores don't improve for 50 rounds\n",
            "Early stopping, best iteration is:\n",
            "[492]\tvalid_0's auc: 0.742703\n",
            "Training until validation scores don't improve for 50 rounds\n",
            "Early stopping, best iteration is:\n",
            "[662]\tvalid_0's auc: 0.740069\n",
            "Training until validation scores don't improve for 50 rounds\n",
            "Early stopping, best iteration is:\n",
            "[518]\tvalid_0's auc: 0.7382\n",
            "Training until validation scores don't improve for 50 rounds\n",
            "Early stopping, best iteration is:\n",
            "[632]\tvalid_0's auc: 0.741405\n"
          ]
        },
        {
          "output_type": "stream",
          "name": "stderr",
          "text": [
            "[I 2025-03-04 14:20:23,019] Trial 86 finished with value: 0.7401277880079139 and parameters: {'n_estimators': 833, 'learning_rate': 0.0733440116322686, 'max_depth': 3, 'num_leaves': 60, 'min_child_samples': 72, 'subsample': 0.8901735876489849, 'colsample_bytree': 0.928318658382401, 'reg_alpha': 9.69858407611515, 'reg_lambda': 2.20817288196057}. Best is trial 49 with value: 0.7401802531590501.\n"
          ]
        },
        {
          "output_type": "stream",
          "name": "stdout",
          "text": [
            "Training until validation scores don't improve for 50 rounds\n",
            "Did not meet early stopping. Best iteration is:\n",
            "[830]\tvalid_0's auc: 0.7383\n",
            "Training until validation scores don't improve for 50 rounds\n",
            "Early stopping, best iteration is:\n",
            "[764]\tvalid_0's auc: 0.742586\n",
            "Training until validation scores don't improve for 50 rounds\n",
            "Early stopping, best iteration is:\n",
            "[723]\tvalid_0's auc: 0.740002\n",
            "Training until validation scores don't improve for 50 rounds\n",
            "Early stopping, best iteration is:\n",
            "[380]\tvalid_0's auc: 0.737959\n",
            "Training until validation scores don't improve for 50 rounds\n",
            "Early stopping, best iteration is:\n",
            "[752]\tvalid_0's auc: 0.741466\n"
          ]
        },
        {
          "output_type": "stream",
          "name": "stderr",
          "text": [
            "[I 2025-03-04 14:20:52,313] Trial 87 finished with value: 0.7400627766252459 and parameters: {'n_estimators': 832, 'learning_rate': 0.06651774232583146, 'max_depth': 3, 'num_leaves': 70, 'min_child_samples': 71, 'subsample': 0.8894222493697177, 'colsample_bytree': 0.8977303724697305, 'reg_alpha': 9.955452487475592, 'reg_lambda': 1.9704744933531964}. Best is trial 49 with value: 0.7401802531590501.\n"
          ]
        },
        {
          "output_type": "stream",
          "name": "stdout",
          "text": [
            "Training until validation scores don't improve for 50 rounds\n",
            "Early stopping, best iteration is:\n",
            "[337]\tvalid_0's auc: 0.738326\n",
            "Training until validation scores don't improve for 50 rounds\n",
            "Early stopping, best iteration is:\n",
            "[401]\tvalid_0's auc: 0.742751\n",
            "Training until validation scores don't improve for 50 rounds\n",
            "Early stopping, best iteration is:\n",
            "[387]\tvalid_0's auc: 0.740152\n",
            "Training until validation scores don't improve for 50 rounds\n",
            "Early stopping, best iteration is:\n",
            "[359]\tvalid_0's auc: 0.738142\n",
            "Training until validation scores don't improve for 50 rounds\n"
          ]
        },
        {
          "output_type": "stream",
          "name": "stderr",
          "text": [
            "[I 2025-03-04 14:21:13,240] Trial 88 finished with value: 0.7401243718074413 and parameters: {'n_estimators': 887, 'learning_rate': 0.07190557695687741, 'max_depth': 4, 'num_leaves': 60, 'min_child_samples': 88, 'subsample': 0.8074878996483766, 'colsample_bytree': 0.9186316989827447, 'reg_alpha': 3.134631771342523, 'reg_lambda': 8.706730419806174}. Best is trial 49 with value: 0.7401802531590501.\n"
          ]
        },
        {
          "output_type": "stream",
          "name": "stdout",
          "text": [
            "Early stopping, best iteration is:\n",
            "[339]\tvalid_0's auc: 0.74125\n",
            "Training until validation scores don't improve for 50 rounds\n",
            "Early stopping, best iteration is:\n",
            "[719]\tvalid_0's auc: 0.738107\n",
            "Training until validation scores don't improve for 50 rounds\n",
            "Early stopping, best iteration is:\n",
            "[633]\tvalid_0's auc: 0.742944\n",
            "Training until validation scores don't improve for 50 rounds\n",
            "Early stopping, best iteration is:\n",
            "[666]\tvalid_0's auc: 0.740022\n",
            "Training until validation scores don't improve for 50 rounds\n",
            "Early stopping, best iteration is:\n",
            "[459]\tvalid_0's auc: 0.73769\n",
            "Training until validation scores don't improve for 50 rounds\n",
            "Early stopping, best iteration is:\n",
            "[692]\tvalid_0's auc: 0.740964\n"
          ]
        },
        {
          "output_type": "stream",
          "name": "stderr",
          "text": [
            "[I 2025-03-04 14:21:41,764] Trial 89 finished with value: 0.7399455594162065 and parameters: {'n_estimators': 829, 'learning_rate': 0.0682251551418932, 'max_depth': 3, 'num_leaves': 58, 'min_child_samples': 74, 'subsample': 0.8666919731201372, 'colsample_bytree': 0.6827253600130062, 'reg_alpha': 0.638114748762879, 'reg_lambda': 1.2631616957078278}. Best is trial 49 with value: 0.7401802531590501.\n"
          ]
        },
        {
          "output_type": "stream",
          "name": "stdout",
          "text": [
            "Training until validation scores don't improve for 50 rounds\n",
            "Early stopping, best iteration is:\n",
            "[615]\tvalid_0's auc: 0.738193\n",
            "Training until validation scores don't improve for 50 rounds\n",
            "Early stopping, best iteration is:\n",
            "[552]\tvalid_0's auc: 0.742553\n",
            "Training until validation scores don't improve for 50 rounds\n",
            "Early stopping, best iteration is:\n",
            "[613]\tvalid_0's auc: 0.73991\n",
            "Training until validation scores don't improve for 50 rounds\n",
            "Early stopping, best iteration is:\n",
            "[383]\tvalid_0's auc: 0.737911\n",
            "Training until validation scores don't improve for 50 rounds\n",
            "Early stopping, best iteration is:\n",
            "[655]\tvalid_0's auc: 0.741054\n"
          ]
        },
        {
          "output_type": "stream",
          "name": "stderr",
          "text": [
            "[I 2025-03-04 14:22:06,217] Trial 90 finished with value: 0.7399238644244622 and parameters: {'n_estimators': 782, 'learning_rate': 0.07523503867330311, 'max_depth': 3, 'num_leaves': 52, 'min_child_samples': 83, 'subsample': 0.8817198395778321, 'colsample_bytree': 0.9282402360634011, 'reg_alpha': 1.4987394485023635, 'reg_lambda': 0.2441552490531033}. Best is trial 49 with value: 0.7401802531590501.\n"
          ]
        },
        {
          "output_type": "stream",
          "name": "stdout",
          "text": [
            "Training until validation scores don't improve for 50 rounds\n",
            "Early stopping, best iteration is:\n",
            "[499]\tvalid_0's auc: 0.738355\n",
            "Training until validation scores don't improve for 50 rounds\n",
            "Early stopping, best iteration is:\n",
            "[285]\tvalid_0's auc: 0.742505\n",
            "Training until validation scores don't improve for 50 rounds\n",
            "Early stopping, best iteration is:\n",
            "[302]\tvalid_0's auc: 0.739988\n",
            "Training until validation scores don't improve for 50 rounds\n",
            "Early stopping, best iteration is:\n",
            "[267]\tvalid_0's auc: 0.737933\n",
            "Training until validation scores don't improve for 50 rounds\n"
          ]
        },
        {
          "output_type": "stream",
          "name": "stderr",
          "text": [
            "[I 2025-03-04 14:22:24,734] Trial 91 finished with value: 0.7400348050673508 and parameters: {'n_estimators': 886, 'learning_rate': 0.07308578564149239, 'max_depth': 4, 'num_leaves': 60, 'min_child_samples': 88, 'subsample': 0.8195587060849082, 'colsample_bytree': 0.9131071853312898, 'reg_alpha': 3.214111029816368, 'reg_lambda': 8.844450747791901}. Best is trial 49 with value: 0.7401802531590501.\n"
          ]
        },
        {
          "output_type": "stream",
          "name": "stdout",
          "text": [
            "Early stopping, best iteration is:\n",
            "[358]\tvalid_0's auc: 0.741394\n",
            "Training until validation scores don't improve for 50 rounds\n",
            "Early stopping, best iteration is:\n",
            "[422]\tvalid_0's auc: 0.738424\n",
            "Training until validation scores don't improve for 50 rounds\n",
            "Early stopping, best iteration is:\n",
            "[382]\tvalid_0's auc: 0.742599\n",
            "Training until validation scores don't improve for 50 rounds\n",
            "Early stopping, best iteration is:\n",
            "[298]\tvalid_0's auc: 0.739951\n",
            "Training until validation scores don't improve for 50 rounds\n",
            "Early stopping, best iteration is:\n",
            "[273]\tvalid_0's auc: 0.737806\n",
            "Training until validation scores don't improve for 50 rounds\n",
            "Early stopping, best iteration is:\n",
            "[423]\tvalid_0's auc: 0.741444\n"
          ]
        },
        {
          "output_type": "stream",
          "name": "stderr",
          "text": [
            "[I 2025-03-04 14:22:43,913] Trial 92 finished with value: 0.7400447672371696 and parameters: {'n_estimators': 881, 'learning_rate': 0.07053316636285165, 'max_depth': 4, 'num_leaves': 60, 'min_child_samples': 92, 'subsample': 0.7611181433348809, 'colsample_bytree': 0.9177417769003071, 'reg_alpha': 3.4105929536029915, 'reg_lambda': 4.627277426740391}. Best is trial 49 with value: 0.7401802531590501.\n"
          ]
        },
        {
          "output_type": "stream",
          "name": "stdout",
          "text": [
            "Training until validation scores don't improve for 50 rounds\n",
            "Early stopping, best iteration is:\n",
            "[544]\tvalid_0's auc: 0.738269\n",
            "Training until validation scores don't improve for 50 rounds\n",
            "Early stopping, best iteration is:\n",
            "[561]\tvalid_0's auc: 0.742726\n",
            "Training until validation scores don't improve for 50 rounds\n",
            "Early stopping, best iteration is:\n",
            "[669]\tvalid_0's auc: 0.740165\n",
            "Training until validation scores don't improve for 50 rounds\n",
            "Early stopping, best iteration is:\n",
            "[459]\tvalid_0's auc: 0.738274\n",
            "Training until validation scores don't improve for 50 rounds\n",
            "Early stopping, best iteration is:\n",
            "[535]\tvalid_0's auc: 0.741314\n"
          ]
        },
        {
          "output_type": "stream",
          "name": "stderr",
          "text": [
            "[I 2025-03-04 14:23:09,578] Trial 93 finished with value: 0.7401495603155993 and parameters: {'n_estimators': 843, 'learning_rate': 0.07945008612110001, 'max_depth': 3, 'num_leaves': 56, 'min_child_samples': 85, 'subsample': 0.835922867364444, 'colsample_bytree': 0.9495489833962345, 'reg_alpha': 6.631083543926002, 'reg_lambda': 2.0389268007762515}. Best is trial 49 with value: 0.7401802531590501.\n"
          ]
        },
        {
          "output_type": "stream",
          "name": "stdout",
          "text": [
            "Training until validation scores don't improve for 50 rounds\n",
            "Early stopping, best iteration is:\n",
            "[629]\tvalid_0's auc: 0.738354\n",
            "Training until validation scores don't improve for 50 rounds\n",
            "Early stopping, best iteration is:\n",
            "[653]\tvalid_0's auc: 0.742695\n",
            "Training until validation scores don't improve for 50 rounds\n",
            "Early stopping, best iteration is:\n",
            "[679]\tvalid_0's auc: 0.740117\n",
            "Training until validation scores don't improve for 50 rounds\n",
            "Early stopping, best iteration is:\n",
            "[625]\tvalid_0's auc: 0.738404\n",
            "Training until validation scores don't improve for 50 rounds\n",
            "Early stopping, best iteration is:\n",
            "[554]\tvalid_0's auc: 0.741297\n"
          ]
        },
        {
          "output_type": "stream",
          "name": "stderr",
          "text": [
            "[I 2025-03-04 14:23:37,617] Trial 94 finished with value: 0.7401732418411873 and parameters: {'n_estimators': 839, 'learning_rate': 0.0795043020299153, 'max_depth': 3, 'num_leaves': 47, 'min_child_samples': 85, 'subsample': 0.8341406412240442, 'colsample_bytree': 0.9478923414240694, 'reg_alpha': 7.10265230024925, 'reg_lambda': 2.5540330928995414}. Best is trial 49 with value: 0.7401802531590501.\n"
          ]
        },
        {
          "output_type": "stream",
          "name": "stdout",
          "text": [
            "Training until validation scores don't improve for 50 rounds\n",
            "Early stopping, best iteration is:\n",
            "[491]\tvalid_0's auc: 0.738142\n",
            "Training until validation scores don't improve for 50 rounds\n",
            "Early stopping, best iteration is:\n",
            "[497]\tvalid_0's auc: 0.742629\n",
            "Training until validation scores don't improve for 50 rounds\n",
            "Early stopping, best iteration is:\n",
            "[362]\tvalid_0's auc: 0.739705\n",
            "Training until validation scores don't improve for 50 rounds\n",
            "Early stopping, best iteration is:\n",
            "[295]\tvalid_0's auc: 0.738027\n",
            "Training until validation scores don't improve for 50 rounds\n"
          ]
        },
        {
          "output_type": "stream",
          "name": "stderr",
          "text": [
            "[I 2025-03-04 14:23:58,611] Trial 95 finished with value: 0.7399619152341366 and parameters: {'n_estimators': 797, 'learning_rate': 0.08675514573865592, 'max_depth': 3, 'num_leaves': 39, 'min_child_samples': 99, 'subsample': 0.8351537090729821, 'colsample_bytree': 0.9438647347478528, 'reg_alpha': 1.8961812794888262, 'reg_lambda': 1.2649055918076504}. Best is trial 49 with value: 0.7401802531590501.\n"
          ]
        },
        {
          "output_type": "stream",
          "name": "stdout",
          "text": [
            "Early stopping, best iteration is:\n",
            "[470]\tvalid_0's auc: 0.741307\n",
            "Training until validation scores don't improve for 50 rounds\n",
            "Early stopping, best iteration is:\n",
            "[630]\tvalid_0's auc: 0.738286\n",
            "Training until validation scores don't improve for 50 rounds\n",
            "Early stopping, best iteration is:\n",
            "[454]\tvalid_0's auc: 0.742482\n",
            "Training until validation scores don't improve for 50 rounds\n",
            "Early stopping, best iteration is:\n",
            "[607]\tvalid_0's auc: 0.740203\n",
            "Training until validation scores don't improve for 50 rounds\n",
            "Early stopping, best iteration is:\n",
            "[366]\tvalid_0's auc: 0.738111\n",
            "Training until validation scores don't improve for 50 rounds\n",
            "Early stopping, best iteration is:\n",
            "[435]\tvalid_0's auc: 0.74114\n"
          ]
        },
        {
          "output_type": "stream",
          "name": "stderr",
          "text": [
            "[I 2025-03-04 14:24:21,736] Trial 96 finished with value: 0.7400444297821063 and parameters: {'n_estimators': 759, 'learning_rate': 0.07972004405917521, 'max_depth': 3, 'num_leaves': 46, 'min_child_samples': 85, 'subsample': 0.8074414515032661, 'colsample_bytree': 0.9494898728193106, 'reg_alpha': 6.019942868942689, 'reg_lambda': 0.4413303944743348}. Best is trial 49 with value: 0.7401802531590501.\n"
          ]
        },
        {
          "output_type": "stream",
          "name": "stdout",
          "text": [
            "Training until validation scores don't improve for 50 rounds\n",
            "Early stopping, best iteration is:\n",
            "[337]\tvalid_0's auc: 0.737857\n",
            "Training until validation scores don't improve for 50 rounds\n",
            "Early stopping, best iteration is:\n",
            "[525]\tvalid_0's auc: 0.742615\n",
            "Training until validation scores don't improve for 50 rounds\n",
            "Early stopping, best iteration is:\n",
            "[526]\tvalid_0's auc: 0.739873\n",
            "Training until validation scores don't improve for 50 rounds\n",
            "Early stopping, best iteration is:\n",
            "[377]\tvalid_0's auc: 0.737939\n",
            "Training until validation scores don't improve for 50 rounds\n"
          ]
        },
        {
          "output_type": "stream",
          "name": "stderr",
          "text": [
            "[I 2025-03-04 14:24:42,143] Trial 97 finished with value: 0.7398562605165097 and parameters: {'n_estimators': 916, 'learning_rate': 0.0762075698198796, 'max_depth': 3, 'num_leaves': 49, 'min_child_samples': 80, 'subsample': 0.8551036167842945, 'colsample_bytree': 0.9675759847792108, 'reg_alpha': 0.9928164119758531, 'reg_lambda': 0.9404093294128247}. Best is trial 49 with value: 0.7401802531590501.\n"
          ]
        },
        {
          "output_type": "stream",
          "name": "stdout",
          "text": [
            "Early stopping, best iteration is:\n",
            "[456]\tvalid_0's auc: 0.740997\n",
            "Training until validation scores don't improve for 50 rounds\n",
            "Early stopping, best iteration is:\n",
            "[680]\tvalid_0's auc: 0.738422\n",
            "Training until validation scores don't improve for 50 rounds\n",
            "Early stopping, best iteration is:\n",
            "[517]\tvalid_0's auc: 0.742543\n",
            "Training until validation scores don't improve for 50 rounds\n",
            "Early stopping, best iteration is:\n",
            "[530]\tvalid_0's auc: 0.740201\n",
            "Training until validation scores don't improve for 50 rounds\n",
            "Early stopping, best iteration is:\n",
            "[334]\tvalid_0's auc: 0.738133\n",
            "Training until validation scores don't improve for 50 rounds\n",
            "Early stopping, best iteration is:\n",
            "[541]\tvalid_0's auc: 0.741271\n"
          ]
        },
        {
          "output_type": "stream",
          "name": "stderr",
          "text": [
            "[I 2025-03-04 14:25:05,983] Trial 98 finished with value: 0.7401141937501521 and parameters: {'n_estimators': 955, 'learning_rate': 0.09221760703179034, 'max_depth': 3, 'num_leaves': 56, 'min_child_samples': 96, 'subsample': 0.8227309762743645, 'colsample_bytree': 0.9612692253224067, 'reg_alpha': 4.077354739110248, 'reg_lambda': 3.008851026597001}. Best is trial 49 with value: 0.7401802531590501.\n"
          ]
        },
        {
          "output_type": "stream",
          "name": "stdout",
          "text": [
            "Training until validation scores don't improve for 50 rounds\n",
            "Early stopping, best iteration is:\n",
            "[602]\tvalid_0's auc: 0.737971\n",
            "Training until validation scores don't improve for 50 rounds\n",
            "Early stopping, best iteration is:\n",
            "[716]\tvalid_0's auc: 0.742828\n",
            "Training until validation scores don't improve for 50 rounds\n",
            "Early stopping, best iteration is:\n",
            "[411]\tvalid_0's auc: 0.73981\n",
            "Training until validation scores don't improve for 50 rounds\n",
            "Early stopping, best iteration is:\n",
            "[357]\tvalid_0's auc: 0.737922\n",
            "Training until validation scores don't improve for 50 rounds\n",
            "Early stopping, best iteration is:\n",
            "[505]\tvalid_0's auc: 0.740817\n"
          ]
        },
        {
          "output_type": "stream",
          "name": "stderr",
          "text": [
            "[I 2025-03-04 14:25:27,966] Trial 99 finished with value: 0.7398695273320104 and parameters: {'n_estimators': 843, 'learning_rate': 0.08492517688711043, 'max_depth': 3, 'num_leaves': 36, 'min_child_samples': 81, 'subsample': 0.7914217272715485, 'colsample_bytree': 0.9761489166625484, 'reg_alpha': 0.2822384362088526, 'reg_lambda': 5.116422632532542}. Best is trial 49 with value: 0.7401802531590501.\n"
          ]
        },
        {
          "output_type": "stream",
          "name": "stdout",
          "text": [
            "Best parameters: {'n_estimators': 729, 'learning_rate': 0.08581405855203687, 'max_depth': 3, 'num_leaves': 42, 'min_child_samples': 78, 'subsample': 0.8178782142132488, 'colsample_bytree': 0.9800372484455709, 'reg_alpha': 8.249660978537577, 'reg_lambda': 0.3415429882253782}\n",
            "Best CV score: 0.7402\n"
          ]
        }
      ],
      "source": [
        "# Optuna를 통한 하이퍼파라미터 최적화 및 5-fold 교차 검증을 통해 AUC 점수를 계산\n",
        "## 최적의 하이퍼파라미터 찾기\n",
        "def objective(trial):\n",
        "    # 탐색할 파라미터 공간 정의\n",
        "    params = {\n",
        "        'objective': 'binary',\n",
        "        'metric': 'auc',\n",
        "        'verbosity': -1,\n",
        "        'boosting_type': 'gbdt',\n",
        "\n",
        "        # 재현성을 위해 random_state 고정\n",
        "        'random_state': 42,\n",
        "\n",
        "        # 모든 CPU 사용\n",
        "        'n_jobs': -1,\n",
        "\n",
        "        # Optuna가 탐색할 하이퍼파라미터\n",
        "        'n_estimators': trial.suggest_int('n_estimators', 100, 1000),\n",
        "        'learning_rate': trial.suggest_float('learning_rate', 0.01, 0.1),\n",
        "        'max_depth': trial.suggest_int('max_depth', 3, 10),\n",
        "        'num_leaves': trial.suggest_int('num_leaves', 10, 100),\n",
        "        'min_child_samples': trial.suggest_int('min_child_samples', 5, 100),\n",
        "        'subsample': trial.suggest_float('subsample', 0.6, 1.0),\n",
        "        'colsample_bytree': trial.suggest_float('colsample_bytree', 0.6, 1.0),\n",
        "        'reg_alpha': trial.suggest_float('reg_alpha', 1e-8, 10.0, log=True),\n",
        "        'reg_lambda': trial.suggest_float('reg_lambda', 1e-8, 10.0, log=True)\n",
        "    }\n",
        "\n",
        "    cv = StratifiedKFold(n_splits=5, shuffle=True, random_state=42)\n",
        "    cv_scores = []\n",
        "\n",
        "    for fold, (train_idx, valid_idx) in enumerate(cv.split(X_train, y)):\n",
        "        X_fold_train, X_fold_valid = X_train.iloc[train_idx], X_train.iloc[valid_idx]\n",
        "        y_fold_train, y_fold_valid = y.iloc[train_idx], y.iloc[valid_idx]\n",
        "\n",
        "        # LightGBM 모델 생성\n",
        "        model = lgb.LGBMClassifier(**params)\n",
        "\n",
        "        # Early Stopping을 적용하기 위해 eval_set 지정\n",
        "        model.fit(\n",
        "            X_fold_train, y_fold_train,\n",
        "            eval_set=[(X_fold_valid, y_fold_valid)],\n",
        "            eval_metric='auc',\n",
        "            callbacks=[lgb.early_stopping(50)],\n",
        "        )\n",
        "\n",
        "        # 예측 확률\n",
        "        y_proba = model.predict_proba(X_fold_valid)[:, 1]\n",
        "        fold_score = roc_auc_score(y_fold_valid, y_proba)\n",
        "        cv_scores.append(fold_score)\n",
        "\n",
        "    return np.mean(cv_scores)\n",
        "\n",
        "# Optuna로 최적 파라미터 찾기\n",
        "study = optuna.create_study(direction='maximize')\n",
        "study.optimize(objective, n_trials=100)\n",
        "\n",
        "print(\"Best parameters:\", study.best_params)\n",
        "print(f\"Best CV score: {study.best_value:.4f}\")\n",
        "\n"
      ]
    },
    {
      "cell_type": "code",
      "source": [
        "# 최적의 하이퍼파라미터 값을 직접 지정 (Optuna를 통해 찾은 값)\n",
        "best_params = {\n",
        "        'n_estimators': 862,  # 주어진 최적화된 트리 수\n",
        "        'learning_rate': 0.08797062915937703,  # 주어진 최적화된 학습률\n",
        "        'max_depth': 3,  # 주어진 최적화된 최대 깊이\n",
        "        'num_leaves': 80,  # 주어진 최적화된 리프 수\n",
        "        'min_child_samples': 82,  # 주어진 최적화된 최소 샘플 수\n",
        "        'subsample': 0.8971316426273112,  # 주어진 최적화된 샘플링 비율\n",
        "        'colsample_bytree': 0.7524790699186465,  # 주어진 최적화된 컬럼 샘플링 비율\n",
        "        'reg_alpha': 9.42278389007915,  # 주어진 최적화된 L1 정규화 계수\n",
        "        'reg_lambda': 0.00010039295916103793  # 주어진 최적화된 L2 정규화 계수\n",
        "    }"
      ],
      "metadata": {
        "id": "F86mf38EQT-i"
      },
      "execution_count": null,
      "outputs": []
    },
    {
      "cell_type": "code",
      "execution_count": null,
      "metadata": {
        "id": "pPPeJxK_V7CC",
        "colab": {
          "base_uri": "https://localhost:8080/",
          "height": 150
        },
        "outputId": "4454efe4-746d-4ce8-f084-9a9271eae11a"
      },
      "outputs": [
        {
          "output_type": "execute_result",
          "data": {
            "text/plain": [
              "LGBMClassifier(colsample_bytree=0.9800372484455709,\n",
              "               learning_rate=0.08581405855203687, max_depth=3, metric='auc',\n",
              "               min_child_samples=78, n_estimators=729, n_jobs=-1, num_leaves=42,\n",
              "               objective='binary', random_state=42, reg_alpha=8.249660978537577,\n",
              "               reg_lambda=0.3415429882253782, subsample=0.8178782142132488)"
            ],
            "text/html": [
              "<style>#sk-container-id-5 {\n",
              "  /* Definition of color scheme common for light and dark mode */\n",
              "  --sklearn-color-text: #000;\n",
              "  --sklearn-color-text-muted: #666;\n",
              "  --sklearn-color-line: gray;\n",
              "  /* Definition of color scheme for unfitted estimators */\n",
              "  --sklearn-color-unfitted-level-0: #fff5e6;\n",
              "  --sklearn-color-unfitted-level-1: #f6e4d2;\n",
              "  --sklearn-color-unfitted-level-2: #ffe0b3;\n",
              "  --sklearn-color-unfitted-level-3: chocolate;\n",
              "  /* Definition of color scheme for fitted estimators */\n",
              "  --sklearn-color-fitted-level-0: #f0f8ff;\n",
              "  --sklearn-color-fitted-level-1: #d4ebff;\n",
              "  --sklearn-color-fitted-level-2: #b3dbfd;\n",
              "  --sklearn-color-fitted-level-3: cornflowerblue;\n",
              "\n",
              "  /* Specific color for light theme */\n",
              "  --sklearn-color-text-on-default-background: var(--sg-text-color, var(--theme-code-foreground, var(--jp-content-font-color1, black)));\n",
              "  --sklearn-color-background: var(--sg-background-color, var(--theme-background, var(--jp-layout-color0, white)));\n",
              "  --sklearn-color-border-box: var(--sg-text-color, var(--theme-code-foreground, var(--jp-content-font-color1, black)));\n",
              "  --sklearn-color-icon: #696969;\n",
              "\n",
              "  @media (prefers-color-scheme: dark) {\n",
              "    /* Redefinition of color scheme for dark theme */\n",
              "    --sklearn-color-text-on-default-background: var(--sg-text-color, var(--theme-code-foreground, var(--jp-content-font-color1, white)));\n",
              "    --sklearn-color-background: var(--sg-background-color, var(--theme-background, var(--jp-layout-color0, #111)));\n",
              "    --sklearn-color-border-box: var(--sg-text-color, var(--theme-code-foreground, var(--jp-content-font-color1, white)));\n",
              "    --sklearn-color-icon: #878787;\n",
              "  }\n",
              "}\n",
              "\n",
              "#sk-container-id-5 {\n",
              "  color: var(--sklearn-color-text);\n",
              "}\n",
              "\n",
              "#sk-container-id-5 pre {\n",
              "  padding: 0;\n",
              "}\n",
              "\n",
              "#sk-container-id-5 input.sk-hidden--visually {\n",
              "  border: 0;\n",
              "  clip: rect(1px 1px 1px 1px);\n",
              "  clip: rect(1px, 1px, 1px, 1px);\n",
              "  height: 1px;\n",
              "  margin: -1px;\n",
              "  overflow: hidden;\n",
              "  padding: 0;\n",
              "  position: absolute;\n",
              "  width: 1px;\n",
              "}\n",
              "\n",
              "#sk-container-id-5 div.sk-dashed-wrapped {\n",
              "  border: 1px dashed var(--sklearn-color-line);\n",
              "  margin: 0 0.4em 0.5em 0.4em;\n",
              "  box-sizing: border-box;\n",
              "  padding-bottom: 0.4em;\n",
              "  background-color: var(--sklearn-color-background);\n",
              "}\n",
              "\n",
              "#sk-container-id-5 div.sk-container {\n",
              "  /* jupyter's `normalize.less` sets `[hidden] { display: none; }`\n",
              "     but bootstrap.min.css set `[hidden] { display: none !important; }`\n",
              "     so we also need the `!important` here to be able to override the\n",
              "     default hidden behavior on the sphinx rendered scikit-learn.org.\n",
              "     See: https://github.com/scikit-learn/scikit-learn/issues/21755 */\n",
              "  display: inline-block !important;\n",
              "  position: relative;\n",
              "}\n",
              "\n",
              "#sk-container-id-5 div.sk-text-repr-fallback {\n",
              "  display: none;\n",
              "}\n",
              "\n",
              "div.sk-parallel-item,\n",
              "div.sk-serial,\n",
              "div.sk-item {\n",
              "  /* draw centered vertical line to link estimators */\n",
              "  background-image: linear-gradient(var(--sklearn-color-text-on-default-background), var(--sklearn-color-text-on-default-background));\n",
              "  background-size: 2px 100%;\n",
              "  background-repeat: no-repeat;\n",
              "  background-position: center center;\n",
              "}\n",
              "\n",
              "/* Parallel-specific style estimator block */\n",
              "\n",
              "#sk-container-id-5 div.sk-parallel-item::after {\n",
              "  content: \"\";\n",
              "  width: 100%;\n",
              "  border-bottom: 2px solid var(--sklearn-color-text-on-default-background);\n",
              "  flex-grow: 1;\n",
              "}\n",
              "\n",
              "#sk-container-id-5 div.sk-parallel {\n",
              "  display: flex;\n",
              "  align-items: stretch;\n",
              "  justify-content: center;\n",
              "  background-color: var(--sklearn-color-background);\n",
              "  position: relative;\n",
              "}\n",
              "\n",
              "#sk-container-id-5 div.sk-parallel-item {\n",
              "  display: flex;\n",
              "  flex-direction: column;\n",
              "}\n",
              "\n",
              "#sk-container-id-5 div.sk-parallel-item:first-child::after {\n",
              "  align-self: flex-end;\n",
              "  width: 50%;\n",
              "}\n",
              "\n",
              "#sk-container-id-5 div.sk-parallel-item:last-child::after {\n",
              "  align-self: flex-start;\n",
              "  width: 50%;\n",
              "}\n",
              "\n",
              "#sk-container-id-5 div.sk-parallel-item:only-child::after {\n",
              "  width: 0;\n",
              "}\n",
              "\n",
              "/* Serial-specific style estimator block */\n",
              "\n",
              "#sk-container-id-5 div.sk-serial {\n",
              "  display: flex;\n",
              "  flex-direction: column;\n",
              "  align-items: center;\n",
              "  background-color: var(--sklearn-color-background);\n",
              "  padding-right: 1em;\n",
              "  padding-left: 1em;\n",
              "}\n",
              "\n",
              "\n",
              "/* Toggleable style: style used for estimator/Pipeline/ColumnTransformer box that is\n",
              "clickable and can be expanded/collapsed.\n",
              "- Pipeline and ColumnTransformer use this feature and define the default style\n",
              "- Estimators will overwrite some part of the style using the `sk-estimator` class\n",
              "*/\n",
              "\n",
              "/* Pipeline and ColumnTransformer style (default) */\n",
              "\n",
              "#sk-container-id-5 div.sk-toggleable {\n",
              "  /* Default theme specific background. It is overwritten whether we have a\n",
              "  specific estimator or a Pipeline/ColumnTransformer */\n",
              "  background-color: var(--sklearn-color-background);\n",
              "}\n",
              "\n",
              "/* Toggleable label */\n",
              "#sk-container-id-5 label.sk-toggleable__label {\n",
              "  cursor: pointer;\n",
              "  display: flex;\n",
              "  width: 100%;\n",
              "  margin-bottom: 0;\n",
              "  padding: 0.5em;\n",
              "  box-sizing: border-box;\n",
              "  text-align: center;\n",
              "  align-items: start;\n",
              "  justify-content: space-between;\n",
              "  gap: 0.5em;\n",
              "}\n",
              "\n",
              "#sk-container-id-5 label.sk-toggleable__label .caption {\n",
              "  font-size: 0.6rem;\n",
              "  font-weight: lighter;\n",
              "  color: var(--sklearn-color-text-muted);\n",
              "}\n",
              "\n",
              "#sk-container-id-5 label.sk-toggleable__label-arrow:before {\n",
              "  /* Arrow on the left of the label */\n",
              "  content: \"▸\";\n",
              "  float: left;\n",
              "  margin-right: 0.25em;\n",
              "  color: var(--sklearn-color-icon);\n",
              "}\n",
              "\n",
              "#sk-container-id-5 label.sk-toggleable__label-arrow:hover:before {\n",
              "  color: var(--sklearn-color-text);\n",
              "}\n",
              "\n",
              "/* Toggleable content - dropdown */\n",
              "\n",
              "#sk-container-id-5 div.sk-toggleable__content {\n",
              "  max-height: 0;\n",
              "  max-width: 0;\n",
              "  overflow: hidden;\n",
              "  text-align: left;\n",
              "  /* unfitted */\n",
              "  background-color: var(--sklearn-color-unfitted-level-0);\n",
              "}\n",
              "\n",
              "#sk-container-id-5 div.sk-toggleable__content.fitted {\n",
              "  /* fitted */\n",
              "  background-color: var(--sklearn-color-fitted-level-0);\n",
              "}\n",
              "\n",
              "#sk-container-id-5 div.sk-toggleable__content pre {\n",
              "  margin: 0.2em;\n",
              "  border-radius: 0.25em;\n",
              "  color: var(--sklearn-color-text);\n",
              "  /* unfitted */\n",
              "  background-color: var(--sklearn-color-unfitted-level-0);\n",
              "}\n",
              "\n",
              "#sk-container-id-5 div.sk-toggleable__content.fitted pre {\n",
              "  /* unfitted */\n",
              "  background-color: var(--sklearn-color-fitted-level-0);\n",
              "}\n",
              "\n",
              "#sk-container-id-5 input.sk-toggleable__control:checked~div.sk-toggleable__content {\n",
              "  /* Expand drop-down */\n",
              "  max-height: 200px;\n",
              "  max-width: 100%;\n",
              "  overflow: auto;\n",
              "}\n",
              "\n",
              "#sk-container-id-5 input.sk-toggleable__control:checked~label.sk-toggleable__label-arrow:before {\n",
              "  content: \"▾\";\n",
              "}\n",
              "\n",
              "/* Pipeline/ColumnTransformer-specific style */\n",
              "\n",
              "#sk-container-id-5 div.sk-label input.sk-toggleable__control:checked~label.sk-toggleable__label {\n",
              "  color: var(--sklearn-color-text);\n",
              "  background-color: var(--sklearn-color-unfitted-level-2);\n",
              "}\n",
              "\n",
              "#sk-container-id-5 div.sk-label.fitted input.sk-toggleable__control:checked~label.sk-toggleable__label {\n",
              "  background-color: var(--sklearn-color-fitted-level-2);\n",
              "}\n",
              "\n",
              "/* Estimator-specific style */\n",
              "\n",
              "/* Colorize estimator box */\n",
              "#sk-container-id-5 div.sk-estimator input.sk-toggleable__control:checked~label.sk-toggleable__label {\n",
              "  /* unfitted */\n",
              "  background-color: var(--sklearn-color-unfitted-level-2);\n",
              "}\n",
              "\n",
              "#sk-container-id-5 div.sk-estimator.fitted input.sk-toggleable__control:checked~label.sk-toggleable__label {\n",
              "  /* fitted */\n",
              "  background-color: var(--sklearn-color-fitted-level-2);\n",
              "}\n",
              "\n",
              "#sk-container-id-5 div.sk-label label.sk-toggleable__label,\n",
              "#sk-container-id-5 div.sk-label label {\n",
              "  /* The background is the default theme color */\n",
              "  color: var(--sklearn-color-text-on-default-background);\n",
              "}\n",
              "\n",
              "/* On hover, darken the color of the background */\n",
              "#sk-container-id-5 div.sk-label:hover label.sk-toggleable__label {\n",
              "  color: var(--sklearn-color-text);\n",
              "  background-color: var(--sklearn-color-unfitted-level-2);\n",
              "}\n",
              "\n",
              "/* Label box, darken color on hover, fitted */\n",
              "#sk-container-id-5 div.sk-label.fitted:hover label.sk-toggleable__label.fitted {\n",
              "  color: var(--sklearn-color-text);\n",
              "  background-color: var(--sklearn-color-fitted-level-2);\n",
              "}\n",
              "\n",
              "/* Estimator label */\n",
              "\n",
              "#sk-container-id-5 div.sk-label label {\n",
              "  font-family: monospace;\n",
              "  font-weight: bold;\n",
              "  display: inline-block;\n",
              "  line-height: 1.2em;\n",
              "}\n",
              "\n",
              "#sk-container-id-5 div.sk-label-container {\n",
              "  text-align: center;\n",
              "}\n",
              "\n",
              "/* Estimator-specific */\n",
              "#sk-container-id-5 div.sk-estimator {\n",
              "  font-family: monospace;\n",
              "  border: 1px dotted var(--sklearn-color-border-box);\n",
              "  border-radius: 0.25em;\n",
              "  box-sizing: border-box;\n",
              "  margin-bottom: 0.5em;\n",
              "  /* unfitted */\n",
              "  background-color: var(--sklearn-color-unfitted-level-0);\n",
              "}\n",
              "\n",
              "#sk-container-id-5 div.sk-estimator.fitted {\n",
              "  /* fitted */\n",
              "  background-color: var(--sklearn-color-fitted-level-0);\n",
              "}\n",
              "\n",
              "/* on hover */\n",
              "#sk-container-id-5 div.sk-estimator:hover {\n",
              "  /* unfitted */\n",
              "  background-color: var(--sklearn-color-unfitted-level-2);\n",
              "}\n",
              "\n",
              "#sk-container-id-5 div.sk-estimator.fitted:hover {\n",
              "  /* fitted */\n",
              "  background-color: var(--sklearn-color-fitted-level-2);\n",
              "}\n",
              "\n",
              "/* Specification for estimator info (e.g. \"i\" and \"?\") */\n",
              "\n",
              "/* Common style for \"i\" and \"?\" */\n",
              "\n",
              ".sk-estimator-doc-link,\n",
              "a:link.sk-estimator-doc-link,\n",
              "a:visited.sk-estimator-doc-link {\n",
              "  float: right;\n",
              "  font-size: smaller;\n",
              "  line-height: 1em;\n",
              "  font-family: monospace;\n",
              "  background-color: var(--sklearn-color-background);\n",
              "  border-radius: 1em;\n",
              "  height: 1em;\n",
              "  width: 1em;\n",
              "  text-decoration: none !important;\n",
              "  margin-left: 0.5em;\n",
              "  text-align: center;\n",
              "  /* unfitted */\n",
              "  border: var(--sklearn-color-unfitted-level-1) 1pt solid;\n",
              "  color: var(--sklearn-color-unfitted-level-1);\n",
              "}\n",
              "\n",
              ".sk-estimator-doc-link.fitted,\n",
              "a:link.sk-estimator-doc-link.fitted,\n",
              "a:visited.sk-estimator-doc-link.fitted {\n",
              "  /* fitted */\n",
              "  border: var(--sklearn-color-fitted-level-1) 1pt solid;\n",
              "  color: var(--sklearn-color-fitted-level-1);\n",
              "}\n",
              "\n",
              "/* On hover */\n",
              "div.sk-estimator:hover .sk-estimator-doc-link:hover,\n",
              ".sk-estimator-doc-link:hover,\n",
              "div.sk-label-container:hover .sk-estimator-doc-link:hover,\n",
              ".sk-estimator-doc-link:hover {\n",
              "  /* unfitted */\n",
              "  background-color: var(--sklearn-color-unfitted-level-3);\n",
              "  color: var(--sklearn-color-background);\n",
              "  text-decoration: none;\n",
              "}\n",
              "\n",
              "div.sk-estimator.fitted:hover .sk-estimator-doc-link.fitted:hover,\n",
              ".sk-estimator-doc-link.fitted:hover,\n",
              "div.sk-label-container:hover .sk-estimator-doc-link.fitted:hover,\n",
              ".sk-estimator-doc-link.fitted:hover {\n",
              "  /* fitted */\n",
              "  background-color: var(--sklearn-color-fitted-level-3);\n",
              "  color: var(--sklearn-color-background);\n",
              "  text-decoration: none;\n",
              "}\n",
              "\n",
              "/* Span, style for the box shown on hovering the info icon */\n",
              ".sk-estimator-doc-link span {\n",
              "  display: none;\n",
              "  z-index: 9999;\n",
              "  position: relative;\n",
              "  font-weight: normal;\n",
              "  right: .2ex;\n",
              "  padding: .5ex;\n",
              "  margin: .5ex;\n",
              "  width: min-content;\n",
              "  min-width: 20ex;\n",
              "  max-width: 50ex;\n",
              "  color: var(--sklearn-color-text);\n",
              "  box-shadow: 2pt 2pt 4pt #999;\n",
              "  /* unfitted */\n",
              "  background: var(--sklearn-color-unfitted-level-0);\n",
              "  border: .5pt solid var(--sklearn-color-unfitted-level-3);\n",
              "}\n",
              "\n",
              ".sk-estimator-doc-link.fitted span {\n",
              "  /* fitted */\n",
              "  background: var(--sklearn-color-fitted-level-0);\n",
              "  border: var(--sklearn-color-fitted-level-3);\n",
              "}\n",
              "\n",
              ".sk-estimator-doc-link:hover span {\n",
              "  display: block;\n",
              "}\n",
              "\n",
              "/* \"?\"-specific style due to the `<a>` HTML tag */\n",
              "\n",
              "#sk-container-id-5 a.estimator_doc_link {\n",
              "  float: right;\n",
              "  font-size: 1rem;\n",
              "  line-height: 1em;\n",
              "  font-family: monospace;\n",
              "  background-color: var(--sklearn-color-background);\n",
              "  border-radius: 1rem;\n",
              "  height: 1rem;\n",
              "  width: 1rem;\n",
              "  text-decoration: none;\n",
              "  /* unfitted */\n",
              "  color: var(--sklearn-color-unfitted-level-1);\n",
              "  border: var(--sklearn-color-unfitted-level-1) 1pt solid;\n",
              "}\n",
              "\n",
              "#sk-container-id-5 a.estimator_doc_link.fitted {\n",
              "  /* fitted */\n",
              "  border: var(--sklearn-color-fitted-level-1) 1pt solid;\n",
              "  color: var(--sklearn-color-fitted-level-1);\n",
              "}\n",
              "\n",
              "/* On hover */\n",
              "#sk-container-id-5 a.estimator_doc_link:hover {\n",
              "  /* unfitted */\n",
              "  background-color: var(--sklearn-color-unfitted-level-3);\n",
              "  color: var(--sklearn-color-background);\n",
              "  text-decoration: none;\n",
              "}\n",
              "\n",
              "#sk-container-id-5 a.estimator_doc_link.fitted:hover {\n",
              "  /* fitted */\n",
              "  background-color: var(--sklearn-color-fitted-level-3);\n",
              "}\n",
              "</style><div id=\"sk-container-id-5\" class=\"sk-top-container\"><div class=\"sk-text-repr-fallback\"><pre>LGBMClassifier(colsample_bytree=0.9800372484455709,\n",
              "               learning_rate=0.08581405855203687, max_depth=3, metric=&#x27;auc&#x27;,\n",
              "               min_child_samples=78, n_estimators=729, n_jobs=-1, num_leaves=42,\n",
              "               objective=&#x27;binary&#x27;, random_state=42, reg_alpha=8.249660978537577,\n",
              "               reg_lambda=0.3415429882253782, subsample=0.8178782142132488)</pre><b>In a Jupyter environment, please rerun this cell to show the HTML representation or trust the notebook. <br />On GitHub, the HTML representation is unable to render, please try loading this page with nbviewer.org.</b></div><div class=\"sk-container\" hidden><div class=\"sk-item\"><div class=\"sk-estimator fitted sk-toggleable\"><input class=\"sk-toggleable__control sk-hidden--visually\" id=\"sk-estimator-id-5\" type=\"checkbox\" checked><label for=\"sk-estimator-id-5\" class=\"sk-toggleable__label fitted sk-toggleable__label-arrow\"><div><div>LGBMClassifier</div></div><div><span class=\"sk-estimator-doc-link fitted\">i<span>Fitted</span></span></div></label><div class=\"sk-toggleable__content fitted\"><pre>LGBMClassifier(colsample_bytree=0.9800372484455709,\n",
              "               learning_rate=0.08581405855203687, max_depth=3, metric=&#x27;auc&#x27;,\n",
              "               min_child_samples=78, n_estimators=729, n_jobs=-1, num_leaves=42,\n",
              "               objective=&#x27;binary&#x27;, random_state=42, reg_alpha=8.249660978537577,\n",
              "               reg_lambda=0.3415429882253782, subsample=0.8178782142132488)</pre></div> </div></div></div></div>"
            ]
          },
          "metadata": {},
          "execution_count": 99
        }
      ],
      "source": [
        "# 최적 하이퍼파라미터 확정\n",
        "best_params = study.best_params\n",
        "best_params['objective'] = 'binary'\n",
        "best_params['metric'] = 'auc'\n",
        "best_params['random_state'] = 42\n",
        "best_params['n_jobs'] = -1\n",
        "\n",
        "# 최종 모델 학습 (전체 X_train 사용)\n",
        "final_model = lgb.LGBMClassifier(**best_params)\n",
        "\n",
        "# 최종 학습 시에도 early stopping을 고려하고 싶다면\n",
        "# train set만으로는 어려우므로 별도의 validation set을 떼어두는 방식 권장\n",
        "final_model.fit(\n",
        "    X_train, y,\n",
        "    # eval_set=[(X_val, y_val)],  # 만약 별도의 검증 세트가 있다면\n",
        "    # early_stopping_rounds=50,\n",
        ")"
      ]
    },
    {
      "cell_type": "markdown",
      "metadata": {
        "id": "--7R5mrYV7CC"
      },
      "source": [
        "### Predict\n"
      ]
    },
    {
      "cell_type": "code",
      "source": [
        "# 테스트 데이터 예측\n",
        "pred_proba = final_model.predict_proba(X_test)[:, 1]"
      ],
      "metadata": {
        "id": "9V_ySOJ9Mvg_"
      },
      "execution_count": null,
      "outputs": []
    },
    {
      "cell_type": "markdown",
      "metadata": {
        "id": "WypI7oAqV7CC"
      },
      "source": [
        "### Submission\n"
      ]
    },
    {
      "cell_type": "code",
      "source": [
        "# 제출 파일 생성\n",
        "sample_submission = pd.read_csv('/content/drive/MyDrive/LG/sample_submission.csv')\n",
        "sample_submission['probability'] = pred_proba\n",
        "sample_submission.to_csv('./baseline_submit.csv', index=False)"
      ],
      "metadata": {
        "id": "z6KNMFewMvjs"
      },
      "execution_count": null,
      "outputs": []
    }
  ],
  "metadata": {
    "accelerator": "GPU",
    "colab": {
      "gpuType": "T4",
      "machine_shape": "hm",
      "provenance": []
    },
    "kernelspec": {
      "display_name": "Python 3",
      "name": "python3"
    },
    "language_info": {
      "codemirror_mode": {
        "name": "ipython",
        "version": 3
      },
      "file_extension": ".py",
      "mimetype": "text/x-python",
      "name": "python",
      "nbconvert_exporter": "python",
      "pygments_lexer": "ipython3",
      "version": "3.11.11"
    }
  },
  "nbformat": 4,
  "nbformat_minor": 0
}